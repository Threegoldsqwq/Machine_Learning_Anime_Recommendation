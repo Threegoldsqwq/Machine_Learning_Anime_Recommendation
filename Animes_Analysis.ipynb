{
 "cells": [
  {
   "cell_type": "markdown",
   "metadata": {},
   "source": [
    "# Machine Learning Animes Analysis Project\n",
    "\n",
    "### Author: Wuyang Dai, Zhucheng Pan, Yiran Shen, Ruixin Zhang\n",
    "\n",
    "Original Dataset Source: SAJID. (2023). Anime Dataset 2023. Kaggle. https://www.kaggle.com/datasets/dbdmobile/myanimelist-dataset?resource=download&select=anime-dataset-2023.csv\n",
    "\n",
    "\n",
    "Modified Dataset: https://raw.githubusercontent.com/Threegoldsqwq/Machine_Learning_Animes_Analysis/main/anime-dataset-2023.csv"
   ]
  },
  {
   "cell_type": "markdown",
   "metadata": {},
   "source": [
    "# Anime Dataset 2023 Description\n",
    "\n",
    "**Attributes for Anime Dataset 2023:**\n",
    "\n",
    "1. anime_id: Unique ID for each anime.\n",
    "\n",
    "2. Name: The name of the anime in its original language.\n",
    "\n",
    "3. English name: The English name of the anime.\n",
    "\n",
    "4. Other name: Native name or title of the anime(can be in Japanese, Chinese or Korean).\n",
    "\n",
    "5. Score: The score or rating given to the anime.\n",
    "\n",
    "6. Genres: The genres of the anime, separated by commas.\n",
    "\n",
    "7. Synopsis: A brief description or summary of the anime's plot.\n",
    "\n",
    "8. Type: The type of the anime (e.g., TV series, movie, OVA, etc.).\n",
    "\n",
    "9. Episodes: The number of episodes in the anime.\n",
    "\n",
    "10. Aired: The dates when the anime was aired.\n",
    "\n",
    "11. Premiered: The season and year when the anime premiered.\n",
    "\n",
    "12. Status: The status of the anime (e.g., Finished Airing, Currently Airing, etc.).\n",
    "\n",
    "13. Producers: The production companies or producers of the anime.\n",
    "\n",
    "14. Licensors: The licensors of the anime (e.g., streaming platforms).\n",
    "\n",
    "15. Studios: The animation studios that worked on the anime.\n",
    "\n",
    "16. Source: The source material of the anime (e.g., manga, light novel, original).\n",
    "\n",
    "17. Duration: The duration of each episode.\n",
    "\n",
    "18. Rating: The age rating of the anime.\n",
    "\n",
    "19. Rank: The rank of the anime based on popularity or other criteria.\n",
    "\n",
    "20. Popularity: The popularity rank of the anime.\n",
    "\n",
    "21. Favorites: The number of times the anime was marked as a favorite by users.\n",
    "\n",
    "22. Scored By: The number of users who scored the anime.\n",
    "\n",
    "23. Members: The number of members who have added the anime to their list on the platform.\n",
    "\n",
    "24. Image URL: The URL of the anime's image or poster.\n",
    "\n",
    "**Missing values:**\n",
    "- English name: 14577\n",
    "- Other name:128\n",
    "- Score: 9213\n",
    "- Genres: 4929\n",
    "- Type: 74\n",
    "- Episodes: 611\n",
    "- Premiered: 19399\n",
    "- Producers: 13350\n",
    "- Licensors: 20170\n",
    "- Studios: 10526\n",
    "- Source:3689\n",
    "- Duration: 663\n",
    "- Rating: 669\n",
    "- Rank: 4612\n",
    "- Scored By: 9213\n"
   ]
  },
  {
   "cell_type": "markdown",
   "metadata": {},
   "source": [
    "# 1- Look at the big picture"
   ]
  },
  {
   "cell_type": "markdown",
   "metadata": {},
   "source": [
    "### Frame the problem\n",
    "1. Supervised learning – training examples are labeled.\n",
    "2. A classification task – predict a categorical data (genre of anime).\n",
    "3. Batch learning \n",
    "   - Small data set (after clean up)\n",
    "   - No continuous flow of data coming into the system\n",
    "   - No need to adjust to changing data rapidly\n",
    "\n",
    "### Look at the big picture\n",
    "Task: Using anime data to predict popular anime genres in the future.\n",
    "\n",
    "The result will help anime producers to decide which kind of anime should they make or which novel/manga should be animated"
   ]
  },
  {
   "cell_type": "code",
   "execution_count": 33,
   "metadata": {},
   "outputs": [],
   "source": [
    "# Import libraries\n",
    "\n",
    "import sklearn\n",
    "import numpy as np\n",
    "import pandas as pd\n",
    "import matplotlib.pyplot as plt\n",
    "import seaborn as sns"
   ]
  },
  {
   "cell_type": "markdown",
   "metadata": {},
   "source": [
    "# 2- Load the data"
   ]
  },
  {
   "cell_type": "code",
   "execution_count": 34,
   "metadata": {},
   "outputs": [],
   "source": [
    "# Load the dataset from github\n",
    "url = \"https://raw.githubusercontent.com/Threegoldsqwq/Machine_Learning_Animes_Analysis/main/anime-dataset-2023.csv\"\n",
    "animes = pd.read_csv(url, sep=',')\n",
    "\n",
    "# create a backup copy of the dataset\n",
    "animes_backup = animes"
   ]
  },
  {
   "cell_type": "markdown",
   "metadata": {},
   "source": [
    "### 2.1 Take a quick look at the data structure"
   ]
  },
  {
   "cell_type": "markdown",
   "metadata": {},
   "source": [
    "We will first replace \"UNKNOWN\" variables to NaN and drop the \"anime_id\" column to make our life easier\n",
    "\n",
    "(//delete later, for convenient)\n",
    "https://pandas.pydata.org/docs/reference/frame.html#computations-descriptive-stats\n",
    "\n",
    "https://pandas.pydata.org/docs/reference/api/pandas.DataFrame.astype.html\n",
    "\n",
    "https://sentry.io/answers/change-a-column-type-in-a-dataframe-in-python-pandas/"
   ]
  },
  {
   "cell_type": "code",
   "execution_count": 35,
   "metadata": {},
   "outputs": [
    {
     "data": {
      "text/plain": [
       "<pandas._config.config.option_context at 0x2c3d0460e00>"
      ]
     },
     "execution_count": 35,
     "metadata": {},
     "output_type": "execute_result"
    }
   ],
   "source": [
    "# Replace \"UNKNOWN\" (as well as \"Unknown\") labels to NaN\n",
    "animes = animes.replace('UNKNOWN', np.nan)\n",
    "animes = animes.replace('Unknown', np.nan)\n",
    "# FutureWarning: use_inf_as_na option is deprecated and will be removed in a future version. Convert inf values to NaN before operating instead. with pd.option_context('mode.use_inf_as_na', True)\n",
    "pd.option_context('mode.use_inf_as_na', True)"
   ]
  },
  {
   "cell_type": "code",
   "execution_count": 36,
   "metadata": {},
   "outputs": [],
   "source": [
    "# drop the id column\n",
    "# do not rerun this code unless you rerun the whole thing\n",
    "animes.drop(labels=['anime_id'], axis=1, inplace=True)"
   ]
  },
  {
   "cell_type": "markdown",
   "metadata": {},
   "source": [
    "Lets take a look at the whole dataset, we can see that there is 24905 rows and 24 columns"
   ]
  },
  {
   "cell_type": "code",
   "execution_count": 37,
   "metadata": {},
   "outputs": [
    {
     "data": {
      "text/html": [
       "<div>\n",
       "<style scoped>\n",
       "    .dataframe tbody tr th:only-of-type {\n",
       "        vertical-align: middle;\n",
       "    }\n",
       "\n",
       "    .dataframe tbody tr th {\n",
       "        vertical-align: top;\n",
       "    }\n",
       "\n",
       "    .dataframe thead th {\n",
       "        text-align: right;\n",
       "    }\n",
       "</style>\n",
       "<table border=\"1\" class=\"dataframe\">\n",
       "  <thead>\n",
       "    <tr style=\"text-align: right;\">\n",
       "      <th></th>\n",
       "      <th>Name</th>\n",
       "      <th>English name</th>\n",
       "      <th>Other name</th>\n",
       "      <th>Score</th>\n",
       "      <th>Genres</th>\n",
       "      <th>Synopsis</th>\n",
       "      <th>Type</th>\n",
       "      <th>Episodes</th>\n",
       "      <th>Aired</th>\n",
       "      <th>Premiered</th>\n",
       "      <th>...</th>\n",
       "      <th>Studios</th>\n",
       "      <th>Source</th>\n",
       "      <th>Duration</th>\n",
       "      <th>Rating</th>\n",
       "      <th>Rank</th>\n",
       "      <th>Popularity</th>\n",
       "      <th>Favorites</th>\n",
       "      <th>Scored By</th>\n",
       "      <th>Members</th>\n",
       "      <th>Image URL</th>\n",
       "    </tr>\n",
       "  </thead>\n",
       "  <tbody>\n",
       "    <tr>\n",
       "      <th>0</th>\n",
       "      <td>Cowboy Bebop</td>\n",
       "      <td>Cowboy Bebop</td>\n",
       "      <td>カウボーイビバップ</td>\n",
       "      <td>8.75</td>\n",
       "      <td>Action, Award Winning, Sci-Fi</td>\n",
       "      <td>Crime is timeless. By the year 2071, humanity ...</td>\n",
       "      <td>TV</td>\n",
       "      <td>26.0</td>\n",
       "      <td>Apr 3, 1998 to Apr 24, 1999</td>\n",
       "      <td>spring 1998</td>\n",
       "      <td>...</td>\n",
       "      <td>Sunrise</td>\n",
       "      <td>Original</td>\n",
       "      <td>24 min per ep</td>\n",
       "      <td>R - 17+ (violence &amp; profanity)</td>\n",
       "      <td>41.0</td>\n",
       "      <td>43</td>\n",
       "      <td>78525</td>\n",
       "      <td>914193.0</td>\n",
       "      <td>1771505</td>\n",
       "      <td>https://cdn.myanimelist.net/images/anime/4/196...</td>\n",
       "    </tr>\n",
       "    <tr>\n",
       "      <th>1</th>\n",
       "      <td>Cowboy Bebop: Tengoku no Tobira</td>\n",
       "      <td>Cowboy Bebop: The Movie</td>\n",
       "      <td>カウボーイビバップ 天国の扉</td>\n",
       "      <td>8.38</td>\n",
       "      <td>Action, Sci-Fi</td>\n",
       "      <td>Another day, another bounty—such is the life o...</td>\n",
       "      <td>Movie</td>\n",
       "      <td>1.0</td>\n",
       "      <td>Sep 1, 2001</td>\n",
       "      <td>NaN</td>\n",
       "      <td>...</td>\n",
       "      <td>Bones</td>\n",
       "      <td>Original</td>\n",
       "      <td>1 hr 55 min</td>\n",
       "      <td>R - 17+ (violence &amp; profanity)</td>\n",
       "      <td>189.0</td>\n",
       "      <td>602</td>\n",
       "      <td>1448</td>\n",
       "      <td>206248.0</td>\n",
       "      <td>360978</td>\n",
       "      <td>https://cdn.myanimelist.net/images/anime/1439/...</td>\n",
       "    </tr>\n",
       "    <tr>\n",
       "      <th>2</th>\n",
       "      <td>Trigun</td>\n",
       "      <td>Trigun</td>\n",
       "      <td>トライガン</td>\n",
       "      <td>8.22</td>\n",
       "      <td>Action, Adventure, Sci-Fi</td>\n",
       "      <td>Vash the Stampede is the man with a $$60,000,0...</td>\n",
       "      <td>TV</td>\n",
       "      <td>26.0</td>\n",
       "      <td>Apr 1, 1998 to Sep 30, 1998</td>\n",
       "      <td>spring 1998</td>\n",
       "      <td>...</td>\n",
       "      <td>Madhouse</td>\n",
       "      <td>Manga</td>\n",
       "      <td>24 min per ep</td>\n",
       "      <td>PG-13 - Teens 13 or older</td>\n",
       "      <td>328.0</td>\n",
       "      <td>246</td>\n",
       "      <td>15035</td>\n",
       "      <td>356739.0</td>\n",
       "      <td>727252</td>\n",
       "      <td>https://cdn.myanimelist.net/images/anime/7/203...</td>\n",
       "    </tr>\n",
       "    <tr>\n",
       "      <th>3</th>\n",
       "      <td>Witch Hunter Robin</td>\n",
       "      <td>Witch Hunter Robin</td>\n",
       "      <td>Witch Hunter ROBIN (ウイッチハンターロビン)</td>\n",
       "      <td>7.25</td>\n",
       "      <td>Action, Drama, Mystery, Supernatural</td>\n",
       "      <td>Robin Sena is a powerful craft user drafted in...</td>\n",
       "      <td>TV</td>\n",
       "      <td>26.0</td>\n",
       "      <td>Jul 3, 2002 to Dec 25, 2002</td>\n",
       "      <td>summer 2002</td>\n",
       "      <td>...</td>\n",
       "      <td>Sunrise</td>\n",
       "      <td>Original</td>\n",
       "      <td>25 min per ep</td>\n",
       "      <td>PG-13 - Teens 13 or older</td>\n",
       "      <td>2764.0</td>\n",
       "      <td>1795</td>\n",
       "      <td>613</td>\n",
       "      <td>42829.0</td>\n",
       "      <td>111931</td>\n",
       "      <td>https://cdn.myanimelist.net/images/anime/10/19...</td>\n",
       "    </tr>\n",
       "    <tr>\n",
       "      <th>4</th>\n",
       "      <td>Bouken Ou Beet</td>\n",
       "      <td>Beet the Vandel Buster</td>\n",
       "      <td>冒険王ビィト</td>\n",
       "      <td>6.94</td>\n",
       "      <td>Adventure, Fantasy, Supernatural</td>\n",
       "      <td>It is the dark century and the people are suff...</td>\n",
       "      <td>TV</td>\n",
       "      <td>52.0</td>\n",
       "      <td>Sep 30, 2004 to Sep 29, 2005</td>\n",
       "      <td>fall 2004</td>\n",
       "      <td>...</td>\n",
       "      <td>Toei Animation</td>\n",
       "      <td>Manga</td>\n",
       "      <td>23 min per ep</td>\n",
       "      <td>PG - Children</td>\n",
       "      <td>4240.0</td>\n",
       "      <td>5126</td>\n",
       "      <td>14</td>\n",
       "      <td>6413.0</td>\n",
       "      <td>15001</td>\n",
       "      <td>https://cdn.myanimelist.net/images/anime/7/215...</td>\n",
       "    </tr>\n",
       "    <tr>\n",
       "      <th>...</th>\n",
       "      <td>...</td>\n",
       "      <td>...</td>\n",
       "      <td>...</td>\n",
       "      <td>...</td>\n",
       "      <td>...</td>\n",
       "      <td>...</td>\n",
       "      <td>...</td>\n",
       "      <td>...</td>\n",
       "      <td>...</td>\n",
       "      <td>...</td>\n",
       "      <td>...</td>\n",
       "      <td>...</td>\n",
       "      <td>...</td>\n",
       "      <td>...</td>\n",
       "      <td>...</td>\n",
       "      <td>...</td>\n",
       "      <td>...</td>\n",
       "      <td>...</td>\n",
       "      <td>...</td>\n",
       "      <td>...</td>\n",
       "      <td>...</td>\n",
       "    </tr>\n",
       "    <tr>\n",
       "      <th>24900</th>\n",
       "      <td>Wu Nao Monu</td>\n",
       "      <td>NaN</td>\n",
       "      <td>无脑魔女</td>\n",
       "      <td>NaN</td>\n",
       "      <td>Comedy, Fantasy, Slice of Life</td>\n",
       "      <td>No description available for this anime.</td>\n",
       "      <td>ONA</td>\n",
       "      <td>15.0</td>\n",
       "      <td>Jul 4, 2023 to ?</td>\n",
       "      <td>NaN</td>\n",
       "      <td>...</td>\n",
       "      <td>NaN</td>\n",
       "      <td>Web manga</td>\n",
       "      <td>NaN</td>\n",
       "      <td>PG-13 - Teens 13 or older</td>\n",
       "      <td>NaN</td>\n",
       "      <td>24723</td>\n",
       "      <td>0</td>\n",
       "      <td>NaN</td>\n",
       "      <td>0</td>\n",
       "      <td>https://cdn.myanimelist.net/images/anime/1386/...</td>\n",
       "    </tr>\n",
       "    <tr>\n",
       "      <th>24901</th>\n",
       "      <td>Bu Xing Si: Yuan Qi</td>\n",
       "      <td>Blader Soul</td>\n",
       "      <td>捕星司·源起</td>\n",
       "      <td>NaN</td>\n",
       "      <td>Action, Adventure, Fantasy</td>\n",
       "      <td>No description available for this anime.</td>\n",
       "      <td>ONA</td>\n",
       "      <td>18.0</td>\n",
       "      <td>Jul 27, 2023 to ?</td>\n",
       "      <td>NaN</td>\n",
       "      <td>...</td>\n",
       "      <td>NaN</td>\n",
       "      <td>Web novel</td>\n",
       "      <td>NaN</td>\n",
       "      <td>PG-13 - Teens 13 or older</td>\n",
       "      <td>0.0</td>\n",
       "      <td>0</td>\n",
       "      <td>0</td>\n",
       "      <td>NaN</td>\n",
       "      <td>0</td>\n",
       "      <td>https://cdn.myanimelist.net/images/anime/1383/...</td>\n",
       "    </tr>\n",
       "    <tr>\n",
       "      <th>24902</th>\n",
       "      <td>Di Yi Xulie</td>\n",
       "      <td>The First Order</td>\n",
       "      <td>第一序列</td>\n",
       "      <td>NaN</td>\n",
       "      <td>Action, Adventure, Fantasy, Sci-Fi</td>\n",
       "      <td>No description available for this anime.</td>\n",
       "      <td>ONA</td>\n",
       "      <td>16.0</td>\n",
       "      <td>Jul 19, 2023 to ?</td>\n",
       "      <td>NaN</td>\n",
       "      <td>...</td>\n",
       "      <td>NaN</td>\n",
       "      <td>Web novel</td>\n",
       "      <td>NaN</td>\n",
       "      <td>PG-13 - Teens 13 or older</td>\n",
       "      <td>0.0</td>\n",
       "      <td>0</td>\n",
       "      <td>0</td>\n",
       "      <td>NaN</td>\n",
       "      <td>0</td>\n",
       "      <td>https://cdn.myanimelist.net/images/anime/1130/...</td>\n",
       "    </tr>\n",
       "    <tr>\n",
       "      <th>24903</th>\n",
       "      <td>Bokura no Saishuu Sensou</td>\n",
       "      <td>NaN</td>\n",
       "      <td>僕らの最終戦争</td>\n",
       "      <td>NaN</td>\n",
       "      <td>NaN</td>\n",
       "      <td>A music video for the song Bokura no Saishuu S...</td>\n",
       "      <td>Music</td>\n",
       "      <td>1.0</td>\n",
       "      <td>Apr 23, 2022</td>\n",
       "      <td>NaN</td>\n",
       "      <td>...</td>\n",
       "      <td>NaN</td>\n",
       "      <td>Original</td>\n",
       "      <td>3 min</td>\n",
       "      <td>PG-13 - Teens 13 or older</td>\n",
       "      <td>0.0</td>\n",
       "      <td>0</td>\n",
       "      <td>0</td>\n",
       "      <td>NaN</td>\n",
       "      <td>0</td>\n",
       "      <td>https://cdn.myanimelist.net/images/anime/1931/...</td>\n",
       "    </tr>\n",
       "    <tr>\n",
       "      <th>24904</th>\n",
       "      <td>Shijuuku Nichi</td>\n",
       "      <td>NaN</td>\n",
       "      <td>四十九日</td>\n",
       "      <td>NaN</td>\n",
       "      <td>NaN</td>\n",
       "      <td>A music video for the song Shijuuku Nichi by S...</td>\n",
       "      <td>Music</td>\n",
       "      <td>1.0</td>\n",
       "      <td>Sep 5, 2022</td>\n",
       "      <td>NaN</td>\n",
       "      <td>...</td>\n",
       "      <td>NaN</td>\n",
       "      <td>Original</td>\n",
       "      <td>3 min</td>\n",
       "      <td>PG-13 - Teens 13 or older</td>\n",
       "      <td>0.0</td>\n",
       "      <td>0</td>\n",
       "      <td>0</td>\n",
       "      <td>NaN</td>\n",
       "      <td>0</td>\n",
       "      <td>https://cdn.myanimelist.net/images/anime/1902/...</td>\n",
       "    </tr>\n",
       "  </tbody>\n",
       "</table>\n",
       "<p>24905 rows × 23 columns</p>\n",
       "</div>"
      ],
      "text/plain": [
       "                                  Name             English name  \\\n",
       "0                         Cowboy Bebop             Cowboy Bebop   \n",
       "1      Cowboy Bebop: Tengoku no Tobira  Cowboy Bebop: The Movie   \n",
       "2                               Trigun                   Trigun   \n",
       "3                   Witch Hunter Robin       Witch Hunter Robin   \n",
       "4                       Bouken Ou Beet   Beet the Vandel Buster   \n",
       "...                                ...                      ...   \n",
       "24900                      Wu Nao Monu                      NaN   \n",
       "24901              Bu Xing Si: Yuan Qi              Blader Soul   \n",
       "24902                      Di Yi Xulie          The First Order   \n",
       "24903         Bokura no Saishuu Sensou                      NaN   \n",
       "24904                   Shijuuku Nichi                      NaN   \n",
       "\n",
       "                             Other name Score  \\\n",
       "0                             カウボーイビバップ  8.75   \n",
       "1                        カウボーイビバップ 天国の扉  8.38   \n",
       "2                                 トライガン  8.22   \n",
       "3      Witch Hunter ROBIN (ウイッチハンターロビン)  7.25   \n",
       "4                                冒険王ビィト  6.94   \n",
       "...                                 ...   ...   \n",
       "24900                              无脑魔女   NaN   \n",
       "24901                            捕星司·源起   NaN   \n",
       "24902                              第一序列   NaN   \n",
       "24903                           僕らの最終戦争   NaN   \n",
       "24904                              四十九日   NaN   \n",
       "\n",
       "                                     Genres  \\\n",
       "0             Action, Award Winning, Sci-Fi   \n",
       "1                            Action, Sci-Fi   \n",
       "2                 Action, Adventure, Sci-Fi   \n",
       "3      Action, Drama, Mystery, Supernatural   \n",
       "4          Adventure, Fantasy, Supernatural   \n",
       "...                                     ...   \n",
       "24900        Comedy, Fantasy, Slice of Life   \n",
       "24901            Action, Adventure, Fantasy   \n",
       "24902    Action, Adventure, Fantasy, Sci-Fi   \n",
       "24903                                   NaN   \n",
       "24904                                   NaN   \n",
       "\n",
       "                                                Synopsis   Type Episodes  \\\n",
       "0      Crime is timeless. By the year 2071, humanity ...     TV     26.0   \n",
       "1      Another day, another bounty—such is the life o...  Movie      1.0   \n",
       "2      Vash the Stampede is the man with a $$60,000,0...     TV     26.0   \n",
       "3      Robin Sena is a powerful craft user drafted in...     TV     26.0   \n",
       "4      It is the dark century and the people are suff...     TV     52.0   \n",
       "...                                                  ...    ...      ...   \n",
       "24900           No description available for this anime.    ONA     15.0   \n",
       "24901           No description available for this anime.    ONA     18.0   \n",
       "24902           No description available for this anime.    ONA     16.0   \n",
       "24903  A music video for the song Bokura no Saishuu S...  Music      1.0   \n",
       "24904  A music video for the song Shijuuku Nichi by S...  Music      1.0   \n",
       "\n",
       "                              Aired    Premiered  ...         Studios  \\\n",
       "0       Apr 3, 1998 to Apr 24, 1999  spring 1998  ...         Sunrise   \n",
       "1                       Sep 1, 2001          NaN  ...           Bones   \n",
       "2       Apr 1, 1998 to Sep 30, 1998  spring 1998  ...        Madhouse   \n",
       "3       Jul 3, 2002 to Dec 25, 2002  summer 2002  ...         Sunrise   \n",
       "4      Sep 30, 2004 to Sep 29, 2005    fall 2004  ...  Toei Animation   \n",
       "...                             ...          ...  ...             ...   \n",
       "24900              Jul 4, 2023 to ?          NaN  ...             NaN   \n",
       "24901             Jul 27, 2023 to ?          NaN  ...             NaN   \n",
       "24902             Jul 19, 2023 to ?          NaN  ...             NaN   \n",
       "24903                  Apr 23, 2022          NaN  ...             NaN   \n",
       "24904                   Sep 5, 2022          NaN  ...             NaN   \n",
       "\n",
       "          Source       Duration                          Rating    Rank  \\\n",
       "0       Original  24 min per ep  R - 17+ (violence & profanity)    41.0   \n",
       "1       Original    1 hr 55 min  R - 17+ (violence & profanity)   189.0   \n",
       "2          Manga  24 min per ep       PG-13 - Teens 13 or older   328.0   \n",
       "3       Original  25 min per ep       PG-13 - Teens 13 or older  2764.0   \n",
       "4          Manga  23 min per ep                   PG - Children  4240.0   \n",
       "...          ...            ...                             ...     ...   \n",
       "24900  Web manga            NaN       PG-13 - Teens 13 or older     NaN   \n",
       "24901  Web novel            NaN       PG-13 - Teens 13 or older     0.0   \n",
       "24902  Web novel            NaN       PG-13 - Teens 13 or older     0.0   \n",
       "24903   Original          3 min       PG-13 - Teens 13 or older     0.0   \n",
       "24904   Original          3 min       PG-13 - Teens 13 or older     0.0   \n",
       "\n",
       "      Popularity Favorites Scored By  Members  \\\n",
       "0             43     78525  914193.0  1771505   \n",
       "1            602      1448  206248.0   360978   \n",
       "2            246     15035  356739.0   727252   \n",
       "3           1795       613   42829.0   111931   \n",
       "4           5126        14    6413.0    15001   \n",
       "...          ...       ...       ...      ...   \n",
       "24900      24723         0       NaN        0   \n",
       "24901          0         0       NaN        0   \n",
       "24902          0         0       NaN        0   \n",
       "24903          0         0       NaN        0   \n",
       "24904          0         0       NaN        0   \n",
       "\n",
       "                                               Image URL  \n",
       "0      https://cdn.myanimelist.net/images/anime/4/196...  \n",
       "1      https://cdn.myanimelist.net/images/anime/1439/...  \n",
       "2      https://cdn.myanimelist.net/images/anime/7/203...  \n",
       "3      https://cdn.myanimelist.net/images/anime/10/19...  \n",
       "4      https://cdn.myanimelist.net/images/anime/7/215...  \n",
       "...                                                  ...  \n",
       "24900  https://cdn.myanimelist.net/images/anime/1386/...  \n",
       "24901  https://cdn.myanimelist.net/images/anime/1383/...  \n",
       "24902  https://cdn.myanimelist.net/images/anime/1130/...  \n",
       "24903  https://cdn.myanimelist.net/images/anime/1931/...  \n",
       "24904  https://cdn.myanimelist.net/images/anime/1902/...  \n",
       "\n",
       "[24905 rows x 23 columns]"
      ]
     },
     "execution_count": 37,
     "metadata": {},
     "output_type": "execute_result"
    }
   ],
   "source": [
    "animes"
   ]
  },
  {
   "cell_type": "markdown",
   "metadata": {},
   "source": [
    "### Use head() to look at the first 5 rows."
   ]
  },
  {
   "cell_type": "code",
   "execution_count": 38,
   "metadata": {},
   "outputs": [
    {
     "data": {
      "text/html": [
       "<div>\n",
       "<style scoped>\n",
       "    .dataframe tbody tr th:only-of-type {\n",
       "        vertical-align: middle;\n",
       "    }\n",
       "\n",
       "    .dataframe tbody tr th {\n",
       "        vertical-align: top;\n",
       "    }\n",
       "\n",
       "    .dataframe thead th {\n",
       "        text-align: right;\n",
       "    }\n",
       "</style>\n",
       "<table border=\"1\" class=\"dataframe\">\n",
       "  <thead>\n",
       "    <tr style=\"text-align: right;\">\n",
       "      <th></th>\n",
       "      <th>Name</th>\n",
       "      <th>English name</th>\n",
       "      <th>Other name</th>\n",
       "      <th>Score</th>\n",
       "      <th>Genres</th>\n",
       "      <th>Synopsis</th>\n",
       "      <th>Type</th>\n",
       "      <th>Episodes</th>\n",
       "      <th>Aired</th>\n",
       "      <th>Premiered</th>\n",
       "      <th>...</th>\n",
       "      <th>Studios</th>\n",
       "      <th>Source</th>\n",
       "      <th>Duration</th>\n",
       "      <th>Rating</th>\n",
       "      <th>Rank</th>\n",
       "      <th>Popularity</th>\n",
       "      <th>Favorites</th>\n",
       "      <th>Scored By</th>\n",
       "      <th>Members</th>\n",
       "      <th>Image URL</th>\n",
       "    </tr>\n",
       "  </thead>\n",
       "  <tbody>\n",
       "    <tr>\n",
       "      <th>0</th>\n",
       "      <td>Cowboy Bebop</td>\n",
       "      <td>Cowboy Bebop</td>\n",
       "      <td>カウボーイビバップ</td>\n",
       "      <td>8.75</td>\n",
       "      <td>Action, Award Winning, Sci-Fi</td>\n",
       "      <td>Crime is timeless. By the year 2071, humanity ...</td>\n",
       "      <td>TV</td>\n",
       "      <td>26.0</td>\n",
       "      <td>Apr 3, 1998 to Apr 24, 1999</td>\n",
       "      <td>spring 1998</td>\n",
       "      <td>...</td>\n",
       "      <td>Sunrise</td>\n",
       "      <td>Original</td>\n",
       "      <td>24 min per ep</td>\n",
       "      <td>R - 17+ (violence &amp; profanity)</td>\n",
       "      <td>41.0</td>\n",
       "      <td>43</td>\n",
       "      <td>78525</td>\n",
       "      <td>914193.0</td>\n",
       "      <td>1771505</td>\n",
       "      <td>https://cdn.myanimelist.net/images/anime/4/196...</td>\n",
       "    </tr>\n",
       "    <tr>\n",
       "      <th>1</th>\n",
       "      <td>Cowboy Bebop: Tengoku no Tobira</td>\n",
       "      <td>Cowboy Bebop: The Movie</td>\n",
       "      <td>カウボーイビバップ 天国の扉</td>\n",
       "      <td>8.38</td>\n",
       "      <td>Action, Sci-Fi</td>\n",
       "      <td>Another day, another bounty—such is the life o...</td>\n",
       "      <td>Movie</td>\n",
       "      <td>1.0</td>\n",
       "      <td>Sep 1, 2001</td>\n",
       "      <td>NaN</td>\n",
       "      <td>...</td>\n",
       "      <td>Bones</td>\n",
       "      <td>Original</td>\n",
       "      <td>1 hr 55 min</td>\n",
       "      <td>R - 17+ (violence &amp; profanity)</td>\n",
       "      <td>189.0</td>\n",
       "      <td>602</td>\n",
       "      <td>1448</td>\n",
       "      <td>206248.0</td>\n",
       "      <td>360978</td>\n",
       "      <td>https://cdn.myanimelist.net/images/anime/1439/...</td>\n",
       "    </tr>\n",
       "    <tr>\n",
       "      <th>2</th>\n",
       "      <td>Trigun</td>\n",
       "      <td>Trigun</td>\n",
       "      <td>トライガン</td>\n",
       "      <td>8.22</td>\n",
       "      <td>Action, Adventure, Sci-Fi</td>\n",
       "      <td>Vash the Stampede is the man with a $$60,000,0...</td>\n",
       "      <td>TV</td>\n",
       "      <td>26.0</td>\n",
       "      <td>Apr 1, 1998 to Sep 30, 1998</td>\n",
       "      <td>spring 1998</td>\n",
       "      <td>...</td>\n",
       "      <td>Madhouse</td>\n",
       "      <td>Manga</td>\n",
       "      <td>24 min per ep</td>\n",
       "      <td>PG-13 - Teens 13 or older</td>\n",
       "      <td>328.0</td>\n",
       "      <td>246</td>\n",
       "      <td>15035</td>\n",
       "      <td>356739.0</td>\n",
       "      <td>727252</td>\n",
       "      <td>https://cdn.myanimelist.net/images/anime/7/203...</td>\n",
       "    </tr>\n",
       "    <tr>\n",
       "      <th>3</th>\n",
       "      <td>Witch Hunter Robin</td>\n",
       "      <td>Witch Hunter Robin</td>\n",
       "      <td>Witch Hunter ROBIN (ウイッチハンターロビン)</td>\n",
       "      <td>7.25</td>\n",
       "      <td>Action, Drama, Mystery, Supernatural</td>\n",
       "      <td>Robin Sena is a powerful craft user drafted in...</td>\n",
       "      <td>TV</td>\n",
       "      <td>26.0</td>\n",
       "      <td>Jul 3, 2002 to Dec 25, 2002</td>\n",
       "      <td>summer 2002</td>\n",
       "      <td>...</td>\n",
       "      <td>Sunrise</td>\n",
       "      <td>Original</td>\n",
       "      <td>25 min per ep</td>\n",
       "      <td>PG-13 - Teens 13 or older</td>\n",
       "      <td>2764.0</td>\n",
       "      <td>1795</td>\n",
       "      <td>613</td>\n",
       "      <td>42829.0</td>\n",
       "      <td>111931</td>\n",
       "      <td>https://cdn.myanimelist.net/images/anime/10/19...</td>\n",
       "    </tr>\n",
       "    <tr>\n",
       "      <th>4</th>\n",
       "      <td>Bouken Ou Beet</td>\n",
       "      <td>Beet the Vandel Buster</td>\n",
       "      <td>冒険王ビィト</td>\n",
       "      <td>6.94</td>\n",
       "      <td>Adventure, Fantasy, Supernatural</td>\n",
       "      <td>It is the dark century and the people are suff...</td>\n",
       "      <td>TV</td>\n",
       "      <td>52.0</td>\n",
       "      <td>Sep 30, 2004 to Sep 29, 2005</td>\n",
       "      <td>fall 2004</td>\n",
       "      <td>...</td>\n",
       "      <td>Toei Animation</td>\n",
       "      <td>Manga</td>\n",
       "      <td>23 min per ep</td>\n",
       "      <td>PG - Children</td>\n",
       "      <td>4240.0</td>\n",
       "      <td>5126</td>\n",
       "      <td>14</td>\n",
       "      <td>6413.0</td>\n",
       "      <td>15001</td>\n",
       "      <td>https://cdn.myanimelist.net/images/anime/7/215...</td>\n",
       "    </tr>\n",
       "  </tbody>\n",
       "</table>\n",
       "<p>5 rows × 23 columns</p>\n",
       "</div>"
      ],
      "text/plain": [
       "                              Name             English name  \\\n",
       "0                     Cowboy Bebop             Cowboy Bebop   \n",
       "1  Cowboy Bebop: Tengoku no Tobira  Cowboy Bebop: The Movie   \n",
       "2                           Trigun                   Trigun   \n",
       "3               Witch Hunter Robin       Witch Hunter Robin   \n",
       "4                   Bouken Ou Beet   Beet the Vandel Buster   \n",
       "\n",
       "                         Other name Score  \\\n",
       "0                         カウボーイビバップ  8.75   \n",
       "1                    カウボーイビバップ 天国の扉  8.38   \n",
       "2                             トライガン  8.22   \n",
       "3  Witch Hunter ROBIN (ウイッチハンターロビン)  7.25   \n",
       "4                            冒険王ビィト  6.94   \n",
       "\n",
       "                                 Genres  \\\n",
       "0         Action, Award Winning, Sci-Fi   \n",
       "1                        Action, Sci-Fi   \n",
       "2             Action, Adventure, Sci-Fi   \n",
       "3  Action, Drama, Mystery, Supernatural   \n",
       "4      Adventure, Fantasy, Supernatural   \n",
       "\n",
       "                                            Synopsis   Type Episodes  \\\n",
       "0  Crime is timeless. By the year 2071, humanity ...     TV     26.0   \n",
       "1  Another day, another bounty—such is the life o...  Movie      1.0   \n",
       "2  Vash the Stampede is the man with a $$60,000,0...     TV     26.0   \n",
       "3  Robin Sena is a powerful craft user drafted in...     TV     26.0   \n",
       "4  It is the dark century and the people are suff...     TV     52.0   \n",
       "\n",
       "                          Aired    Premiered  ...         Studios    Source  \\\n",
       "0   Apr 3, 1998 to Apr 24, 1999  spring 1998  ...         Sunrise  Original   \n",
       "1                   Sep 1, 2001          NaN  ...           Bones  Original   \n",
       "2   Apr 1, 1998 to Sep 30, 1998  spring 1998  ...        Madhouse     Manga   \n",
       "3   Jul 3, 2002 to Dec 25, 2002  summer 2002  ...         Sunrise  Original   \n",
       "4  Sep 30, 2004 to Sep 29, 2005    fall 2004  ...  Toei Animation     Manga   \n",
       "\n",
       "        Duration                          Rating    Rank Popularity Favorites  \\\n",
       "0  24 min per ep  R - 17+ (violence & profanity)    41.0         43     78525   \n",
       "1    1 hr 55 min  R - 17+ (violence & profanity)   189.0        602      1448   \n",
       "2  24 min per ep       PG-13 - Teens 13 or older   328.0        246     15035   \n",
       "3  25 min per ep       PG-13 - Teens 13 or older  2764.0       1795       613   \n",
       "4  23 min per ep                   PG - Children  4240.0       5126        14   \n",
       "\n",
       "  Scored By  Members                                          Image URL  \n",
       "0  914193.0  1771505  https://cdn.myanimelist.net/images/anime/4/196...  \n",
       "1  206248.0   360978  https://cdn.myanimelist.net/images/anime/1439/...  \n",
       "2  356739.0   727252  https://cdn.myanimelist.net/images/anime/7/203...  \n",
       "3   42829.0   111931  https://cdn.myanimelist.net/images/anime/10/19...  \n",
       "4    6413.0    15001  https://cdn.myanimelist.net/images/anime/7/215...  \n",
       "\n",
       "[5 rows x 23 columns]"
      ]
     },
     "execution_count": 38,
     "metadata": {},
     "output_type": "execute_result"
    }
   ],
   "source": [
    "# Look at the first 5 rows\n",
    "animes.head()"
   ]
  },
  {
   "cell_type": "markdown",
   "metadata": {},
   "source": [
    "### Use describe() method to see a summary of the numerical attributes."
   ]
  },
  {
   "cell_type": "markdown",
   "metadata": {},
   "source": [
    "Since some numerical attributes are declared as \"object\" in the original dataset, we have to change them to numbers in order to visualize them."
   ]
  },
  {
   "cell_type": "code",
   "execution_count": 39,
   "metadata": {},
   "outputs": [],
   "source": [
    "# Change 'Score', 'Episodes', 'Rank' and 'Scored By' categories to numerical value\n",
    "\n",
    "animes[['Score', 'Episodes', 'Rank', 'Scored By']] = animes[['Score', 'Episodes', 'Rank', 'Scored By']].apply(pd.to_numeric)"
   ]
  },
  {
   "cell_type": "markdown",
   "metadata": {},
   "source": [
    "\n",
    "From describe(), we can see that 75% of animes' score is below 7.06, which can be considered as a medium level of quailty.\n",
    "\n",
    "Also, many animes have 13 episodes, which means they will mostly finish airing in one season (in anime industry, one season is 3 month, start from January)\n",
    "\n",
    "It is surprising that 75% of animes are marked as favorate below (only) 18 times, it is really low for a product. However the max number of favorate is 217606 (Note: the data may not reliable since many people do not want to click favorate)"
   ]
  },
  {
   "cell_type": "code",
   "execution_count": 40,
   "metadata": {},
   "outputs": [
    {
     "data": {
      "text/html": [
       "<div>\n",
       "<style scoped>\n",
       "    .dataframe tbody tr th:only-of-type {\n",
       "        vertical-align: middle;\n",
       "    }\n",
       "\n",
       "    .dataframe tbody tr th {\n",
       "        vertical-align: top;\n",
       "    }\n",
       "\n",
       "    .dataframe thead th {\n",
       "        text-align: right;\n",
       "    }\n",
       "</style>\n",
       "<table border=\"1\" class=\"dataframe\">\n",
       "  <thead>\n",
       "    <tr style=\"text-align: right;\">\n",
       "      <th></th>\n",
       "      <th>Score</th>\n",
       "      <th>Episodes</th>\n",
       "      <th>Rank</th>\n",
       "      <th>Popularity</th>\n",
       "      <th>Favorites</th>\n",
       "      <th>Scored By</th>\n",
       "      <th>Members</th>\n",
       "    </tr>\n",
       "  </thead>\n",
       "  <tbody>\n",
       "    <tr>\n",
       "      <th>count</th>\n",
       "      <td>15692.000000</td>\n",
       "      <td>24294.000000</td>\n",
       "      <td>20293.000000</td>\n",
       "      <td>24905.000000</td>\n",
       "      <td>24905.000000</td>\n",
       "      <td>1.569200e+04</td>\n",
       "      <td>2.490500e+04</td>\n",
       "    </tr>\n",
       "    <tr>\n",
       "      <th>mean</th>\n",
       "      <td>6.380890</td>\n",
       "      <td>14.913518</td>\n",
       "      <td>9960.770167</td>\n",
       "      <td>12265.388356</td>\n",
       "      <td>432.595222</td>\n",
       "      <td>2.997438e+04</td>\n",
       "      <td>3.710496e+04</td>\n",
       "    </tr>\n",
       "    <tr>\n",
       "      <th>std</th>\n",
       "      <td>0.928696</td>\n",
       "      <td>48.581251</td>\n",
       "      <td>5856.990951</td>\n",
       "      <td>7187.428393</td>\n",
       "      <td>4353.181647</td>\n",
       "      <td>1.169348e+05</td>\n",
       "      <td>1.568252e+05</td>\n",
       "    </tr>\n",
       "    <tr>\n",
       "      <th>min</th>\n",
       "      <td>1.850000</td>\n",
       "      <td>1.000000</td>\n",
       "      <td>0.000000</td>\n",
       "      <td>0.000000</td>\n",
       "      <td>0.000000</td>\n",
       "      <td>1.000000e+02</td>\n",
       "      <td>0.000000e+00</td>\n",
       "    </tr>\n",
       "    <tr>\n",
       "      <th>25%</th>\n",
       "      <td>5.730000</td>\n",
       "      <td>1.000000</td>\n",
       "      <td>4885.000000</td>\n",
       "      <td>6040.000000</td>\n",
       "      <td>0.000000</td>\n",
       "      <td>3.840000e+02</td>\n",
       "      <td>2.090000e+02</td>\n",
       "    </tr>\n",
       "    <tr>\n",
       "      <th>50%</th>\n",
       "      <td>6.390000</td>\n",
       "      <td>2.000000</td>\n",
       "      <td>9958.000000</td>\n",
       "      <td>12265.000000</td>\n",
       "      <td>1.000000</td>\n",
       "      <td>1.760000e+03</td>\n",
       "      <td>1.056000e+03</td>\n",
       "    </tr>\n",
       "    <tr>\n",
       "      <th>75%</th>\n",
       "      <td>7.060000</td>\n",
       "      <td>13.000000</td>\n",
       "      <td>15032.000000</td>\n",
       "      <td>18491.000000</td>\n",
       "      <td>18.000000</td>\n",
       "      <td>1.085550e+04</td>\n",
       "      <td>9.326000e+03</td>\n",
       "    </tr>\n",
       "    <tr>\n",
       "      <th>max</th>\n",
       "      <td>9.100000</td>\n",
       "      <td>3057.000000</td>\n",
       "      <td>20104.000000</td>\n",
       "      <td>24723.000000</td>\n",
       "      <td>217606.000000</td>\n",
       "      <td>2.660903e+06</td>\n",
       "      <td>3.744541e+06</td>\n",
       "    </tr>\n",
       "  </tbody>\n",
       "</table>\n",
       "</div>"
      ],
      "text/plain": [
       "              Score      Episodes          Rank    Popularity      Favorites  \\\n",
       "count  15692.000000  24294.000000  20293.000000  24905.000000   24905.000000   \n",
       "mean       6.380890     14.913518   9960.770167  12265.388356     432.595222   \n",
       "std        0.928696     48.581251   5856.990951   7187.428393    4353.181647   \n",
       "min        1.850000      1.000000      0.000000      0.000000       0.000000   \n",
       "25%        5.730000      1.000000   4885.000000   6040.000000       0.000000   \n",
       "50%        6.390000      2.000000   9958.000000  12265.000000       1.000000   \n",
       "75%        7.060000     13.000000  15032.000000  18491.000000      18.000000   \n",
       "max        9.100000   3057.000000  20104.000000  24723.000000  217606.000000   \n",
       "\n",
       "          Scored By       Members  \n",
       "count  1.569200e+04  2.490500e+04  \n",
       "mean   2.997438e+04  3.710496e+04  \n",
       "std    1.169348e+05  1.568252e+05  \n",
       "min    1.000000e+02  0.000000e+00  \n",
       "25%    3.840000e+02  2.090000e+02  \n",
       "50%    1.760000e+03  1.056000e+03  \n",
       "75%    1.085550e+04  9.326000e+03  \n",
       "max    2.660903e+06  3.744541e+06  "
      ]
     },
     "execution_count": 40,
     "metadata": {},
     "output_type": "execute_result"
    }
   ],
   "source": [
    "# Describe\n",
    "animes.describe()"
   ]
  },
  {
   "cell_type": "markdown",
   "metadata": {
    "tags": []
   },
   "source": [
    "### Use info() to get a quick description of the data, the total number of rows, each attribute’s type, and the number of non-null values."
   ]
  },
  {
   "cell_type": "markdown",
   "metadata": {},
   "source": [
    "By checking the type and non-null variables, we can see that the \"Licensors\" has only 4735 non-null data, and \"Premiered\" has 5506 non-null values. These data might be dropped later in training step."
   ]
  },
  {
   "cell_type": "code",
   "execution_count": 41,
   "metadata": {},
   "outputs": [
    {
     "name": "stdout",
     "output_type": "stream",
     "text": [
      "<class 'pandas.core.frame.DataFrame'>\n",
      "RangeIndex: 24905 entries, 0 to 24904\n",
      "Data columns (total 23 columns):\n",
      " #   Column        Non-Null Count  Dtype  \n",
      "---  ------        --------------  -----  \n",
      " 0   Name          24905 non-null  object \n",
      " 1   English name  10328 non-null  object \n",
      " 2   Other name    24777 non-null  object \n",
      " 3   Score         15692 non-null  float64\n",
      " 4   Genres        19976 non-null  object \n",
      " 5   Synopsis      24905 non-null  object \n",
      " 6   Type          24831 non-null  object \n",
      " 7   Episodes      24294 non-null  float64\n",
      " 8   Aired         24905 non-null  object \n",
      " 9   Premiered     5506 non-null   object \n",
      " 10  Status        24905 non-null  object \n",
      " 11  Producers     11555 non-null  object \n",
      " 12  Licensors     4735 non-null   object \n",
      " 13  Studios       14379 non-null  object \n",
      " 14  Source        21216 non-null  object \n",
      " 15  Duration      24242 non-null  object \n",
      " 16  Rating        24236 non-null  object \n",
      " 17  Rank          20293 non-null  float64\n",
      " 18  Popularity    24905 non-null  int64  \n",
      " 19  Favorites     24905 non-null  int64  \n",
      " 20  Scored By     15692 non-null  float64\n",
      " 21  Members       24905 non-null  int64  \n",
      " 22  Image URL     24905 non-null  object \n",
      "dtypes: float64(4), int64(3), object(16)\n",
      "memory usage: 4.4+ MB\n"
     ]
    }
   ],
   "source": [
    "# Show the info of the table\n",
    "animes.info()"
   ]
  },
  {
   "cell_type": "markdown",
   "metadata": {},
   "source": [
    "### Use value_counts to show what categories exist and how many rows belong to each category\n",
    "\n",
    "We can see most of the animes are in TV form (with several episodes), there are also animes that are movies."
   ]
  },
  {
   "cell_type": "code",
   "execution_count": 42,
   "metadata": {},
   "outputs": [
    {
     "data": {
      "text/plain": [
       "Type\n",
       "TV         7597\n",
       "Movie      4381\n",
       "OVA        4076\n",
       "ONA        3533\n",
       "Music      2686\n",
       "Special    2558\n",
       "NaN          74\n",
       "Name: count, dtype: int64"
      ]
     },
     "execution_count": 42,
     "metadata": {},
     "output_type": "execute_result"
    }
   ],
   "source": [
    "# Count the type of animes, if it is a TV, movies...\n",
    "animes[\"Type\"].value_counts(False, True, False, None, False)"
   ]
  },
  {
   "cell_type": "markdown",
   "metadata": {},
   "source": [
    "For genres, 4929 rows are unknown, those animes might be dropped to fit our purpose.\n",
    "\n",
    "Beside that, most of animes are fantasy and comedy, but there are many animes with combination of genres (we will combine them later)."
   ]
  },
  {
   "cell_type": "code",
   "execution_count": 43,
   "metadata": {},
   "outputs": [
    {
     "data": {
      "text/plain": [
       "Genres\n",
       "NaN                                              4929\n",
       "Comedy                                           2279\n",
       "Fantasy                                          1341\n",
       "Hentai                                           1181\n",
       "Drama                                             624\n",
       "                                                 ... \n",
       "Avant Garde, Fantasy, Romance                       1\n",
       "Action, Comedy, Romance, Supernatural, Hentai       1\n",
       "Drama, Horror, Supernatural, Ecchi                  1\n",
       "Adventure, Comedy, Romance, Sports                  1\n",
       "Action, Adventure, Fantasy, Horror                  1\n",
       "Name: count, Length: 1006, dtype: int64"
      ]
     },
     "execution_count": 43,
     "metadata": {},
     "output_type": "execute_result"
    }
   ],
   "source": [
    "# Count the genres of animes\n",
    "animes[\"Genres\"].value_counts(False, True, False, None, False)"
   ]
  },
  {
   "cell_type": "markdown",
   "metadata": {},
   "source": [
    "We can see 9622 animes are original, which means they are not adapted from any existed stories (manga/novel etc.).\n",
    "\n",
    "We can also see that animes that adapted from manga and game are still very popular."
   ]
  },
  {
   "cell_type": "code",
   "execution_count": 44,
   "metadata": {},
   "outputs": [
    {
     "data": {
      "text/plain": [
       "Source\n",
       "Original        9622\n",
       "Manga           4687\n",
       "NaN             3689\n",
       "Game            1232\n",
       "Visual novel    1107\n",
       "Other           1008\n",
       "Light novel      968\n",
       "Novel            709\n",
       "Web manga        447\n",
       "Music            395\n",
       "4-koma manga     314\n",
       "Picture book     210\n",
       "Book             191\n",
       "Mixed media      162\n",
       "Web novel         82\n",
       "Card game         68\n",
       "Radio             14\n",
       "Name: count, dtype: int64"
      ]
     },
     "execution_count": 44,
     "metadata": {},
     "output_type": "execute_result"
    }
   ],
   "source": [
    "# Count the source (where the animes are made from) of animes\n",
    "animes[\"Source\"].value_counts(False, True, False, None, False)"
   ]
  },
  {
   "cell_type": "markdown",
   "metadata": {},
   "source": [
    "## 2.2 Create a Test Set"
   ]
  },
  {
   "cell_type": "markdown",
   "metadata": {
    "tags": []
   },
   "source": [
    "Typically, you want to create the test set here, then explore and visualise the training data only to gain insights.\n",
    "You will also typically prepare the data preprcosssing pipeline using training data only, and then apply the preprocessing on the test dataset.\n",
    "However, in this demo, we will do the data cleaning and preprocessing on the whole dataset, then split into training and testing datasets right before training the model.\n"
   ]
  },
  {
   "cell_type": "markdown",
   "metadata": {},
   "source": [
    "# 3. Explore and visualize the data to gain insights.\n"
   ]
  },
  {
   "cell_type": "markdown",
   "metadata": {},
   "source": [
    "### 3.1 Plot a histogram of the data using hist()\n",
    "\n",
    "say something here"
   ]
  },
  {
   "cell_type": "markdown",
   "metadata": {},
   "source": [
    "This is the detailed score distribution, we can see 6.4 is the most frequent score."
   ]
  },
  {
   "cell_type": "code",
   "execution_count": 45,
   "metadata": {
    "tags": []
   },
   "outputs": [
    {
     "data": {
      "image/png": "[encoded data removed]",
      "text/plain": [
       "<Figure size 1000x400 with 1 Axes>"
      ]
     },
     "metadata": {},
     "output_type": "display_data"
    }
   ],
   "source": [
    "# visualize the count of score\n",
    "plt.figure(figsize=(10, 4))\n",
    "# using a histplot\n",
    "sns.histplot(animes['Score'])\n",
    "# title\n",
    "plt.title(\"Distribution/Count of Score\")\n",
    "plt.show()"
   ]
  },
  {
   "cell_type": "markdown",
   "metadata": {},
   "source": [
    "say something here"
   ]
  },
  {
   "cell_type": "code",
   "execution_count": 46,
   "metadata": {},
   "outputs": [
    {
     "data": {
      "image/png": "[encoded data removed]",
      "text/plain": [
       "<Figure size 640x480 with 1 Axes>"
      ]
     },
     "metadata": {},
     "output_type": "display_data"
    }
   ],
   "source": [
    "# get the most frequent episodes number\n",
    "episodes_count = animes['Episodes'].value_counts().head(10)\n",
    "\n",
    "# use this to get a bar plot\n",
    "sns.barplot(x = episodes_count.index, y = episodes_count.values, palette=\"cividis\", hue = episodes_count.index, legend = False)\n",
    "plt.ylabel(\"Count\")\n",
    "plt.title(\"Distribution/Count of Episodes(top 10)\")\n",
    "plt.show()"
   ]
  },
  {
   "cell_type": "markdown",
   "metadata": {},
   "source": [
    "Lets see the categorical data"
   ]
  },
  {
   "cell_type": "code",
   "execution_count": 47,
   "metadata": {},
   "outputs": [
    {
     "data": {
      "image/png": "[encoded data removed]",
      "text/plain": [
       "<Figure size 640x480 with 1 Axes>"
      ]
     },
     "metadata": {},
     "output_type": "display_data"
    }
   ],
   "source": [
    "# get a count plot for count of type of animes\n",
    "sns.countplot(data = animes, x = \"Type\", hue = \"Type\", palette= sns.color_palette(\"Paired\", 6))\n",
    "plt.title(\"Count of Type of Animes\")\n",
    "plt.show()"
   ]
  },
  {
   "cell_type": "markdown",
   "metadata": {},
   "source": [
    "say something here"
   ]
  },
  {
   "cell_type": "code",
   "execution_count": 48,
   "metadata": {},
   "outputs": [
    {
     "data": {
      "image/png": "[encoded data removed]",
      "text/plain": [
       "<Figure size 1500x500 with 1 Axes>"
      ]
     },
     "metadata": {},
     "output_type": "display_data"
    }
   ],
   "source": [
    "# We will get the count of genres below:\n",
    "\n",
    "# get a temporary dataframe, which is a copy of the \"Genres\" column of the main dataframe\n",
    "temp_df = pd.DataFrame(animes['Genres'])\n",
    "# fill the NaN values with space\n",
    "temp_df['Genres'] = temp_df['Genres'].fillna(' ')\n",
    "# split the comma and count the total number of genres appear (since we might have more genres in one anime)\n",
    "genre_counts = temp_df[temp_df['Genres'] != ' ']['Genres'].apply(lambda x : x.split(', ')).explode().value_counts()\n",
    "\n",
    "# Create diagram\n",
    "plt.figure(figsize=(15,5))\n",
    "sns.barplot(x = genre_counts.index, y = genre_counts.values, palette=\"viridis\", hue = genre_counts.index)\n",
    "plt.xlabel(\"Genre\")\n",
    "plt.ylabel(\"Count\")\n",
    "plt.title(\"Distribution/Count of Genres\")\n",
    "plt.xticks(rotation = 45)\n",
    "\n",
    "plt.show()"
   ]
  },
  {
   "cell_type": "markdown",
   "metadata": {},
   "source": [
    "Lets take a look at the source of the anime, we can see most of the anime is original."
   ]
  },
  {
   "cell_type": "code",
   "execution_count": 49,
   "metadata": {},
   "outputs": [
    {
     "data": {
      "image/png": "[encoded data removed]",
      "text/plain": [
       "<Figure size 1000x500 with 1 Axes>"
      ]
     },
     "metadata": {},
     "output_type": "display_data"
    }
   ],
   "source": [
    "# Create graph for count of sources\n",
    "plt.figure(figsize=(10, 5))\n",
    "sns.countplot(data = animes, x = \"Source\", color = \"#39C5BB\") # guess why I use this color here :D\n",
    "plt.ylabel(\"Count\")\n",
    "plt.xticks(rotation = 45)\n",
    "plt.title(\"Distribution/Count of Sources\")\n",
    "plt.show()"
   ]
  },
  {
   "cell_type": "markdown",
   "metadata": {},
   "source": [
    "say something here"
   ]
  },
  {
   "cell_type": "code",
   "execution_count": 50,
   "metadata": {},
   "outputs": [
    {
     "data": {
      "image/png": "[encoded data removed]",
      "text/plain": [
       "<Figure size 1500x500 with 1 Axes>"
      ]
     },
     "metadata": {},
     "output_type": "display_data"
    }
   ],
   "source": [
    "# Create a diagram to show top 10 animes with their popularity (note that the lower number means it is more popularity)\n",
    "plt.figure(figsize=(15, 5))\n",
    "# sort the dataset to show the lowest 10 popularities, with 0.0 removed (0.0 means unknown or it is seldomly known in North America)\n",
    "popularity_animes = animes[animes['Popularity'] > 0].sort_values(by='Popularity', ascending=True).head(10)\n",
    "# create a bar chart\n",
    "sns.barplot(data = popularity_animes, y = 'English name', x = 'Popularity', palette=\"inferno\", hue = 'Popularity', legend = False)\n",
    "plt.ylabel(\"English Name\")\n",
    "plt.xticks(rotation = 0)\n",
    "plt.title(\"Top 10 Animes in 2023\")\n",
    "plt.show()"
   ]
  },
  {
   "cell_type": "markdown",
   "metadata": {},
   "source": [
    "## Look for correlations between the features"
   ]
  },
  {
   "cell_type": "markdown",
   "metadata": {},
   "source": [
    "### 3.2 Check for correlation between attributes using sns.pairplot."
   ]
  },
  {
   "cell_type": "code",
   "execution_count": 51,
   "metadata": {
    "tags": []
   },
   "outputs": [],
   "source": [
    "# Check for correlation between attributes using sns.pairplot.\n",
    "#sns.pairplot(animes) run this later (too slow)"
   ]
  },
  {
   "cell_type": "markdown",
   "metadata": {},
   "source": [
    "### 3.3 Look for correlations using pearson correlation coefficient "
   ]
  },
  {
   "cell_type": "markdown",
   "metadata": {},
   "source": [
    "Let's first see the correlations between numerical features\n"
   ]
  },
  {
   "cell_type": "code",
   "execution_count": 52,
   "metadata": {
    "tags": []
   },
   "outputs": [
    {
     "data": {
      "text/html": [
       "<div>\n",
       "<style scoped>\n",
       "    .dataframe tbody tr th:only-of-type {\n",
       "        vertical-align: middle;\n",
       "    }\n",
       "\n",
       "    .dataframe tbody tr th {\n",
       "        vertical-align: top;\n",
       "    }\n",
       "\n",
       "    .dataframe thead th {\n",
       "        text-align: right;\n",
       "    }\n",
       "</style>\n",
       "<table border=\"1\" class=\"dataframe\">\n",
       "  <thead>\n",
       "    <tr style=\"text-align: right;\">\n",
       "      <th></th>\n",
       "      <th>Score</th>\n",
       "      <th>Episodes</th>\n",
       "      <th>Rank</th>\n",
       "      <th>Popularity</th>\n",
       "      <th>Favorites</th>\n",
       "      <th>Scored By</th>\n",
       "      <th>Members</th>\n",
       "    </tr>\n",
       "  </thead>\n",
       "  <tbody>\n",
       "    <tr>\n",
       "      <th>Score</th>\n",
       "      <td>1.000000</td>\n",
       "      <td>0.079212</td>\n",
       "      <td>-0.976923</td>\n",
       "      <td>-0.698047</td>\n",
       "      <td>0.235454</td>\n",
       "      <td>0.351082</td>\n",
       "      <td>0.390922</td>\n",
       "    </tr>\n",
       "    <tr>\n",
       "      <th>Episodes</th>\n",
       "      <td>0.079212</td>\n",
       "      <td>1.000000</td>\n",
       "      <td>0.063549</td>\n",
       "      <td>0.091301</td>\n",
       "      <td>0.044784</td>\n",
       "      <td>0.053579</td>\n",
       "      <td>0.026918</td>\n",
       "    </tr>\n",
       "    <tr>\n",
       "      <th>Rank</th>\n",
       "      <td>-0.976923</td>\n",
       "      <td>0.063549</td>\n",
       "      <td>1.000000</td>\n",
       "      <td>0.871935</td>\n",
       "      <td>-0.168713</td>\n",
       "      <td>-0.335063</td>\n",
       "      <td>-0.340236</td>\n",
       "    </tr>\n",
       "    <tr>\n",
       "      <th>Popularity</th>\n",
       "      <td>-0.698047</td>\n",
       "      <td>0.091301</td>\n",
       "      <td>0.871935</td>\n",
       "      <td>1.000000</td>\n",
       "      <td>-0.163173</td>\n",
       "      <td>-0.377240</td>\n",
       "      <td>-0.363865</td>\n",
       "    </tr>\n",
       "    <tr>\n",
       "      <th>Favorites</th>\n",
       "      <td>0.235454</td>\n",
       "      <td>0.044784</td>\n",
       "      <td>-0.168713</td>\n",
       "      <td>-0.163173</td>\n",
       "      <td>1.000000</td>\n",
       "      <td>0.785326</td>\n",
       "      <td>0.773120</td>\n",
       "    </tr>\n",
       "    <tr>\n",
       "      <th>Scored By</th>\n",
       "      <td>0.351082</td>\n",
       "      <td>0.053579</td>\n",
       "      <td>-0.335063</td>\n",
       "      <td>-0.377240</td>\n",
       "      <td>0.785326</td>\n",
       "      <td>1.000000</td>\n",
       "      <td>0.989130</td>\n",
       "    </tr>\n",
       "    <tr>\n",
       "      <th>Members</th>\n",
       "      <td>0.390922</td>\n",
       "      <td>0.026918</td>\n",
       "      <td>-0.340236</td>\n",
       "      <td>-0.363865</td>\n",
       "      <td>0.773120</td>\n",
       "      <td>0.989130</td>\n",
       "      <td>1.000000</td>\n",
       "    </tr>\n",
       "  </tbody>\n",
       "</table>\n",
       "</div>"
      ],
      "text/plain": [
       "               Score  Episodes      Rank  Popularity  Favorites  Scored By  \\\n",
       "Score       1.000000  0.079212 -0.976923   -0.698047   0.235454   0.351082   \n",
       "Episodes    0.079212  1.000000  0.063549    0.091301   0.044784   0.053579   \n",
       "Rank       -0.976923  0.063549  1.000000    0.871935  -0.168713  -0.335063   \n",
       "Popularity -0.698047  0.091301  0.871935    1.000000  -0.163173  -0.377240   \n",
       "Favorites   0.235454  0.044784 -0.168713   -0.163173   1.000000   0.785326   \n",
       "Scored By   0.351082  0.053579 -0.335063   -0.377240   0.785326   1.000000   \n",
       "Members     0.390922  0.026918 -0.340236   -0.363865   0.773120   0.989130   \n",
       "\n",
       "             Members  \n",
       "Score       0.390922  \n",
       "Episodes    0.026918  \n",
       "Rank       -0.340236  \n",
       "Popularity -0.363865  \n",
       "Favorites   0.773120  \n",
       "Scored By   0.989130  \n",
       "Members     1.000000  "
      ]
     },
     "execution_count": 52,
     "metadata": {},
     "output_type": "execute_result"
    }
   ],
   "source": [
    "# get the correlation matrix\n",
    "corr_matrix = animes.corr(numeric_only=True)\n",
    "corr_matrix"
   ]
  },
  {
   "cell_type": "markdown",
   "metadata": {},
   "source": [
    "#### Let's look at correlations with regard to our target"
   ]
  },
  {
   "cell_type": "code",
   "execution_count": 53,
   "metadata": {
    "tags": []
   },
   "outputs": [
    {
     "data": {
      "text/plain": [
       "Score         1.000000\n",
       "Members       0.390922\n",
       "Scored By     0.351082\n",
       "Favorites     0.235454\n",
       "Episodes      0.079212\n",
       "Popularity   -0.698047\n",
       "Rank         -0.976923\n",
       "Name: Score, dtype: float64"
      ]
     },
     "execution_count": 53,
     "metadata": {},
     "output_type": "execute_result"
    }
   ],
   "source": [
    "corr_matrix[\"Score\"].sort_values(ascending=False)"
   ]
  },
  {
   "cell_type": "markdown",
   "metadata": {},
   "source": [
    "Let's see the correlations between score and popularity, we can see when the score is below 5, the popularity not seems to go down (go up in the diagram), the anime might even be popular. We can also see the less popular anime has a score around 5.\n",
    "\n",
    "__Please note__ that lower popularity rank means more popular\n",
    "\n",
    "But when the score is more than 5, the trends is more accurate, which the higher score means higher popularity."
   ]
  },
  {
   "cell_type": "code",
   "execution_count": 54,
   "metadata": {
    "tags": []
   },
   "outputs": [
    {
     "data": {
      "image/png": "[encoded data removed]",
      "text/plain": [
       "<Figure size 640x480 with 1 Axes>"
      ]
     },
     "metadata": {},
     "output_type": "display_data"
    }
   ],
   "source": [
    "#plot Episodes vs. Popularity\n",
    "\n",
    "g = sns.lineplot(x=\"Score\", y=\"Popularity\", data=animes, errorbar=None)\n",
    "plt.ylabel(\"Popularity Rank\")\n",
    "plt.show()"
   ]
  },
  {
   "cell_type": "markdown",
   "metadata": {},
   "source": [
    "# 4. Prepare the data for Machine Learning Algorithms"
   ]
  },
  {
   "cell_type": "markdown",
   "metadata": {},
   "source": [
    "#### Let's start by cleaning up the data: duplicate and missing values and how to deal with them"
   ]
  },
  {
   "cell_type": "markdown",
   "metadata": {},
   "source": [
    "### 4.1- Remove duplicate rows"
   ]
  },
  {
   "cell_type": "markdown",
   "metadata": {},
   "source": [
    "Check for duplicate rows, we don't have any duplicate rows"
   ]
  },
  {
   "cell_type": "code",
   "execution_count": 55,
   "metadata": {
    "tags": []
   },
   "outputs": [
    {
     "data": {
      "text/plain": [
       "0"
      ]
     },
     "execution_count": 55,
     "metadata": {},
     "output_type": "execute_result"
    }
   ],
   "source": [
    "#  Check for duplicate rows and delete them\n",
    "animes.duplicated().sum()"
   ]
  },
  {
   "cell_type": "code",
   "execution_count": 56,
   "metadata": {
    "tags": []
   },
   "outputs": [],
   "source": [
    "# Remove duplicated (just in case)\n",
    "animes.drop_duplicates(inplace=True)"
   ]
  },
  {
   "cell_type": "markdown",
   "metadata": {
    "tags": []
   },
   "source": [
    "### 4.2-Handle the missing values\n",
    "say something\n"
   ]
  },
  {
   "cell_type": "code",
   "execution_count": 57,
   "metadata": {},
   "outputs": [
    {
     "data": {
      "text/plain": [
       "Name                0\n",
       "English name    14577\n",
       "Other name        128\n",
       "Score            9213\n",
       "Genres           4929\n",
       "Synopsis            0\n",
       "Type               74\n",
       "Episodes          611\n",
       "Aired               0\n",
       "Premiered       19399\n",
       "Status              0\n",
       "Producers       13350\n",
       "Licensors       20170\n",
       "Studios         10526\n",
       "Source           3689\n",
       "Duration          663\n",
       "Rating            669\n",
       "Rank             4612\n",
       "Popularity          0\n",
       "Favorites           0\n",
       "Scored By        9213\n",
       "Members             0\n",
       "Image URL           0\n",
       "dtype: int64"
      ]
     },
     "execution_count": 57,
     "metadata": {},
     "output_type": "execute_result"
    }
   ],
   "source": [
    "# Find the number of missing values in each column\n",
    "\n",
    "animes.isna().sum()"
   ]
  },
  {
   "cell_type": "markdown",
   "metadata": {},
   "source": [
    "修改此处\n",
    "###\n",
    "\n",
    "**NOTE** You can also drop columns with a specific percent of missing values, for example the below command will drop columns that has 70% (or more) missing values\n",
    "\n",
    "    - dataset.dropna(axis='columns', thresh=int(0.7* df.shape[0]))"
   ]
  },
  {
   "cell_type": "code",
   "execution_count": 58,
   "metadata": {},
   "outputs": [],
   "source": [
    "# remove unneeded columns\n",
    "# do not rerun this code unless you rerun the whole program\n",
    "animes.drop(labels=['Name', 'English name', 'Other name', 'Synopsis', 'Premiered','Status', \n",
    "                    'Producers', 'Licensors', 'Rank','Image URL', 'Popularity', 'Favorites', \n",
    "                    'Scored By', 'Members', 'Aired'], axis=1, inplace=True)"
   ]
  },
  {
   "cell_type": "markdown",
   "metadata": {},
   "source": [
    "#### For the Score/Genres/Episode/Type attribute we will delete the instances with null famsize values"
   ]
  },
  {
   "cell_type": "code",
   "execution_count": 59,
   "metadata": {
    "tags": []
   },
   "outputs": [],
   "source": [
    "# Drop rows with NaN\n",
    "animes.dropna(subset=[\"Score\", \"Genres\", \"Type\", \"Episodes\", \"Source\"], inplace=True)"
   ]
  },
  {
   "cell_type": "markdown",
   "metadata": {},
   "source": [
    "say something here"
   ]
  },
  {
   "cell_type": "code",
   "execution_count": 60,
   "metadata": {},
   "outputs": [
    {
     "data": {
      "text/plain": [
       "Score          0\n",
       "Genres         0\n",
       "Type           0\n",
       "Episodes       0\n",
       "Studios     1777\n",
       "Source         0\n",
       "Duration      10\n",
       "Rating        53\n",
       "dtype: int64"
      ]
     },
     "execution_count": 60,
     "metadata": {},
     "output_type": "execute_result"
    }
   ],
   "source": [
    "# get the number of missing values after cleaning\n",
    "animes.isna().sum()"
   ]
  },
  {
   "cell_type": "markdown",
   "metadata": {},
   "source": [
    "say something here, split genres"
   ]
  },
  {
   "cell_type": "code",
   "execution_count": 61,
   "metadata": {},
   "outputs": [],
   "source": [
    "# Split \"Genres\"\n",
    "# do not rerun this code section unless you rerun the whole program\n",
    "encoded_genre = animes['Genres'].str.get_dummies(', ')\n",
    "animes = pd.concat([animes, encoded_genre], axis = 1)\n",
    "# drop original genre column\n",
    "animes.drop(labels = ['Genres'], axis=1, inplace=True)"
   ]
  },
  {
   "cell_type": "markdown",
   "metadata": {},
   "source": [
    "say something here, parse duration"
   ]
  },
  {
   "cell_type": "code",
   "execution_count": 62,
   "metadata": {},
   "outputs": [
    {
     "name": "stderr",
     "output_type": "stream",
     "text": [
      "C:\\Users\\zhang\\AppData\\Local\\Temp\\ipykernel_19340\\1865720388.py:18: FutureWarning: Downcasting behavior in `replace` is deprecated and will be removed in a future version. To retain the old behavior, explicitly call `result.infer_objects(copy=False)`. To opt-in to the future behavior, set `pd.set_option('future.no_silent_downcasting', True)`\n",
      "  animes['Duration'] = animes['Duration'].replace('-1', np.nan)\n"
     ]
    }
   ],
   "source": [
    "# Parse the duration time of each anime\n",
    "# Fill the NaN with -1 (temporary), means the duration is unknown\n",
    "animes['Duration'] = animes['Duration'].fillna('-1')\n",
    "def parse_duration(data):\n",
    "    if data[\"Duration\"] != \"-1\":\n",
    "        # if the data contains does not contain \"per\"\n",
    "        if data[\"Duration\"].find(\"per\")== -1:\n",
    "            data[\"Duration\"] = pd.to_timedelta(data[\"Duration\"])\n",
    "            return data\n",
    "        # if the data contains \"per\", split the data and take the first element of the array, which is the time\n",
    "        if data[\"Duration\"].find(\"per\") > -1:\n",
    "            data[\"Duration\"] = pd.to_timedelta(data[\"Duration\"].split(\" per\")[0])\n",
    "            return data\n",
    "    return data\n",
    "\n",
    "# apply to the dataframe\n",
    "animes = animes.apply(parse_duration, axis = 1)\n",
    "animes['Duration'] = animes['Duration'].replace('-1', np.nan)"
   ]
  },
  {
   "cell_type": "code",
   "execution_count": 63,
   "metadata": {},
   "outputs": [
    {
     "data": {
      "text/html": [
       "<div>\n",
       "<style scoped>\n",
       "    .dataframe tbody tr th:only-of-type {\n",
       "        vertical-align: middle;\n",
       "    }\n",
       "\n",
       "    .dataframe tbody tr th {\n",
       "        vertical-align: top;\n",
       "    }\n",
       "\n",
       "    .dataframe thead th {\n",
       "        text-align: right;\n",
       "    }\n",
       "</style>\n",
       "<table border=\"1\" class=\"dataframe\">\n",
       "  <thead>\n",
       "    <tr style=\"text-align: right;\">\n",
       "      <th></th>\n",
       "      <th>Score</th>\n",
       "      <th>Type</th>\n",
       "      <th>Episodes</th>\n",
       "      <th>Studios</th>\n",
       "      <th>Source</th>\n",
       "      <th>Duration</th>\n",
       "      <th>Rating</th>\n",
       "      <th>Action</th>\n",
       "      <th>Adventure</th>\n",
       "      <th>Avant Garde</th>\n",
       "      <th>...</th>\n",
       "      <th>Gourmet</th>\n",
       "      <th>Hentai</th>\n",
       "      <th>Horror</th>\n",
       "      <th>Mystery</th>\n",
       "      <th>Romance</th>\n",
       "      <th>Sci-Fi</th>\n",
       "      <th>Slice of Life</th>\n",
       "      <th>Sports</th>\n",
       "      <th>Supernatural</th>\n",
       "      <th>Suspense</th>\n",
       "    </tr>\n",
       "  </thead>\n",
       "  <tbody>\n",
       "    <tr>\n",
       "      <th>0</th>\n",
       "      <td>8.75</td>\n",
       "      <td>TV</td>\n",
       "      <td>26.0</td>\n",
       "      <td>Sunrise</td>\n",
       "      <td>Original</td>\n",
       "      <td>0 days 00:24:00</td>\n",
       "      <td>R - 17+ (violence &amp; profanity)</td>\n",
       "      <td>1</td>\n",
       "      <td>0</td>\n",
       "      <td>0</td>\n",
       "      <td>...</td>\n",
       "      <td>0</td>\n",
       "      <td>0</td>\n",
       "      <td>0</td>\n",
       "      <td>0</td>\n",
       "      <td>0</td>\n",
       "      <td>1</td>\n",
       "      <td>0</td>\n",
       "      <td>0</td>\n",
       "      <td>0</td>\n",
       "      <td>0</td>\n",
       "    </tr>\n",
       "    <tr>\n",
       "      <th>1</th>\n",
       "      <td>8.38</td>\n",
       "      <td>Movie</td>\n",
       "      <td>1.0</td>\n",
       "      <td>Bones</td>\n",
       "      <td>Original</td>\n",
       "      <td>0 days 01:55:00</td>\n",
       "      <td>R - 17+ (violence &amp; profanity)</td>\n",
       "      <td>1</td>\n",
       "      <td>0</td>\n",
       "      <td>0</td>\n",
       "      <td>...</td>\n",
       "      <td>0</td>\n",
       "      <td>0</td>\n",
       "      <td>0</td>\n",
       "      <td>0</td>\n",
       "      <td>0</td>\n",
       "      <td>1</td>\n",
       "      <td>0</td>\n",
       "      <td>0</td>\n",
       "      <td>0</td>\n",
       "      <td>0</td>\n",
       "    </tr>\n",
       "    <tr>\n",
       "      <th>2</th>\n",
       "      <td>8.22</td>\n",
       "      <td>TV</td>\n",
       "      <td>26.0</td>\n",
       "      <td>Madhouse</td>\n",
       "      <td>Manga</td>\n",
       "      <td>0 days 00:24:00</td>\n",
       "      <td>PG-13 - Teens 13 or older</td>\n",
       "      <td>1</td>\n",
       "      <td>1</td>\n",
       "      <td>0</td>\n",
       "      <td>...</td>\n",
       "      <td>0</td>\n",
       "      <td>0</td>\n",
       "      <td>0</td>\n",
       "      <td>0</td>\n",
       "      <td>0</td>\n",
       "      <td>1</td>\n",
       "      <td>0</td>\n",
       "      <td>0</td>\n",
       "      <td>0</td>\n",
       "      <td>0</td>\n",
       "    </tr>\n",
       "    <tr>\n",
       "      <th>3</th>\n",
       "      <td>7.25</td>\n",
       "      <td>TV</td>\n",
       "      <td>26.0</td>\n",
       "      <td>Sunrise</td>\n",
       "      <td>Original</td>\n",
       "      <td>0 days 00:25:00</td>\n",
       "      <td>PG-13 - Teens 13 or older</td>\n",
       "      <td>1</td>\n",
       "      <td>0</td>\n",
       "      <td>0</td>\n",
       "      <td>...</td>\n",
       "      <td>0</td>\n",
       "      <td>0</td>\n",
       "      <td>0</td>\n",
       "      <td>1</td>\n",
       "      <td>0</td>\n",
       "      <td>0</td>\n",
       "      <td>0</td>\n",
       "      <td>0</td>\n",
       "      <td>1</td>\n",
       "      <td>0</td>\n",
       "    </tr>\n",
       "    <tr>\n",
       "      <th>4</th>\n",
       "      <td>6.94</td>\n",
       "      <td>TV</td>\n",
       "      <td>52.0</td>\n",
       "      <td>Toei Animation</td>\n",
       "      <td>Manga</td>\n",
       "      <td>0 days 00:23:00</td>\n",
       "      <td>PG - Children</td>\n",
       "      <td>0</td>\n",
       "      <td>1</td>\n",
       "      <td>0</td>\n",
       "      <td>...</td>\n",
       "      <td>0</td>\n",
       "      <td>0</td>\n",
       "      <td>0</td>\n",
       "      <td>0</td>\n",
       "      <td>0</td>\n",
       "      <td>0</td>\n",
       "      <td>0</td>\n",
       "      <td>0</td>\n",
       "      <td>1</td>\n",
       "      <td>0</td>\n",
       "    </tr>\n",
       "    <tr>\n",
       "      <th>...</th>\n",
       "      <td>...</td>\n",
       "      <td>...</td>\n",
       "      <td>...</td>\n",
       "      <td>...</td>\n",
       "      <td>...</td>\n",
       "      <td>...</td>\n",
       "      <td>...</td>\n",
       "      <td>...</td>\n",
       "      <td>...</td>\n",
       "      <td>...</td>\n",
       "      <td>...</td>\n",
       "      <td>...</td>\n",
       "      <td>...</td>\n",
       "      <td>...</td>\n",
       "      <td>...</td>\n",
       "      <td>...</td>\n",
       "      <td>...</td>\n",
       "      <td>...</td>\n",
       "      <td>...</td>\n",
       "      <td>...</td>\n",
       "      <td>...</td>\n",
       "    </tr>\n",
       "    <tr>\n",
       "      <th>24539</th>\n",
       "      <td>6.47</td>\n",
       "      <td>Special</td>\n",
       "      <td>1.0</td>\n",
       "      <td>Toei Animation</td>\n",
       "      <td>Manga</td>\n",
       "      <td>0 days 00:24:00</td>\n",
       "      <td>PG-13 - Teens 13 or older</td>\n",
       "      <td>1</td>\n",
       "      <td>1</td>\n",
       "      <td>0</td>\n",
       "      <td>...</td>\n",
       "      <td>0</td>\n",
       "      <td>0</td>\n",
       "      <td>0</td>\n",
       "      <td>0</td>\n",
       "      <td>0</td>\n",
       "      <td>0</td>\n",
       "      <td>0</td>\n",
       "      <td>0</td>\n",
       "      <td>0</td>\n",
       "      <td>0</td>\n",
       "    </tr>\n",
       "    <tr>\n",
       "      <th>24557</th>\n",
       "      <td>7.78</td>\n",
       "      <td>OVA</td>\n",
       "      <td>18.0</td>\n",
       "      <td>NaN</td>\n",
       "      <td>Game</td>\n",
       "      <td>0 days 00:16:00</td>\n",
       "      <td>PG-13 - Teens 13 or older</td>\n",
       "      <td>0</td>\n",
       "      <td>0</td>\n",
       "      <td>0</td>\n",
       "      <td>...</td>\n",
       "      <td>0</td>\n",
       "      <td>0</td>\n",
       "      <td>0</td>\n",
       "      <td>0</td>\n",
       "      <td>0</td>\n",
       "      <td>0</td>\n",
       "      <td>0</td>\n",
       "      <td>0</td>\n",
       "      <td>0</td>\n",
       "      <td>0</td>\n",
       "    </tr>\n",
       "    <tr>\n",
       "      <th>24579</th>\n",
       "      <td>5.84</td>\n",
       "      <td>Special</td>\n",
       "      <td>1.0</td>\n",
       "      <td>A-1 Pictures</td>\n",
       "      <td>Manga</td>\n",
       "      <td>0 days 00:23:00</td>\n",
       "      <td>PG-13 - Teens 13 or older</td>\n",
       "      <td>1</td>\n",
       "      <td>0</td>\n",
       "      <td>0</td>\n",
       "      <td>...</td>\n",
       "      <td>0</td>\n",
       "      <td>0</td>\n",
       "      <td>0</td>\n",
       "      <td>0</td>\n",
       "      <td>0</td>\n",
       "      <td>0</td>\n",
       "      <td>0</td>\n",
       "      <td>0</td>\n",
       "      <td>0</td>\n",
       "      <td>0</td>\n",
       "    </tr>\n",
       "    <tr>\n",
       "      <th>24590</th>\n",
       "      <td>5.99</td>\n",
       "      <td>ONA</td>\n",
       "      <td>1.0</td>\n",
       "      <td>HMCH, Gravity Well</td>\n",
       "      <td>Game</td>\n",
       "      <td>0 days 00:03:00</td>\n",
       "      <td>PG-13 - Teens 13 or older</td>\n",
       "      <td>1</td>\n",
       "      <td>0</td>\n",
       "      <td>0</td>\n",
       "      <td>...</td>\n",
       "      <td>0</td>\n",
       "      <td>0</td>\n",
       "      <td>0</td>\n",
       "      <td>1</td>\n",
       "      <td>0</td>\n",
       "      <td>0</td>\n",
       "      <td>0</td>\n",
       "      <td>0</td>\n",
       "      <td>0</td>\n",
       "      <td>0</td>\n",
       "    </tr>\n",
       "    <tr>\n",
       "      <th>24831</th>\n",
       "      <td>6.29</td>\n",
       "      <td>Special</td>\n",
       "      <td>1.0</td>\n",
       "      <td>NaN</td>\n",
       "      <td>Manga</td>\n",
       "      <td>0 days 00:24:00</td>\n",
       "      <td>PG-13 - Teens 13 or older</td>\n",
       "      <td>1</td>\n",
       "      <td>1</td>\n",
       "      <td>0</td>\n",
       "      <td>...</td>\n",
       "      <td>0</td>\n",
       "      <td>0</td>\n",
       "      <td>0</td>\n",
       "      <td>0</td>\n",
       "      <td>0</td>\n",
       "      <td>0</td>\n",
       "      <td>0</td>\n",
       "      <td>0</td>\n",
       "      <td>0</td>\n",
       "      <td>0</td>\n",
       "    </tr>\n",
       "  </tbody>\n",
       "</table>\n",
       "<p>12314 rows × 28 columns</p>\n",
       "</div>"
      ],
      "text/plain": [
       "       Score     Type  Episodes             Studios    Source        Duration  \\\n",
       "0       8.75       TV      26.0             Sunrise  Original 0 days 00:24:00   \n",
       "1       8.38    Movie       1.0               Bones  Original 0 days 01:55:00   \n",
       "2       8.22       TV      26.0            Madhouse     Manga 0 days 00:24:00   \n",
       "3       7.25       TV      26.0             Sunrise  Original 0 days 00:25:00   \n",
       "4       6.94       TV      52.0      Toei Animation     Manga 0 days 00:23:00   \n",
       "...      ...      ...       ...                 ...       ...             ...   \n",
       "24539   6.47  Special       1.0      Toei Animation     Manga 0 days 00:24:00   \n",
       "24557   7.78      OVA      18.0                 NaN      Game 0 days 00:16:00   \n",
       "24579   5.84  Special       1.0        A-1 Pictures     Manga 0 days 00:23:00   \n",
       "24590   5.99      ONA       1.0  HMCH, Gravity Well      Game 0 days 00:03:00   \n",
       "24831   6.29  Special       1.0                 NaN     Manga 0 days 00:24:00   \n",
       "\n",
       "                               Rating  Action  Adventure  Avant Garde  ...  \\\n",
       "0      R - 17+ (violence & profanity)       1          0            0  ...   \n",
       "1      R - 17+ (violence & profanity)       1          0            0  ...   \n",
       "2           PG-13 - Teens 13 or older       1          1            0  ...   \n",
       "3           PG-13 - Teens 13 or older       1          0            0  ...   \n",
       "4                       PG - Children       0          1            0  ...   \n",
       "...                               ...     ...        ...          ...  ...   \n",
       "24539       PG-13 - Teens 13 or older       1          1            0  ...   \n",
       "24557       PG-13 - Teens 13 or older       0          0            0  ...   \n",
       "24579       PG-13 - Teens 13 or older       1          0            0  ...   \n",
       "24590       PG-13 - Teens 13 or older       1          0            0  ...   \n",
       "24831       PG-13 - Teens 13 or older       1          1            0  ...   \n",
       "\n",
       "       Gourmet  Hentai  Horror  Mystery  Romance  Sci-Fi  Slice of Life  \\\n",
       "0            0       0       0        0        0       1              0   \n",
       "1            0       0       0        0        0       1              0   \n",
       "2            0       0       0        0        0       1              0   \n",
       "3            0       0       0        1        0       0              0   \n",
       "4            0       0       0        0        0       0              0   \n",
       "...        ...     ...     ...      ...      ...     ...            ...   \n",
       "24539        0       0       0        0        0       0              0   \n",
       "24557        0       0       0        0        0       0              0   \n",
       "24579        0       0       0        0        0       0              0   \n",
       "24590        0       0       0        1        0       0              0   \n",
       "24831        0       0       0        0        0       0              0   \n",
       "\n",
       "       Sports  Supernatural  Suspense  \n",
       "0           0             0         0  \n",
       "1           0             0         0  \n",
       "2           0             0         0  \n",
       "3           0             1         0  \n",
       "4           0             1         0  \n",
       "...       ...           ...       ...  \n",
       "24539       0             0         0  \n",
       "24557       0             0         0  \n",
       "24579       0             0         0  \n",
       "24590       0             0         0  \n",
       "24831       0             0         0  \n",
       "\n",
       "[12314 rows x 28 columns]"
      ]
     },
     "execution_count": 63,
     "metadata": {},
     "output_type": "execute_result"
    }
   ],
   "source": [
    "animes"
   ]
  },
  {
   "cell_type": "markdown",
   "metadata": {},
   "source": [
    "我做到这里了 - Jason"
   ]
  },
  {
   "cell_type": "markdown",
   "metadata": {
    "tags": []
   },
   "source": [
    "#### For the remaining missing values, we will fill the mean if it is a numerical value and the most frequent if it is a categorical column.\n",
    "\n",
    "#### We will do this through creating a pipeline, that will also scale the features and perform encoding in the next step.\n",
    "\n",
    "\n"
   ]
  },
  {
   "cell_type": "markdown",
   "metadata": {
    "tags": []
   },
   "source": [
    "### 4.3. Create a pipeline that will \n",
    "\n",
    "1. Fill in the missing numerical values with the mean using a SimpleImputer\n",
    "\n",
    "2. Scale the numerical columns using StandardScaler. Do not scale the target\n",
    "\n",
    "3. Fill in the missing categorical values with the most_frequent value using SimpleImputer\n",
    "\n",
    "4. Encode the categorical columns using OneHotEncoder\n"
   ]
  },
  {
   "cell_type": "code",
   "execution_count": 24,
   "metadata": {
    "tags": []
   },
   "outputs": [],
   "source": [
    "from sklearn.compose import ColumnTransformer\n",
    "from sklearn.pipeline import make_pipeline\n",
    "from sklearn.preprocessing import OneHotEncoder, StandardScaler\n",
    "from sklearn.impute import SimpleImputer\n",
    "from scipy import sparse"
   ]
  },
  {
   "cell_type": "code",
   "execution_count": 25,
   "metadata": {},
   "outputs": [
    {
     "name": "stdout",
     "output_type": "stream",
     "text": [
      "['Name', 'English name', 'Other name', 'Genres', 'Synopsis', 'Type', 'Aired', 'Premiered', 'Status', 'Producers', 'Licensors', 'Studios', 'Source', 'Duration', 'Rating', 'Image URL']\n"
     ]
    },
    {
     "name": "stderr",
     "output_type": "stream",
     "text": [
      "C:\\Users\\Yiran Shen\\AppData\\Local\\Temp\\ipykernel_39048\\265602912.py:5: FutureWarning: DataFrame.applymap has been deprecated. Use DataFrame.map instead.\n",
      "  contains_letters = animes.applymap(lambda x: isinstance(x, str) and any(c.isalpha() for c in x))\n"
     ]
    }
   ],
   "source": [
    "# 分离数值列和分类列，假设 'Score' 是目标列\n",
    "num_cols = animes.select_dtypes(include='number').columns.tolist()\n",
    "\n",
    "# 检查 DataFrame 中每个元素是否包含字母，返回一个布尔型 DataFrame\n",
    "contains_letters = animes.applymap(lambda x: isinstance(x, str) and any(c.isalpha() for c in x))\n",
    "\n",
    "# 通过在每列中查找至少一个 True（即包含字母），来确定哪些列是分类列\n",
    "cat_cols = contains_letters.any().loc[lambda x: x].index.tolist()\n",
    "\n",
    "\n",
    "# 从数值列中移除目标列 'Score'\n",
    "if 'Score' in num_cols:\n",
    "    num_cols.remove('Score')\n",
    "print(cat_cols)\n",
    "# 创建针对数值列和分类列的管道\n",
    "num_pipeline = make_pipeline(SimpleImputer(strategy='mean'), StandardScaler())\n",
    "cat_pipeline = make_pipeline(SimpleImputer(strategy='most_frequent'), OneHotEncoder())\n",
    "\n",
    "# 使用ColumnTransformer来应用这些管道\n",
    "preprocessing = ColumnTransformer(\n",
    "    transformers=[\n",
    "        ('num', num_pipeline, num_cols),\n",
    "        ('cat', cat_pipeline, cat_cols)\n",
    "    ],\n",
    "    remainder='passthrough'  # 保留其他未指定的列\n",
    ")"
   ]
  },
  {
   "cell_type": "markdown",
   "metadata": {
    "tags": []
   },
   "source": [
    "#### Display your pipeline"
   ]
  },
  {
   "cell_type": "code",
   "execution_count": 22,
   "metadata": {
    "tags": []
   },
   "outputs": [
    {
     "data": {
      "text/html": [
       "<style>#sk-container-id-1 {\n",
       "  /* Definition of color scheme common for light and dark mode */\n",
       "  --sklearn-color-text: black;\n",
       "  --sklearn-color-line: gray;\n",
       "  /* Definition of color scheme for unfitted estimators */\n",
       "  --sklearn-color-unfitted-level-0: #fff5e6;\n",
       "  --sklearn-color-unfitted-level-1: #f6e4d2;\n",
       "  --sklearn-color-unfitted-level-2: #ffe0b3;\n",
       "  --sklearn-color-unfitted-level-3: chocolate;\n",
       "  /* Definition of color scheme for fitted estimators */\n",
       "  --sklearn-color-fitted-level-0: #f0f8ff;\n",
       "  --sklearn-color-fitted-level-1: #d4ebff;\n",
       "  --sklearn-color-fitted-level-2: #b3dbfd;\n",
       "  --sklearn-color-fitted-level-3: cornflowerblue;\n",
       "\n",
       "  /* Specific color for light theme */\n",
       "  --sklearn-color-text-on-default-background: var(--sg-text-color, var(--theme-code-foreground, var(--jp-content-font-color1, black)));\n",
       "  --sklearn-color-background: var(--sg-background-color, var(--theme-background, var(--jp-layout-color0, white)));\n",
       "  --sklearn-color-border-box: var(--sg-text-color, var(--theme-code-foreground, var(--jp-content-font-color1, black)));\n",
       "  --sklearn-color-icon: #696969;\n",
       "\n",
       "  @media (prefers-color-scheme: dark) {\n",
       "    /* Redefinition of color scheme for dark theme */\n",
       "    --sklearn-color-text-on-default-background: var(--sg-text-color, var(--theme-code-foreground, var(--jp-content-font-color1, white)));\n",
       "    --sklearn-color-background: var(--sg-background-color, var(--theme-background, var(--jp-layout-color0, #111)));\n",
       "    --sklearn-color-border-box: var(--sg-text-color, var(--theme-code-foreground, var(--jp-content-font-color1, white)));\n",
       "    --sklearn-color-icon: #878787;\n",
       "  }\n",
       "}\n",
       "\n",
       "#sk-container-id-1 {\n",
       "  color: var(--sklearn-color-text);\n",
       "}\n",
       "\n",
       "#sk-container-id-1 pre {\n",
       "  padding: 0;\n",
       "}\n",
       "\n",
       "#sk-container-id-1 input.sk-hidden--visually {\n",
       "  border: 0;\n",
       "  clip: rect(1px 1px 1px 1px);\n",
       "  clip: rect(1px, 1px, 1px, 1px);\n",
       "  height: 1px;\n",
       "  margin: -1px;\n",
       "  overflow: hidden;\n",
       "  padding: 0;\n",
       "  position: absolute;\n",
       "  width: 1px;\n",
       "}\n",
       "\n",
       "#sk-container-id-1 div.sk-dashed-wrapped {\n",
       "  border: 1px dashed var(--sklearn-color-line);\n",
       "  margin: 0 0.4em 0.5em 0.4em;\n",
       "  box-sizing: border-box;\n",
       "  padding-bottom: 0.4em;\n",
       "  background-color: var(--sklearn-color-background);\n",
       "}\n",
       "\n",
       "#sk-container-id-1 div.sk-container {\n",
       "  /* jupyter's `normalize.less` sets `[hidden] { display: none; }`\n",
       "     but bootstrap.min.css set `[hidden] { display: none !important; }`\n",
       "     so we also need the `!important` here to be able to override the\n",
       "     default hidden behavior on the sphinx rendered scikit-learn.org.\n",
       "     See: https://github.com/scikit-learn/scikit-learn/issues/21755 */\n",
       "  display: inline-block !important;\n",
       "  position: relative;\n",
       "}\n",
       "\n",
       "#sk-container-id-1 div.sk-text-repr-fallback {\n",
       "  display: none;\n",
       "}\n",
       "\n",
       "div.sk-parallel-item,\n",
       "div.sk-serial,\n",
       "div.sk-item {\n",
       "  /* draw centered vertical line to link estimators */\n",
       "  background-image: linear-gradient(var(--sklearn-color-text-on-default-background), var(--sklearn-color-text-on-default-background));\n",
       "  background-size: 2px 100%;\n",
       "  background-repeat: no-repeat;\n",
       "  background-position: center center;\n",
       "}\n",
       "\n",
       "/* Parallel-specific style estimator block */\n",
       "\n",
       "#sk-container-id-1 div.sk-parallel-item::after {\n",
       "  content: \"\";\n",
       "  width: 100%;\n",
       "  border-bottom: 2px solid var(--sklearn-color-text-on-default-background);\n",
       "  flex-grow: 1;\n",
       "}\n",
       "\n",
       "#sk-container-id-1 div.sk-parallel {\n",
       "  display: flex;\n",
       "  align-items: stretch;\n",
       "  justify-content: center;\n",
       "  background-color: var(--sklearn-color-background);\n",
       "  position: relative;\n",
       "}\n",
       "\n",
       "#sk-container-id-1 div.sk-parallel-item {\n",
       "  display: flex;\n",
       "  flex-direction: column;\n",
       "}\n",
       "\n",
       "#sk-container-id-1 div.sk-parallel-item:first-child::after {\n",
       "  align-self: flex-end;\n",
       "  width: 50%;\n",
       "}\n",
       "\n",
       "#sk-container-id-1 div.sk-parallel-item:last-child::after {\n",
       "  align-self: flex-start;\n",
       "  width: 50%;\n",
       "}\n",
       "\n",
       "#sk-container-id-1 div.sk-parallel-item:only-child::after {\n",
       "  width: 0;\n",
       "}\n",
       "\n",
       "/* Serial-specific style estimator block */\n",
       "\n",
       "#sk-container-id-1 div.sk-serial {\n",
       "  display: flex;\n",
       "  flex-direction: column;\n",
       "  align-items: center;\n",
       "  background-color: var(--sklearn-color-background);\n",
       "  padding-right: 1em;\n",
       "  padding-left: 1em;\n",
       "}\n",
       "\n",
       "\n",
       "/* Toggleable style: style used for estimator/Pipeline/ColumnTransformer box that is\n",
       "clickable and can be expanded/collapsed.\n",
       "- Pipeline and ColumnTransformer use this feature and define the default style\n",
       "- Estimators will overwrite some part of the style using the `sk-estimator` class\n",
       "*/\n",
       "\n",
       "/* Pipeline and ColumnTransformer style (default) */\n",
       "\n",
       "#sk-container-id-1 div.sk-toggleable {\n",
       "  /* Default theme specific background. It is overwritten whether we have a\n",
       "  specific estimator or a Pipeline/ColumnTransformer */\n",
       "  background-color: var(--sklearn-color-background);\n",
       "}\n",
       "\n",
       "/* Toggleable label */\n",
       "#sk-container-id-1 label.sk-toggleable__label {\n",
       "  cursor: pointer;\n",
       "  display: block;\n",
       "  width: 100%;\n",
       "  margin-bottom: 0;\n",
       "  padding: 0.5em;\n",
       "  box-sizing: border-box;\n",
       "  text-align: center;\n",
       "}\n",
       "\n",
       "#sk-container-id-1 label.sk-toggleable__label-arrow:before {\n",
       "  /* Arrow on the left of the label */\n",
       "  content: \"▸\";\n",
       "  float: left;\n",
       "  margin-right: 0.25em;\n",
       "  color: var(--sklearn-color-icon);\n",
       "}\n",
       "\n",
       "#sk-container-id-1 label.sk-toggleable__label-arrow:hover:before {\n",
       "  color: var(--sklearn-color-text);\n",
       "}\n",
       "\n",
       "/* Toggleable content - dropdown */\n",
       "\n",
       "#sk-container-id-1 div.sk-toggleable__content {\n",
       "  max-height: 0;\n",
       "  max-width: 0;\n",
       "  overflow: hidden;\n",
       "  text-align: left;\n",
       "  /* unfitted */\n",
       "  background-color: var(--sklearn-color-unfitted-level-0);\n",
       "}\n",
       "\n",
       "#sk-container-id-1 div.sk-toggleable__content.fitted {\n",
       "  /* fitted */\n",
       "  background-color: var(--sklearn-color-fitted-level-0);\n",
       "}\n",
       "\n",
       "#sk-container-id-1 div.sk-toggleable__content pre {\n",
       "  margin: 0.2em;\n",
       "  border-radius: 0.25em;\n",
       "  color: var(--sklearn-color-text);\n",
       "  /* unfitted */\n",
       "  background-color: var(--sklearn-color-unfitted-level-0);\n",
       "}\n",
       "\n",
       "#sk-container-id-1 div.sk-toggleable__content.fitted pre {\n",
       "  /* unfitted */\n",
       "  background-color: var(--sklearn-color-fitted-level-0);\n",
       "}\n",
       "\n",
       "#sk-container-id-1 input.sk-toggleable__control:checked~div.sk-toggleable__content {\n",
       "  /* Expand drop-down */\n",
       "  max-height: 200px;\n",
       "  max-width: 100%;\n",
       "  overflow: auto;\n",
       "}\n",
       "\n",
       "#sk-container-id-1 input.sk-toggleable__control:checked~label.sk-toggleable__label-arrow:before {\n",
       "  content: \"▾\";\n",
       "}\n",
       "\n",
       "/* Pipeline/ColumnTransformer-specific style */\n",
       "\n",
       "#sk-container-id-1 div.sk-label input.sk-toggleable__control:checked~label.sk-toggleable__label {\n",
       "  color: var(--sklearn-color-text);\n",
       "  background-color: var(--sklearn-color-unfitted-level-2);\n",
       "}\n",
       "\n",
       "#sk-container-id-1 div.sk-label.fitted input.sk-toggleable__control:checked~label.sk-toggleable__label {\n",
       "  background-color: var(--sklearn-color-fitted-level-2);\n",
       "}\n",
       "\n",
       "/* Estimator-specific style */\n",
       "\n",
       "/* Colorize estimator box */\n",
       "#sk-container-id-1 div.sk-estimator input.sk-toggleable__control:checked~label.sk-toggleable__label {\n",
       "  /* unfitted */\n",
       "  background-color: var(--sklearn-color-unfitted-level-2);\n",
       "}\n",
       "\n",
       "#sk-container-id-1 div.sk-estimator.fitted input.sk-toggleable__control:checked~label.sk-toggleable__label {\n",
       "  /* fitted */\n",
       "  background-color: var(--sklearn-color-fitted-level-2);\n",
       "}\n",
       "\n",
       "#sk-container-id-1 div.sk-label label.sk-toggleable__label,\n",
       "#sk-container-id-1 div.sk-label label {\n",
       "  /* The background is the default theme color */\n",
       "  color: var(--sklearn-color-text-on-default-background);\n",
       "}\n",
       "\n",
       "/* On hover, darken the color of the background */\n",
       "#sk-container-id-1 div.sk-label:hover label.sk-toggleable__label {\n",
       "  color: var(--sklearn-color-text);\n",
       "  background-color: var(--sklearn-color-unfitted-level-2);\n",
       "}\n",
       "\n",
       "/* Label box, darken color on hover, fitted */\n",
       "#sk-container-id-1 div.sk-label.fitted:hover label.sk-toggleable__label.fitted {\n",
       "  color: var(--sklearn-color-text);\n",
       "  background-color: var(--sklearn-color-fitted-level-2);\n",
       "}\n",
       "\n",
       "/* Estimator label */\n",
       "\n",
       "#sk-container-id-1 div.sk-label label {\n",
       "  font-family: monospace;\n",
       "  font-weight: bold;\n",
       "  display: inline-block;\n",
       "  line-height: 1.2em;\n",
       "}\n",
       "\n",
       "#sk-container-id-1 div.sk-label-container {\n",
       "  text-align: center;\n",
       "}\n",
       "\n",
       "/* Estimator-specific */\n",
       "#sk-container-id-1 div.sk-estimator {\n",
       "  font-family: monospace;\n",
       "  border: 1px dotted var(--sklearn-color-border-box);\n",
       "  border-radius: 0.25em;\n",
       "  box-sizing: border-box;\n",
       "  margin-bottom: 0.5em;\n",
       "  /* unfitted */\n",
       "  background-color: var(--sklearn-color-unfitted-level-0);\n",
       "}\n",
       "\n",
       "#sk-container-id-1 div.sk-estimator.fitted {\n",
       "  /* fitted */\n",
       "  background-color: var(--sklearn-color-fitted-level-0);\n",
       "}\n",
       "\n",
       "/* on hover */\n",
       "#sk-container-id-1 div.sk-estimator:hover {\n",
       "  /* unfitted */\n",
       "  background-color: var(--sklearn-color-unfitted-level-2);\n",
       "}\n",
       "\n",
       "#sk-container-id-1 div.sk-estimator.fitted:hover {\n",
       "  /* fitted */\n",
       "  background-color: var(--sklearn-color-fitted-level-2);\n",
       "}\n",
       "\n",
       "/* Specification for estimator info (e.g. \"i\" and \"?\") */\n",
       "\n",
       "/* Common style for \"i\" and \"?\" */\n",
       "\n",
       ".sk-estimator-doc-link,\n",
       "a:link.sk-estimator-doc-link,\n",
       "a:visited.sk-estimator-doc-link {\n",
       "  float: right;\n",
       "  font-size: smaller;\n",
       "  line-height: 1em;\n",
       "  font-family: monospace;\n",
       "  background-color: var(--sklearn-color-background);\n",
       "  border-radius: 1em;\n",
       "  height: 1em;\n",
       "  width: 1em;\n",
       "  text-decoration: none !important;\n",
       "  margin-left: 1ex;\n",
       "  /* unfitted */\n",
       "  border: var(--sklearn-color-unfitted-level-1) 1pt solid;\n",
       "  color: var(--sklearn-color-unfitted-level-1);\n",
       "}\n",
       "\n",
       ".sk-estimator-doc-link.fitted,\n",
       "a:link.sk-estimator-doc-link.fitted,\n",
       "a:visited.sk-estimator-doc-link.fitted {\n",
       "  /* fitted */\n",
       "  border: var(--sklearn-color-fitted-level-1) 1pt solid;\n",
       "  color: var(--sklearn-color-fitted-level-1);\n",
       "}\n",
       "\n",
       "/* On hover */\n",
       "div.sk-estimator:hover .sk-estimator-doc-link:hover,\n",
       ".sk-estimator-doc-link:hover,\n",
       "div.sk-label-container:hover .sk-estimator-doc-link:hover,\n",
       ".sk-estimator-doc-link:hover {\n",
       "  /* unfitted */\n",
       "  background-color: var(--sklearn-color-unfitted-level-3);\n",
       "  color: var(--sklearn-color-background);\n",
       "  text-decoration: none;\n",
       "}\n",
       "\n",
       "div.sk-estimator.fitted:hover .sk-estimator-doc-link.fitted:hover,\n",
       ".sk-estimator-doc-link.fitted:hover,\n",
       "div.sk-label-container:hover .sk-estimator-doc-link.fitted:hover,\n",
       ".sk-estimator-doc-link.fitted:hover {\n",
       "  /* fitted */\n",
       "  background-color: var(--sklearn-color-fitted-level-3);\n",
       "  color: var(--sklearn-color-background);\n",
       "  text-decoration: none;\n",
       "}\n",
       "\n",
       "/* Span, style for the box shown on hovering the info icon */\n",
       ".sk-estimator-doc-link span {\n",
       "  display: none;\n",
       "  z-index: 9999;\n",
       "  position: relative;\n",
       "  font-weight: normal;\n",
       "  right: .2ex;\n",
       "  padding: .5ex;\n",
       "  margin: .5ex;\n",
       "  width: min-content;\n",
       "  min-width: 20ex;\n",
       "  max-width: 50ex;\n",
       "  color: var(--sklearn-color-text);\n",
       "  box-shadow: 2pt 2pt 4pt #999;\n",
       "  /* unfitted */\n",
       "  background: var(--sklearn-color-unfitted-level-0);\n",
       "  border: .5pt solid var(--sklearn-color-unfitted-level-3);\n",
       "}\n",
       "\n",
       ".sk-estimator-doc-link.fitted span {\n",
       "  /* fitted */\n",
       "  background: var(--sklearn-color-fitted-level-0);\n",
       "  border: var(--sklearn-color-fitted-level-3);\n",
       "}\n",
       "\n",
       ".sk-estimator-doc-link:hover span {\n",
       "  display: block;\n",
       "}\n",
       "\n",
       "/* \"?\"-specific style due to the `<a>` HTML tag */\n",
       "\n",
       "#sk-container-id-1 a.estimator_doc_link {\n",
       "  float: right;\n",
       "  font-size: 1rem;\n",
       "  line-height: 1em;\n",
       "  font-family: monospace;\n",
       "  background-color: var(--sklearn-color-background);\n",
       "  border-radius: 1rem;\n",
       "  height: 1rem;\n",
       "  width: 1rem;\n",
       "  text-decoration: none;\n",
       "  /* unfitted */\n",
       "  color: var(--sklearn-color-unfitted-level-1);\n",
       "  border: var(--sklearn-color-unfitted-level-1) 1pt solid;\n",
       "}\n",
       "\n",
       "#sk-container-id-1 a.estimator_doc_link.fitted {\n",
       "  /* fitted */\n",
       "  border: var(--sklearn-color-fitted-level-1) 1pt solid;\n",
       "  color: var(--sklearn-color-fitted-level-1);\n",
       "}\n",
       "\n",
       "/* On hover */\n",
       "#sk-container-id-1 a.estimator_doc_link:hover {\n",
       "  /* unfitted */\n",
       "  background-color: var(--sklearn-color-unfitted-level-3);\n",
       "  color: var(--sklearn-color-background);\n",
       "  text-decoration: none;\n",
       "}\n",
       "\n",
       "#sk-container-id-1 a.estimator_doc_link.fitted:hover {\n",
       "  /* fitted */\n",
       "  background-color: var(--sklearn-color-fitted-level-3);\n",
       "}\n",
       "</style><div id=\"sk-container-id-1\" class=\"sk-top-container\"><div class=\"sk-text-repr-fallback\"><pre>ColumnTransformer(remainder=&#x27;passthrough&#x27;,\n",
       "                  transformers=[(&#x27;num&#x27;,\n",
       "                                 Pipeline(steps=[(&#x27;simpleimputer&#x27;,\n",
       "                                                  SimpleImputer()),\n",
       "                                                 (&#x27;standardscaler&#x27;,\n",
       "                                                  StandardScaler())]),\n",
       "                                 [&#x27;Episodes&#x27;, &#x27;Rank&#x27;, &#x27;Popularity&#x27;, &#x27;Favorites&#x27;,\n",
       "                                  &#x27;Scored By&#x27;, &#x27;Members&#x27;]),\n",
       "                                (&#x27;cat&#x27;,\n",
       "                                 Pipeline(steps=[(&#x27;simpleimputer&#x27;,\n",
       "                                                  SimpleImputer(strategy=&#x27;most_frequent&#x27;)),\n",
       "                                                 (&#x27;onehotencoder&#x27;,\n",
       "                                                  OneHotEncoder())]),\n",
       "                                 [&#x27;Name&#x27;, &#x27;English name&#x27;, &#x27;Other name&#x27;,\n",
       "                                  &#x27;Genres&#x27;, &#x27;Synopsis&#x27;, &#x27;Type&#x27;, &#x27;Aired&#x27;,\n",
       "                                  &#x27;Premiered&#x27;, &#x27;Status&#x27;, &#x27;Producers&#x27;,\n",
       "                                  &#x27;Licensors&#x27;, &#x27;Studios&#x27;, &#x27;Source&#x27;, &#x27;Duration&#x27;,\n",
       "                                  &#x27;Rating&#x27;, &#x27;Image URL&#x27;])])</pre><b>In a Jupyter environment, please rerun this cell to show the HTML representation or trust the notebook. <br />On GitHub, the HTML representation is unable to render, please try loading this page with nbviewer.org.</b></div><div class=\"sk-container\" hidden><div class=\"sk-item sk-dashed-wrapped\"><div class=\"sk-label-container\"><div class=\"sk-label  sk-toggleable\"><input class=\"sk-toggleable__control sk-hidden--visually\" id=\"sk-estimator-id-1\" type=\"checkbox\" ><label for=\"sk-estimator-id-1\" class=\"sk-toggleable__label  sk-toggleable__label-arrow \">&nbsp;&nbsp;ColumnTransformer<a class=\"sk-estimator-doc-link \" rel=\"noreferrer\" target=\"_blank\" href=\"https://scikit-learn.org/1.4/modules/generated/sklearn.compose.ColumnTransformer.html\">?<span>Documentation for ColumnTransformer</span></a><span class=\"sk-estimator-doc-link \">i<span>Not fitted</span></span></label><div class=\"sk-toggleable__content \"><pre>ColumnTransformer(remainder=&#x27;passthrough&#x27;,\n",
       "                  transformers=[(&#x27;num&#x27;,\n",
       "                                 Pipeline(steps=[(&#x27;simpleimputer&#x27;,\n",
       "                                                  SimpleImputer()),\n",
       "                                                 (&#x27;standardscaler&#x27;,\n",
       "                                                  StandardScaler())]),\n",
       "                                 [&#x27;Episodes&#x27;, &#x27;Rank&#x27;, &#x27;Popularity&#x27;, &#x27;Favorites&#x27;,\n",
       "                                  &#x27;Scored By&#x27;, &#x27;Members&#x27;]),\n",
       "                                (&#x27;cat&#x27;,\n",
       "                                 Pipeline(steps=[(&#x27;simpleimputer&#x27;,\n",
       "                                                  SimpleImputer(strategy=&#x27;most_frequent&#x27;)),\n",
       "                                                 (&#x27;onehotencoder&#x27;,\n",
       "                                                  OneHotEncoder())]),\n",
       "                                 [&#x27;Name&#x27;, &#x27;English name&#x27;, &#x27;Other name&#x27;,\n",
       "                                  &#x27;Genres&#x27;, &#x27;Synopsis&#x27;, &#x27;Type&#x27;, &#x27;Aired&#x27;,\n",
       "                                  &#x27;Premiered&#x27;, &#x27;Status&#x27;, &#x27;Producers&#x27;,\n",
       "                                  &#x27;Licensors&#x27;, &#x27;Studios&#x27;, &#x27;Source&#x27;, &#x27;Duration&#x27;,\n",
       "                                  &#x27;Rating&#x27;, &#x27;Image URL&#x27;])])</pre></div> </div></div><div class=\"sk-parallel\"><div class=\"sk-parallel-item\"><div class=\"sk-item\"><div class=\"sk-label-container\"><div class=\"sk-label  sk-toggleable\"><input class=\"sk-toggleable__control sk-hidden--visually\" id=\"sk-estimator-id-2\" type=\"checkbox\" ><label for=\"sk-estimator-id-2\" class=\"sk-toggleable__label  sk-toggleable__label-arrow \">num</label><div class=\"sk-toggleable__content \"><pre>[&#x27;Episodes&#x27;, &#x27;Rank&#x27;, &#x27;Popularity&#x27;, &#x27;Favorites&#x27;, &#x27;Scored By&#x27;, &#x27;Members&#x27;]</pre></div> </div></div><div class=\"sk-serial\"><div class=\"sk-item\"><div class=\"sk-serial\"><div class=\"sk-item\"><div class=\"sk-estimator  sk-toggleable\"><input class=\"sk-toggleable__control sk-hidden--visually\" id=\"sk-estimator-id-3\" type=\"checkbox\" ><label for=\"sk-estimator-id-3\" class=\"sk-toggleable__label  sk-toggleable__label-arrow \">&nbsp;SimpleImputer<a class=\"sk-estimator-doc-link \" rel=\"noreferrer\" target=\"_blank\" href=\"https://scikit-learn.org/1.4/modules/generated/sklearn.impute.SimpleImputer.html\">?<span>Documentation for SimpleImputer</span></a></label><div class=\"sk-toggleable__content \"><pre>SimpleImputer()</pre></div> </div></div><div class=\"sk-item\"><div class=\"sk-estimator  sk-toggleable\"><input class=\"sk-toggleable__control sk-hidden--visually\" id=\"sk-estimator-id-4\" type=\"checkbox\" ><label for=\"sk-estimator-id-4\" class=\"sk-toggleable__label  sk-toggleable__label-arrow \">&nbsp;StandardScaler<a class=\"sk-estimator-doc-link \" rel=\"noreferrer\" target=\"_blank\" href=\"https://scikit-learn.org/1.4/modules/generated/sklearn.preprocessing.StandardScaler.html\">?<span>Documentation for StandardScaler</span></a></label><div class=\"sk-toggleable__content \"><pre>StandardScaler()</pre></div> </div></div></div></div></div></div></div><div class=\"sk-parallel-item\"><div class=\"sk-item\"><div class=\"sk-label-container\"><div class=\"sk-label  sk-toggleable\"><input class=\"sk-toggleable__control sk-hidden--visually\" id=\"sk-estimator-id-5\" type=\"checkbox\" ><label for=\"sk-estimator-id-5\" class=\"sk-toggleable__label  sk-toggleable__label-arrow \">cat</label><div class=\"sk-toggleable__content \"><pre>[&#x27;Name&#x27;, &#x27;English name&#x27;, &#x27;Other name&#x27;, &#x27;Genres&#x27;, &#x27;Synopsis&#x27;, &#x27;Type&#x27;, &#x27;Aired&#x27;, &#x27;Premiered&#x27;, &#x27;Status&#x27;, &#x27;Producers&#x27;, &#x27;Licensors&#x27;, &#x27;Studios&#x27;, &#x27;Source&#x27;, &#x27;Duration&#x27;, &#x27;Rating&#x27;, &#x27;Image URL&#x27;]</pre></div> </div></div><div class=\"sk-serial\"><div class=\"sk-item\"><div class=\"sk-serial\"><div class=\"sk-item\"><div class=\"sk-estimator  sk-toggleable\"><input class=\"sk-toggleable__control sk-hidden--visually\" id=\"sk-estimator-id-6\" type=\"checkbox\" ><label for=\"sk-estimator-id-6\" class=\"sk-toggleable__label  sk-toggleable__label-arrow \">&nbsp;SimpleImputer<a class=\"sk-estimator-doc-link \" rel=\"noreferrer\" target=\"_blank\" href=\"https://scikit-learn.org/1.4/modules/generated/sklearn.impute.SimpleImputer.html\">?<span>Documentation for SimpleImputer</span></a></label><div class=\"sk-toggleable__content \"><pre>SimpleImputer(strategy=&#x27;most_frequent&#x27;)</pre></div> </div></div><div class=\"sk-item\"><div class=\"sk-estimator  sk-toggleable\"><input class=\"sk-toggleable__control sk-hidden--visually\" id=\"sk-estimator-id-7\" type=\"checkbox\" ><label for=\"sk-estimator-id-7\" class=\"sk-toggleable__label  sk-toggleable__label-arrow \">&nbsp;OneHotEncoder<a class=\"sk-estimator-doc-link \" rel=\"noreferrer\" target=\"_blank\" href=\"https://scikit-learn.org/1.4/modules/generated/sklearn.preprocessing.OneHotEncoder.html\">?<span>Documentation for OneHotEncoder</span></a></label><div class=\"sk-toggleable__content \"><pre>OneHotEncoder()</pre></div> </div></div></div></div></div></div></div><div class=\"sk-parallel-item\"><div class=\"sk-item\"><div class=\"sk-label-container\"><div class=\"sk-label  sk-toggleable\"><input class=\"sk-toggleable__control sk-hidden--visually\" id=\"sk-estimator-id-8\" type=\"checkbox\" ><label for=\"sk-estimator-id-8\" class=\"sk-toggleable__label  sk-toggleable__label-arrow \">remainder</label><div class=\"sk-toggleable__content \"><pre></pre></div> </div></div><div class=\"sk-serial\"><div class=\"sk-item\"><div class=\"sk-estimator  sk-toggleable\"><input class=\"sk-toggleable__control sk-hidden--visually\" id=\"sk-estimator-id-9\" type=\"checkbox\" ><label for=\"sk-estimator-id-9\" class=\"sk-toggleable__label  sk-toggleable__label-arrow \">passthrough</label><div class=\"sk-toggleable__content \"><pre>passthrough</pre></div> </div></div></div></div></div></div></div></div></div>"
      ],
      "text/plain": [
       "ColumnTransformer(remainder='passthrough',\n",
       "                  transformers=[('num',\n",
       "                                 Pipeline(steps=[('simpleimputer',\n",
       "                                                  SimpleImputer()),\n",
       "                                                 ('standardscaler',\n",
       "                                                  StandardScaler())]),\n",
       "                                 ['Episodes', 'Rank', 'Popularity', 'Favorites',\n",
       "                                  'Scored By', 'Members']),\n",
       "                                ('cat',\n",
       "                                 Pipeline(steps=[('simpleimputer',\n",
       "                                                  SimpleImputer(strategy='most_frequent')),\n",
       "                                                 ('onehotencoder',\n",
       "                                                  OneHotEncoder())]),\n",
       "                                 ['Name', 'English name', 'Other name',\n",
       "                                  'Genres', 'Synopsis', 'Type', 'Aired',\n",
       "                                  'Premiered', 'Status', 'Producers',\n",
       "                                  'Licensors', 'Studios', 'Source', 'Duration',\n",
       "                                  'Rating', 'Image URL'])])"
      ]
     },
     "execution_count": 22,
     "metadata": {},
     "output_type": "execute_result"
    }
   ],
   "source": [
    "# Show the pipeline\n",
    "preprocessing"
   ]
  },
  {
   "cell_type": "code",
   "execution_count": 28,
   "metadata": {},
   "outputs": [
    {
     "name": "stdout",
     "output_type": "stream",
     "text": [
      "       num__Episodes  num__Rank  num__Popularity  num__Favorites  \\\n",
      "0           0.231062  -1.876324        -1.700557       17.939516   \n",
      "1          -0.289982  -1.848330        -1.622781        0.233260   \n",
      "2           0.231062  -1.822038        -1.672313        3.354489   \n",
      "3           0.231062  -1.361269        -1.456793        0.041443   \n",
      "4           0.772947  -1.082084        -0.993336       -0.096160   \n",
      "...              ...        ...              ...             ...   \n",
      "24900       0.001802   0.000000         1.733285       -0.099376   \n",
      "24901       0.064328  -1.884079        -1.706540       -0.099376   \n",
      "24902       0.022644  -1.884079        -1.706540       -0.099376   \n",
      "24903      -0.289982  -1.884079        -1.706540       -0.099376   \n",
      "24904      -0.289982  -1.884079        -1.706540       -0.099376   \n",
      "\n",
      "       num__Scored By  num__Members  cat__Name_!NVADE SHOW!  cat__Name_\"0\"  \\\n",
      "0        9.526511e+00     11.059667                     0.0            0.0   \n",
      "1        1.899160e+00      2.065226                     0.0            0.0   \n",
      "2        3.520540e+00      4.400828                     0.0            0.0   \n",
      "3        1.384948e-01      0.477140                     0.0            0.0   \n",
      "4       -2.538487e-01     -0.140949                     0.0            0.0   \n",
      "...               ...           ...                     ...            ...   \n",
      "24900   -7.839067e-17     -0.236605                     0.0            0.0   \n",
      "24901   -7.839067e-17     -0.236605                     0.0            0.0   \n",
      "24902   -7.839067e-17     -0.236605                     0.0            0.0   \n",
      "24903   -7.839067e-17     -0.236605                     0.0            0.0   \n",
      "24904   -7.839067e-17     -0.236605                     0.0            0.0   \n",
      "\n",
      "       cat__Name_\"Aesop\" no Ohanashi yori: Ushi to Kaeru, Yokubatta Inu  \\\n",
      "0                                                    0.0                  \n",
      "1                                                    0.0                  \n",
      "2                                                    0.0                  \n",
      "3                                                    0.0                  \n",
      "4                                                    0.0                  \n",
      "...                                                  ...                  \n",
      "24900                                                0.0                  \n",
      "24901                                                0.0                  \n",
      "24902                                                0.0                  \n",
      "24903                                                0.0                  \n",
      "24904                                                0.0                  \n",
      "\n",
      "       cat__Name_\"Ai\" wo Taberu  ...  \\\n",
      "0                           0.0  ...   \n",
      "1                           0.0  ...   \n",
      "2                           0.0  ...   \n",
      "3                           0.0  ...   \n",
      "4                           0.0  ...   \n",
      "...                         ...  ...   \n",
      "24900                       0.0  ...   \n",
      "24901                       0.0  ...   \n",
      "24902                       0.0  ...   \n",
      "24903                       0.0  ...   \n",
      "24904                       0.0  ...   \n",
      "\n",
      "       cat__Image URL_https://cdn.myanimelist.net/images/anime/9/89851.jpg  \\\n",
      "0                                                    0.0                     \n",
      "1                                                    0.0                     \n",
      "2                                                    0.0                     \n",
      "3                                                    0.0                     \n",
      "4                                                    0.0                     \n",
      "...                                                  ...                     \n",
      "24900                                                0.0                     \n",
      "24901                                                0.0                     \n",
      "24902                                                0.0                     \n",
      "24903                                                0.0                     \n",
      "24904                                                0.0                     \n",
      "\n",
      "       cat__Image URL_https://cdn.myanimelist.net/images/anime/9/89904.jpg  \\\n",
      "0                                                    0.0                     \n",
      "1                                                    0.0                     \n",
      "2                                                    0.0                     \n",
      "3                                                    0.0                     \n",
      "4                                                    0.0                     \n",
      "...                                                  ...                     \n",
      "24900                                                0.0                     \n",
      "24901                                                0.0                     \n",
      "24902                                                0.0                     \n",
      "24903                                                0.0                     \n",
      "24904                                                0.0                     \n",
      "\n",
      "       cat__Image URL_https://cdn.myanimelist.net/images/anime/9/89936.jpg  \\\n",
      "0                                                    0.0                     \n",
      "1                                                    0.0                     \n",
      "2                                                    0.0                     \n",
      "3                                                    0.0                     \n",
      "4                                                    0.0                     \n",
      "...                                                  ...                     \n",
      "24900                                                0.0                     \n",
      "24901                                                0.0                     \n",
      "24902                                                0.0                     \n",
      "24903                                                0.0                     \n",
      "24904                                                0.0                     \n",
      "\n",
      "       cat__Image URL_https://cdn.myanimelist.net/images/anime/9/89993.jpg  \\\n",
      "0                                                    0.0                     \n",
      "1                                                    0.0                     \n",
      "2                                                    0.0                     \n",
      "3                                                    0.0                     \n",
      "4                                                    0.0                     \n",
      "...                                                  ...                     \n",
      "24900                                                0.0                     \n",
      "24901                                                0.0                     \n",
      "24902                                                0.0                     \n",
      "24903                                                0.0                     \n",
      "24904                                                0.0                     \n",
      "\n",
      "       cat__Image URL_https://cdn.myanimelist.net/images/anime/9/9074.jpg  \\\n",
      "0                                                    0.0                    \n",
      "1                                                    0.0                    \n",
      "2                                                    0.0                    \n",
      "3                                                    0.0                    \n",
      "4                                                    0.0                    \n",
      "...                                                  ...                    \n",
      "24900                                                0.0                    \n",
      "24901                                                0.0                    \n",
      "24902                                                0.0                    \n",
      "24903                                                0.0                    \n",
      "24904                                                0.0                    \n",
      "\n",
      "       cat__Image URL_https://cdn.myanimelist.net/images/anime/9/9351.jpg  \\\n",
      "0                                                    0.0                    \n",
      "1                                                    0.0                    \n",
      "2                                                    0.0                    \n",
      "3                                                    0.0                    \n",
      "4                                                    0.0                    \n",
      "...                                                  ...                    \n",
      "24900                                                0.0                    \n",
      "24901                                                0.0                    \n",
      "24902                                                0.0                    \n",
      "24903                                                0.0                    \n",
      "24904                                                0.0                    \n",
      "\n",
      "       cat__Image URL_https://cdn.myanimelist.net/images/anime/9/9453.jpg  \\\n",
      "0                                                    0.0                    \n",
      "1                                                    0.0                    \n",
      "2                                                    0.0                    \n",
      "3                                                    0.0                    \n",
      "4                                                    0.0                    \n",
      "...                                                  ...                    \n",
      "24900                                                0.0                    \n",
      "24901                                                0.0                    \n",
      "24902                                                0.0                    \n",
      "24903                                                0.0                    \n",
      "24904                                                0.0                    \n",
      "\n",
      "       cat__Image URL_https://cdn.myanimelist.net/images/anime/9/9503.jpg  \\\n",
      "0                                                    0.0                    \n",
      "1                                                    0.0                    \n",
      "2                                                    0.0                    \n",
      "3                                                    0.0                    \n",
      "4                                                    0.0                    \n",
      "...                                                  ...                    \n",
      "24900                                                0.0                    \n",
      "24901                                                0.0                    \n",
      "24902                                                0.0                    \n",
      "24903                                                0.0                    \n",
      "24904                                                0.0                    \n",
      "\n",
      "       cat__Image URL_https://cdn.myanimelist.net/img/sp/icon/apple-touch-icon-256.png  \\\n",
      "0                                                    0.0                                 \n",
      "1                                                    0.0                                 \n",
      "2                                                    0.0                                 \n",
      "3                                                    0.0                                 \n",
      "4                                                    0.0                                 \n",
      "...                                                  ...                                 \n",
      "24900                                                0.0                                 \n",
      "24901                                                0.0                                 \n",
      "24902                                                0.0                                 \n",
      "24903                                                0.0                                 \n",
      "24904                                                0.0                                 \n",
      "\n",
      "       remainder__Score  \n",
      "0                  8.75  \n",
      "1                  8.38  \n",
      "2                  8.22  \n",
      "3                  7.25  \n",
      "4                  6.94  \n",
      "...                 ...  \n",
      "24900               NaN  \n",
      "24901               NaN  \n",
      "24902               NaN  \n",
      "24903               NaN  \n",
      "24904               NaN  \n",
      "\n",
      "[24905 rows x 126723 columns]\n"
     ]
    }
   ],
   "source": [
    "# 对 'animes' 数据集应用预处理\n",
    "animes_prepared = preprocessing.fit_transform(animes)\n",
    "\n",
    "# 如果结果是稀疏矩阵，则将其转换为密集矩阵\n",
    "if sparse.issparse(animes_prepared):\n",
    "    animes_prepared = animes_prepared.toarray()\n",
    "\n",
    "# 获取转换后的特征名称\n",
    "feature_names = preprocessing.get_feature_names_out()\n",
    "\n",
    "# 使用处理后的数据和特征名称创建新的DataFrame\n",
    "animes_prepared_df = pd.DataFrame(animes_prepared, columns=feature_names)\n",
    "\n",
    "# 查看预处理后的DataFrame\n",
    "print(animes_prepared_df)"
   ]
  },
  {
   "cell_type": "markdown",
   "metadata": {},
   "source": [
    "# 5. Select a model and train it"
   ]
  },
  {
   "cell_type": "markdown",
   "metadata": {},
   "source": [
    "## 5.1 Split the dataset into a training dataset (80%) and testing dataset."
   ]
  },
  {
   "cell_type": "code",
   "execution_count": null,
   "metadata": {},
   "outputs": [
    {
     "name": "stdout",
     "output_type": "stream",
     "text": [
      "(310, 55) (310,) (78, 55) (78,)\n"
     ]
    }
   ],
   "source": [
    "from sklearn.model_selection import train_test_split\n",
    "\n",
    "X = students_prepared.drop([\"remainder__G3\"], axis=1)\n",
    "y = students_prepared[\"remainder__G3\"]\n",
    "\n",
    "X_train, X_test, y_train, y_test = train_test_split(X, y, test_size=0.2, random_state=42)\n",
    "print(X_train.shape, y_train.shape, X_test.shape, y_test.shape)"
   ]
  },
  {
   "cell_type": "markdown",
   "metadata": {
    "tags": []
   },
   "source": [
    "### 5.2 Train a Linear Regression model "
   ]
  },
  {
   "cell_type": "code",
   "execution_count": null,
   "metadata": {},
   "outputs": [
    {
     "data": {
      "text/html": [
       "<style>#sk-container-id-12 {color: black;}#sk-container-id-12 pre{padding: 0;}#sk-container-id-12 div.sk-toggleable {background-color: white;}#sk-container-id-12 label.sk-toggleable__label {cursor: pointer;display: block;width: 100%;margin-bottom: 0;padding: 0.3em;box-sizing: border-box;text-align: center;}#sk-container-id-12 label.sk-toggleable__label-arrow:before {content: \"▸\";float: left;margin-right: 0.25em;color: #696969;}#sk-container-id-12 label.sk-toggleable__label-arrow:hover:before {color: black;}#sk-container-id-12 div.sk-estimator:hover label.sk-toggleable__label-arrow:before {color: black;}#sk-container-id-12 div.sk-toggleable__content {max-height: 0;max-width: 0;overflow: hidden;text-align: left;background-color: #f0f8ff;}#sk-container-id-12 div.sk-toggleable__content pre {margin: 0.2em;color: black;border-radius: 0.25em;background-color: #f0f8ff;}#sk-container-id-12 input.sk-toggleable__control:checked~div.sk-toggleable__content {max-height: 200px;max-width: 100%;overflow: auto;}#sk-container-id-12 input.sk-toggleable__control:checked~label.sk-toggleable__label-arrow:before {content: \"▾\";}#sk-container-id-12 div.sk-estimator input.sk-toggleable__control:checked~label.sk-toggleable__label {background-color: #d4ebff;}#sk-container-id-12 div.sk-label input.sk-toggleable__control:checked~label.sk-toggleable__label {background-color: #d4ebff;}#sk-container-id-12 input.sk-hidden--visually {border: 0;clip: rect(1px 1px 1px 1px);clip: rect(1px, 1px, 1px, 1px);height: 1px;margin: -1px;overflow: hidden;padding: 0;position: absolute;width: 1px;}#sk-container-id-12 div.sk-estimator {font-family: monospace;background-color: #f0f8ff;border: 1px dotted black;border-radius: 0.25em;box-sizing: border-box;margin-bottom: 0.5em;}#sk-container-id-12 div.sk-estimator:hover {background-color: #d4ebff;}#sk-container-id-12 div.sk-parallel-item::after {content: \"\";width: 100%;border-bottom: 1px solid gray;flex-grow: 1;}#sk-container-id-12 div.sk-label:hover label.sk-toggleable__label {background-color: #d4ebff;}#sk-container-id-12 div.sk-serial::before {content: \"\";position: absolute;border-left: 1px solid gray;box-sizing: border-box;top: 0;bottom: 0;left: 50%;z-index: 0;}#sk-container-id-12 div.sk-serial {display: flex;flex-direction: column;align-items: center;background-color: white;padding-right: 0.2em;padding-left: 0.2em;position: relative;}#sk-container-id-12 div.sk-item {position: relative;z-index: 1;}#sk-container-id-12 div.sk-parallel {display: flex;align-items: stretch;justify-content: center;background-color: white;position: relative;}#sk-container-id-12 div.sk-item::before, #sk-container-id-12 div.sk-parallel-item::before {content: \"\";position: absolute;border-left: 1px solid gray;box-sizing: border-box;top: 0;bottom: 0;left: 50%;z-index: -1;}#sk-container-id-12 div.sk-parallel-item {display: flex;flex-direction: column;z-index: 1;position: relative;background-color: white;}#sk-container-id-12 div.sk-parallel-item:first-child::after {align-self: flex-end;width: 50%;}#sk-container-id-12 div.sk-parallel-item:last-child::after {align-self: flex-start;width: 50%;}#sk-container-id-12 div.sk-parallel-item:only-child::after {width: 0;}#sk-container-id-12 div.sk-dashed-wrapped {border: 1px dashed gray;margin: 0 0.4em 0.5em 0.4em;box-sizing: border-box;padding-bottom: 0.4em;background-color: white;}#sk-container-id-12 div.sk-label label {font-family: monospace;font-weight: bold;display: inline-block;line-height: 1.2em;}#sk-container-id-12 div.sk-label-container {text-align: center;}#sk-container-id-12 div.sk-container {/* jupyter's `normalize.less` sets `[hidden] { display: none; }` but bootstrap.min.css set `[hidden] { display: none !important; }` so we also need the `!important` here to be able to override the default hidden behavior on the sphinx rendered scikit-learn.org. See: https://github.com/scikit-learn/scikit-learn/issues/21755 */display: inline-block !important;position: relative;}#sk-container-id-12 div.sk-text-repr-fallback {display: none;}</style><div id=\"sk-container-id-12\" class=\"sk-top-container\"><div class=\"sk-text-repr-fallback\"><pre>LinearRegression()</pre><b>In a Jupyter environment, please rerun this cell to show the HTML representation or trust the notebook. <br />On GitHub, the HTML representation is unable to render, please try loading this page with nbviewer.org.</b></div><div class=\"sk-container\" hidden><div class=\"sk-item\"><div class=\"sk-estimator sk-toggleable\"><input class=\"sk-toggleable__control sk-hidden--visually\" id=\"sk-estimator-id-56\" type=\"checkbox\" checked><label for=\"sk-estimator-id-56\" class=\"sk-toggleable__label sk-toggleable__label-arrow\">LinearRegression</label><div class=\"sk-toggleable__content\"><pre>LinearRegression()</pre></div></div></div></div></div>"
      ],
      "text/plain": [
       "LinearRegression()"
      ]
     },
     "execution_count": 217,
     "metadata": {},
     "output_type": "execute_result"
    }
   ],
   "source": [
    "from sklearn.linear_model import LinearRegression\n",
    "\n",
    "lr_model = LinearRegression()\n",
    "\n",
    "lr_model.fit(X_train,y_train)\n",
    "\n"
   ]
  },
  {
   "cell_type": "markdown",
   "metadata": {
    "tags": []
   },
   "source": [
    "### Test your model on the test set, and report on the Mean Squared Error"
   ]
  },
  {
   "cell_type": "code",
   "execution_count": null,
   "metadata": {
    "tags": []
   },
   "outputs": [
    {
     "data": {
      "text/plain": [
       "4.143203588632437"
      ]
     },
     "execution_count": 214,
     "metadata": {},
     "output_type": "execute_result"
    }
   ],
   "source": [
    "# Predict the outcome of test data\n",
    "\n",
    "lr_y_predict = lr_model.predict(X_test)\n",
    "\n",
    "from sklearn.metrics import mean_squared_error as mse\n",
    "lr_mse=mse(y_test, lr_y_predict)\n",
    "lr_mse"
   ]
  },
  {
   "cell_type": "markdown",
   "metadata": {},
   "source": [
    "### 5.3 Train a Linear Regression model using KFold cross-validation with 5 folds, and report on the cross validation score, use negative mean squared error as the cross validation metric."
   ]
  },
  {
   "cell_type": "code",
   "execution_count": null,
   "metadata": {
    "tags": []
   },
   "outputs": [
    {
     "data": {
      "text/plain": [
       "array([-2.91241728, -3.80327199, -4.33055952, -5.22567454, -5.45568704])"
      ]
     },
     "execution_count": 218,
     "metadata": {},
     "output_type": "execute_result"
    }
   ],
   "source": [
    "from sklearn.model_selection import cross_val_score, KFold\n",
    "\n",
    "scores = cross_val_score(lr_model, X_train, y_train, cv=5, scoring='neg_mean_squared_error')\n",
    "\n",
    "scores"
   ]
  },
  {
   "cell_type": "markdown",
   "metadata": {
    "tags": []
   },
   "source": [
    "### 5.4 Calculate the mean and standard deviation of the cross-validation scores to get an overall assessment of the model's performance:"
   ]
  },
  {
   "cell_type": "code",
   "execution_count": null,
   "metadata": {
    "tags": []
   },
   "outputs": [
    {
     "name": "stdout",
     "output_type": "stream",
     "text": [
      "Cross-Validation Mean Score: 4.345522073007399\n"
     ]
    }
   ],
   "source": [
    "mean_score = -scores.mean()  # Take the negative value to get the mean squared error\n",
    "\n",
    "print(f'Cross-Validation Mean Score: {mean_score}')\n"
   ]
  },
  {
   "cell_type": "markdown",
   "metadata": {},
   "source": [
    "**NOTE** cross_val_score in scikit-learn does allow you to use mean squared error (MSE) as a scoring metric. \n",
    "\n",
    "However, you should use 'neg_mean_squared_error' as the scoring parameter when you call cross_val_score. \n",
    "\n",
    "The reason for this naming convention is that cross_val_score follows a convention where greater values are better for scoring, while MSE is typically minimized (you want it to be as small as possible). \n",
    "\n",
    "To reconcile this, you use the negative MSE, which turns it into a maximizing score (higher is better).\n",
    "\n",
    "Here's how you can use cross_val_score with negative mean squared error:\n",
    "\n",
    "scores = cross_val_score(model, X, y, cv=5, scoring=make_scorer(mean_squared_error, greater_is_better=False))\n",
    "\n"
   ]
  },
  {
   "cell_type": "markdown",
   "metadata": {},
   "source": [
    "### 5.5 Train a Linear Regression model using Ridge and Lasso regularization with alpha=1"
   ]
  },
  {
   "cell_type": "code",
   "execution_count": null,
   "metadata": {
    "tags": []
   },
   "outputs": [],
   "source": [
    "from sklearn.linear_model import LinearRegression, Ridge, Lasso\n",
    "\n",
    "RidgeRegression = Ridge(alpha=1)\n",
    "ridge_model = RidgeRegression.fit(X_train, y_train)\n",
    "\n",
    "\n",
    "LassoRegression = Lasso(alpha=1)\n",
    "lasso_model = LassoRegression.fit(X_train, y_train)\n"
   ]
  },
  {
   "cell_type": "markdown",
   "metadata": {},
   "source": [
    "### Test your models on the test dataset and report on the MSE"
   ]
  },
  {
   "cell_type": "code",
   "execution_count": null,
   "metadata": {},
   "outputs": [
    {
     "name": "stdout",
     "output_type": "stream",
     "text": [
      "Ridge Regression MSE: 4.7727991836465735\n",
      "Lasso Regression MSE: 5.428927512796546\n"
     ]
    }
   ],
   "source": [
    "Ridge_y_predict = ridge_model.predict(X_test)\n",
    "Lasso_y_predict = lasso_model.predict(X_test)\n",
    "ridge_mse = mse(y_test, Ridge_y_predict)\n",
    "lasso_mse=mse(y_test, Lasso_y_predict)\n",
    "\n",
    "print(f'Ridge Regression MSE: {ridge_mse}')\n",
    "print(f'Lasso Regression MSE: {lasso_mse}')"
   ]
  },
  {
   "cell_type": "markdown",
   "metadata": {},
   "source": [
    "Compare the results from all the models"
   ]
  },
  {
   "cell_type": "code",
   "execution_count": null,
   "metadata": {},
   "outputs": [
    {
     "name": "stdout",
     "output_type": "stream",
     "text": [
      "Linear Regression MSE: 4.805093062229646\n",
      "Cross-Validation Mean Score: 5.622036270249344\n",
      "Ridge Regression MSE: 4.7727991836465735\n",
      "Lasso Regression MSE: 5.428927512796546\n"
     ]
    }
   ],
   "source": [
    "print(f'Linear Regression MSE: {lr_mse}')\n",
    "print(f'Cross-Validation Mean Score: {mean_score}')\n",
    "print(f'Ridge Regression MSE: {ridge_mse}')\n",
    "print(f'Lasso Regression MSE: {lasso_mse}')\n"
   ]
  },
  {
   "cell_type": "markdown",
   "metadata": {
    "tags": []
   },
   "source": [
    "### 5.6 Plot the prediction vs. actual for the best performing model"
   ]
  },
  {
   "cell_type": "code",
   "execution_count": null,
   "metadata": {
    "tags": []
   },
   "outputs": [
    {
     "data": {
      "image/png": "[encoded data removed]",
      "text/plain": [
       "<Figure size 640x480 with 1 Axes>"
      ]
     },
     "metadata": {},
     "output_type": "display_data"
    }
   ],
   "source": [
    "import matplotlib.pyplot as plt\n",
    "\n",
    "# Assuming 'lr_model' is your best performing trained linear regression model\n",
    "lr_y_predict = lr_model.predict(X_test)  # X is your feature data\n",
    "plt.scatter(lr_y_predict, y_test)  # y is your actual target values\n",
    "plt.xlabel(\"G3 Predicted Values\")\n",
    "plt.ylabel(\"G3 Actual Values\")\n",
    "plt.title(\"Predicted vs. Actual Values\")\n",
    "plt.show()"
   ]
  },
  {
   "cell_type": "markdown",
   "metadata": {},
   "source": [
    "# Markdown for Jupyter notebooks cheatsheet\n",
    "\n",
    "Source: https://www.ibm.com/docs/en/watson-studio-local/1.2.3?topic=notebooks-markdown-jupyter-cheatsheet\n",
    "\n",
    "Here's how to format Markdown cells in Jupyter notebooks:\n",
    "\n",
    "Headings\n",
    "\n",
    "Use the number sign (#) followed by a blank space for notebook titles and section headings:\n",
    "# for titles\n",
    "## for major headings\n",
    "### for subheadings\n",
    "#### for 4th level subheadings\n",
    "\n",
    "### Emphasis\n",
    "\n",
    "Use the following code to emphasize text:\n",
    "\n",
    "Bold text: __string__ or **string**\n",
    "\n",
    "Italic text: _string_ or *string*\n",
    "\n",
    "\n",
    "### Bullets\n",
    "\n",
    "To create a circular bullet point, use one of the following methods. Each bullet point must be on its own line.\n",
    "\n",
    "A hyphen (-) followed by one or two spaces, for example: - Bulleted item\n",
    "\n",
    "A space, a hyphen (-) and a space, for example: - Bulleted item\n",
    "\n",
    "An asterisk (*) followed by one or two spaces, for example: * Bulleted item\n",
    "\n",
    "## Numbered lists\n",
    "\n",
    "To create a numbered list, enter 1. followed by a space, for example:\n",
    "1. Numbered item\n",
    "1. Numbered item\n",
    "\n",
    "For simplicity, you use 1. before each entry. The list will be numbered correctly when you run the cell.\n",
    "\n"
   ]
  }
 ],
 "metadata": {
  "kernelspec": {
   "display_name": "Python 3 (ipykernel)",
   "language": "python",
   "name": "python3"
  },
  "language_info": {
   "codemirror_mode": {
    "name": "ipython",
    "version": 3
   },
   "file_extension": ".py",
   "mimetype": "text/x-python",
   "name": "python",
   "nbconvert_exporter": "python",
   "pygments_lexer": "ipython3",
   "version": "3.12.2"
  }
 },
 "nbformat": 4,
 "nbformat_minor": 4
}
