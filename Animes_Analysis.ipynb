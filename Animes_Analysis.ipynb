{
 "cells": [
  {
   "cell_type": "markdown",
   "metadata": {},
   "source": [
    "# Machine Learning Animes Analysis Project\n",
    "\n",
    "### Author: Wuyang Dai, Zhucheng Pan, Yiran Shen, Ruixin Zhang\n",
    "\n",
    "Original Dataset Source: SAJID. (2023). Anime Dataset 2023. Kaggle. https://www.kaggle.com/datasets/dbdmobile/myanimelist-dataset?resource=download&select=anime-dataset-2023.csv\n",
    "\n",
    "\n",
    "Modified Dataset: https://raw.githubusercontent.com/Threegoldsqwq/Machine_Learning_Animes_Analysis/main/anime-dataset-2023.csv"
   ]
  },
  {
   "cell_type": "markdown",
   "metadata": {},
   "source": [
    "# Anime Dataset 2023 Description\n",
    "\n",
    "**Attributes for Anime Dataset 2023:**\n",
    "\n",
    "1. anime_id: Unique ID for each anime.\n",
    "\n",
    "2. Name: The name of the anime in its original language.\n",
    "\n",
    "3. English name: The English name of the anime.\n",
    "\n",
    "4. Other name: Native name or title of the anime(can be in Japanese, Chinese or Korean).\n",
    "\n",
    "5. Score: The score or rating given to the anime.\n",
    "\n",
    "6. Genres: The genres of the anime, separated by commas.\n",
    "\n",
    "7. Synopsis: A brief description or summary of the anime's plot.\n",
    "\n",
    "8. Type: The type of the anime (e.g., TV series, movie, OVA, etc.).\n",
    "\n",
    "9. Episodes: The number of episodes in the anime.\n",
    "\n",
    "10. Aired: The dates when the anime was aired.\n",
    "\n",
    "11. Premiered: The season and year when the anime premiered.\n",
    "\n",
    "12. Status: The status of the anime (e.g., Finished Airing, Currently Airing, etc.).\n",
    "\n",
    "13. Producers: The production companies or producers of the anime.\n",
    "\n",
    "14. Licensors: The licensors of the anime (e.g., streaming platforms).\n",
    "\n",
    "15. Studios: The animation studios that worked on the anime.\n",
    "\n",
    "16. Source: The source material of the anime (e.g., manga, light novel, original).\n",
    "\n",
    "17. Duration: The duration of each episode.\n",
    "\n",
    "18. Rating: The age rating of the anime.\n",
    "\n",
    "19. Rank: The rank of the anime based on popularity or other criteria.\n",
    "\n",
    "20. Popularity: The popularity rank of the anime.\n",
    "\n",
    "21. Favorites: The number of times the anime was marked as a favorite by users.\n",
    "\n",
    "22. Scored By: The number of users who scored the anime.\n",
    "\n",
    "23. Members: The number of members who have added the anime to their list on the platform.\n",
    "\n",
    "24. Image URL: The URL of the anime's image or poster.\n",
    "\n",
    "**Missing values:**\n",
    "- English name: 14577\n",
    "- Other name:128\n",
    "- Score: 9213\n",
    "- Genres: 4929\n",
    "- Type: 74\n",
    "- Episodes: 611\n",
    "- Premiered: 19399\n",
    "- Producers: 13350\n",
    "- Licensors: 20170\n",
    "- Studios: 10526\n",
    "- Source:3689\n",
    "- Duration: 663\n",
    "- Rating: 669\n",
    "- Rank: 4612\n",
    "- Scored By: 9213\n"
   ]
  },
  {
   "cell_type": "markdown",
   "metadata": {},
   "source": [
    "# 1- Look at the big picture"
   ]
  },
  {
   "cell_type": "markdown",
   "metadata": {},
   "source": [
    "### Frame the problem\n",
    "1. Supervised learning – training examples are labeled.\n",
    "2. A classification task – predict a categorical data (genre of anime).\n",
    "3. Batch learning \n",
    "   - Small data set (after clean up)\n",
    "   - No continuous flow of data coming into the system\n",
    "   - No need to adjust to changing data rapidly\n",
    "\n",
    "### Look at the big picture\n",
    "Task: Using anime data to predict popular anime genres in the future.\n",
    "\n",
    "The result will help anime producers to decide which kind of anime should they make or which novel/manga should be animated"
   ]
  },
  {
   "cell_type": "code",
   "execution_count": 73,
   "metadata": {},
   "outputs": [],
   "source": [
    "# Import libraries\n",
    "\n",
    "import sklearn\n",
    "import numpy as np\n",
    "import pandas as pd\n",
    "import matplotlib.pyplot as plt\n",
    "import seaborn as sns"
   ]
  },
  {
   "cell_type": "markdown",
   "metadata": {},
   "source": [
    "# 2- Load the data"
   ]
  },
  {
   "cell_type": "code",
   "execution_count": 74,
   "metadata": {},
   "outputs": [],
   "source": [
    "# Load the dataset from github\n",
    "url = \"https://raw.githubusercontent.com/Threegoldsqwq/Machine_Learning_Animes_Analysis/main/anime-dataset-2023.csv\"\n",
    "animes = pd.read_csv(url, sep=',')\n",
    "\n",
    "# create a backup copy of the dataset\n",
    "animes_backup = animes"
   ]
  },
  {
   "cell_type": "markdown",
   "metadata": {},
   "source": [
    "### 2.1 Take a quick look at the data structure"
   ]
  },
  {
   "cell_type": "markdown",
   "metadata": {},
   "source": [
    "We will first replace \"UNKNOWN\" variables to NaN and drop the \"anime_id\" column to make our life easier\n",
    "\n",
    "(//delete later, for convenient)\n",
    "https://pandas.pydata.org/docs/reference/frame.html#computations-descriptive-stats\n",
    "\n",
    "https://pandas.pydata.org/docs/reference/api/pandas.DataFrame.astype.html\n",
    "\n",
    "https://sentry.io/answers/change-a-column-type-in-a-dataframe-in-python-pandas/"
   ]
  },
  {
   "cell_type": "code",
   "execution_count": 75,
   "metadata": {},
   "outputs": [],
   "source": [
    "# Replace \"UNKNOWN\" (as well as \"Unknown\") labels to NaN\n",
    "animes = animes.replace('UNKNOWN', np.nan)\n",
    "animes = animes.replace('Unknown', np.nan)\n",
    "# FutureWarning: use_inf_as_na option is deprecated and will be removed in a future version. Convert inf values to NaN before operating instead. with pd.option_context('mode.use_inf_as_na', True)\n",
    "pd.option_context('mode.use_inf_as_na', True)\n",
    "# drop the id column\n",
    "animes.drop(labels=['anime_id'], axis=1, inplace=True)"
   ]
  },
  {
   "cell_type": "markdown",
   "metadata": {},
   "source": [
    "Lets take a look at the whole dataset, we can see that there is 24905 rows and 24 columns"
   ]
  },
  {
   "cell_type": "code",
   "execution_count": 76,
   "metadata": {},
   "outputs": [
    {
     "data": {
      "text/html": [
       "<div>\n",
       "<style scoped>\n",
       "    .dataframe tbody tr th:only-of-type {\n",
       "        vertical-align: middle;\n",
       "    }\n",
       "\n",
       "    .dataframe tbody tr th {\n",
       "        vertical-align: top;\n",
       "    }\n",
       "\n",
       "    .dataframe thead th {\n",
       "        text-align: right;\n",
       "    }\n",
       "</style>\n",
       "<table border=\"1\" class=\"dataframe\">\n",
       "  <thead>\n",
       "    <tr style=\"text-align: right;\">\n",
       "      <th></th>\n",
       "      <th>Name</th>\n",
       "      <th>English name</th>\n",
       "      <th>Other name</th>\n",
       "      <th>Score</th>\n",
       "      <th>Genres</th>\n",
       "      <th>Synopsis</th>\n",
       "      <th>Type</th>\n",
       "      <th>Episodes</th>\n",
       "      <th>Aired</th>\n",
       "      <th>Premiered</th>\n",
       "      <th>...</th>\n",
       "      <th>Studios</th>\n",
       "      <th>Source</th>\n",
       "      <th>Duration</th>\n",
       "      <th>Rating</th>\n",
       "      <th>Rank</th>\n",
       "      <th>Popularity</th>\n",
       "      <th>Favorites</th>\n",
       "      <th>Scored By</th>\n",
       "      <th>Members</th>\n",
       "      <th>Image URL</th>\n",
       "    </tr>\n",
       "  </thead>\n",
       "  <tbody>\n",
       "    <tr>\n",
       "      <th>0</th>\n",
       "      <td>Cowboy Bebop</td>\n",
       "      <td>Cowboy Bebop</td>\n",
       "      <td>カウボーイビバップ</td>\n",
       "      <td>8.75</td>\n",
       "      <td>Action, Award Winning, Sci-Fi</td>\n",
       "      <td>Crime is timeless. By the year 2071, humanity ...</td>\n",
       "      <td>TV</td>\n",
       "      <td>26.0</td>\n",
       "      <td>Apr 3, 1998 to Apr 24, 1999</td>\n",
       "      <td>spring 1998</td>\n",
       "      <td>...</td>\n",
       "      <td>Sunrise</td>\n",
       "      <td>Original</td>\n",
       "      <td>24 min per ep</td>\n",
       "      <td>R - 17+ (violence &amp; profanity)</td>\n",
       "      <td>41.0</td>\n",
       "      <td>43</td>\n",
       "      <td>78525</td>\n",
       "      <td>914193.0</td>\n",
       "      <td>1771505</td>\n",
       "      <td>https://cdn.myanimelist.net/images/anime/4/196...</td>\n",
       "    </tr>\n",
       "    <tr>\n",
       "      <th>1</th>\n",
       "      <td>Cowboy Bebop: Tengoku no Tobira</td>\n",
       "      <td>Cowboy Bebop: The Movie</td>\n",
       "      <td>カウボーイビバップ 天国の扉</td>\n",
       "      <td>8.38</td>\n",
       "      <td>Action, Sci-Fi</td>\n",
       "      <td>Another day, another bounty—such is the life o...</td>\n",
       "      <td>Movie</td>\n",
       "      <td>1.0</td>\n",
       "      <td>Sep 1, 2001</td>\n",
       "      <td>NaN</td>\n",
       "      <td>...</td>\n",
       "      <td>Bones</td>\n",
       "      <td>Original</td>\n",
       "      <td>1 hr 55 min</td>\n",
       "      <td>R - 17+ (violence &amp; profanity)</td>\n",
       "      <td>189.0</td>\n",
       "      <td>602</td>\n",
       "      <td>1448</td>\n",
       "      <td>206248.0</td>\n",
       "      <td>360978</td>\n",
       "      <td>https://cdn.myanimelist.net/images/anime/1439/...</td>\n",
       "    </tr>\n",
       "    <tr>\n",
       "      <th>2</th>\n",
       "      <td>Trigun</td>\n",
       "      <td>Trigun</td>\n",
       "      <td>トライガン</td>\n",
       "      <td>8.22</td>\n",
       "      <td>Action, Adventure, Sci-Fi</td>\n",
       "      <td>Vash the Stampede is the man with a $$60,000,0...</td>\n",
       "      <td>TV</td>\n",
       "      <td>26.0</td>\n",
       "      <td>Apr 1, 1998 to Sep 30, 1998</td>\n",
       "      <td>spring 1998</td>\n",
       "      <td>...</td>\n",
       "      <td>Madhouse</td>\n",
       "      <td>Manga</td>\n",
       "      <td>24 min per ep</td>\n",
       "      <td>PG-13 - Teens 13 or older</td>\n",
       "      <td>328.0</td>\n",
       "      <td>246</td>\n",
       "      <td>15035</td>\n",
       "      <td>356739.0</td>\n",
       "      <td>727252</td>\n",
       "      <td>https://cdn.myanimelist.net/images/anime/7/203...</td>\n",
       "    </tr>\n",
       "    <tr>\n",
       "      <th>3</th>\n",
       "      <td>Witch Hunter Robin</td>\n",
       "      <td>Witch Hunter Robin</td>\n",
       "      <td>Witch Hunter ROBIN (ウイッチハンターロビン)</td>\n",
       "      <td>7.25</td>\n",
       "      <td>Action, Drama, Mystery, Supernatural</td>\n",
       "      <td>Robin Sena is a powerful craft user drafted in...</td>\n",
       "      <td>TV</td>\n",
       "      <td>26.0</td>\n",
       "      <td>Jul 3, 2002 to Dec 25, 2002</td>\n",
       "      <td>summer 2002</td>\n",
       "      <td>...</td>\n",
       "      <td>Sunrise</td>\n",
       "      <td>Original</td>\n",
       "      <td>25 min per ep</td>\n",
       "      <td>PG-13 - Teens 13 or older</td>\n",
       "      <td>2764.0</td>\n",
       "      <td>1795</td>\n",
       "      <td>613</td>\n",
       "      <td>42829.0</td>\n",
       "      <td>111931</td>\n",
       "      <td>https://cdn.myanimelist.net/images/anime/10/19...</td>\n",
       "    </tr>\n",
       "    <tr>\n",
       "      <th>4</th>\n",
       "      <td>Bouken Ou Beet</td>\n",
       "      <td>Beet the Vandel Buster</td>\n",
       "      <td>冒険王ビィト</td>\n",
       "      <td>6.94</td>\n",
       "      <td>Adventure, Fantasy, Supernatural</td>\n",
       "      <td>It is the dark century and the people are suff...</td>\n",
       "      <td>TV</td>\n",
       "      <td>52.0</td>\n",
       "      <td>Sep 30, 2004 to Sep 29, 2005</td>\n",
       "      <td>fall 2004</td>\n",
       "      <td>...</td>\n",
       "      <td>Toei Animation</td>\n",
       "      <td>Manga</td>\n",
       "      <td>23 min per ep</td>\n",
       "      <td>PG - Children</td>\n",
       "      <td>4240.0</td>\n",
       "      <td>5126</td>\n",
       "      <td>14</td>\n",
       "      <td>6413.0</td>\n",
       "      <td>15001</td>\n",
       "      <td>https://cdn.myanimelist.net/images/anime/7/215...</td>\n",
       "    </tr>\n",
       "    <tr>\n",
       "      <th>...</th>\n",
       "      <td>...</td>\n",
       "      <td>...</td>\n",
       "      <td>...</td>\n",
       "      <td>...</td>\n",
       "      <td>...</td>\n",
       "      <td>...</td>\n",
       "      <td>...</td>\n",
       "      <td>...</td>\n",
       "      <td>...</td>\n",
       "      <td>...</td>\n",
       "      <td>...</td>\n",
       "      <td>...</td>\n",
       "      <td>...</td>\n",
       "      <td>...</td>\n",
       "      <td>...</td>\n",
       "      <td>...</td>\n",
       "      <td>...</td>\n",
       "      <td>...</td>\n",
       "      <td>...</td>\n",
       "      <td>...</td>\n",
       "      <td>...</td>\n",
       "    </tr>\n",
       "    <tr>\n",
       "      <th>24900</th>\n",
       "      <td>Wu Nao Monu</td>\n",
       "      <td>NaN</td>\n",
       "      <td>无脑魔女</td>\n",
       "      <td>NaN</td>\n",
       "      <td>Comedy, Fantasy, Slice of Life</td>\n",
       "      <td>No description available for this anime.</td>\n",
       "      <td>ONA</td>\n",
       "      <td>15.0</td>\n",
       "      <td>Jul 4, 2023 to ?</td>\n",
       "      <td>NaN</td>\n",
       "      <td>...</td>\n",
       "      <td>NaN</td>\n",
       "      <td>Web manga</td>\n",
       "      <td>NaN</td>\n",
       "      <td>PG-13 - Teens 13 or older</td>\n",
       "      <td>NaN</td>\n",
       "      <td>24723</td>\n",
       "      <td>0</td>\n",
       "      <td>NaN</td>\n",
       "      <td>0</td>\n",
       "      <td>https://cdn.myanimelist.net/images/anime/1386/...</td>\n",
       "    </tr>\n",
       "    <tr>\n",
       "      <th>24901</th>\n",
       "      <td>Bu Xing Si: Yuan Qi</td>\n",
       "      <td>Blader Soul</td>\n",
       "      <td>捕星司·源起</td>\n",
       "      <td>NaN</td>\n",
       "      <td>Action, Adventure, Fantasy</td>\n",
       "      <td>No description available for this anime.</td>\n",
       "      <td>ONA</td>\n",
       "      <td>18.0</td>\n",
       "      <td>Jul 27, 2023 to ?</td>\n",
       "      <td>NaN</td>\n",
       "      <td>...</td>\n",
       "      <td>NaN</td>\n",
       "      <td>Web novel</td>\n",
       "      <td>NaN</td>\n",
       "      <td>PG-13 - Teens 13 or older</td>\n",
       "      <td>0.0</td>\n",
       "      <td>0</td>\n",
       "      <td>0</td>\n",
       "      <td>NaN</td>\n",
       "      <td>0</td>\n",
       "      <td>https://cdn.myanimelist.net/images/anime/1383/...</td>\n",
       "    </tr>\n",
       "    <tr>\n",
       "      <th>24902</th>\n",
       "      <td>Di Yi Xulie</td>\n",
       "      <td>The First Order</td>\n",
       "      <td>第一序列</td>\n",
       "      <td>NaN</td>\n",
       "      <td>Action, Adventure, Fantasy, Sci-Fi</td>\n",
       "      <td>No description available for this anime.</td>\n",
       "      <td>ONA</td>\n",
       "      <td>16.0</td>\n",
       "      <td>Jul 19, 2023 to ?</td>\n",
       "      <td>NaN</td>\n",
       "      <td>...</td>\n",
       "      <td>NaN</td>\n",
       "      <td>Web novel</td>\n",
       "      <td>NaN</td>\n",
       "      <td>PG-13 - Teens 13 or older</td>\n",
       "      <td>0.0</td>\n",
       "      <td>0</td>\n",
       "      <td>0</td>\n",
       "      <td>NaN</td>\n",
       "      <td>0</td>\n",
       "      <td>https://cdn.myanimelist.net/images/anime/1130/...</td>\n",
       "    </tr>\n",
       "    <tr>\n",
       "      <th>24903</th>\n",
       "      <td>Bokura no Saishuu Sensou</td>\n",
       "      <td>NaN</td>\n",
       "      <td>僕らの最終戦争</td>\n",
       "      <td>NaN</td>\n",
       "      <td>NaN</td>\n",
       "      <td>A music video for the song Bokura no Saishuu S...</td>\n",
       "      <td>Music</td>\n",
       "      <td>1.0</td>\n",
       "      <td>Apr 23, 2022</td>\n",
       "      <td>NaN</td>\n",
       "      <td>...</td>\n",
       "      <td>NaN</td>\n",
       "      <td>Original</td>\n",
       "      <td>3 min</td>\n",
       "      <td>PG-13 - Teens 13 or older</td>\n",
       "      <td>0.0</td>\n",
       "      <td>0</td>\n",
       "      <td>0</td>\n",
       "      <td>NaN</td>\n",
       "      <td>0</td>\n",
       "      <td>https://cdn.myanimelist.net/images/anime/1931/...</td>\n",
       "    </tr>\n",
       "    <tr>\n",
       "      <th>24904</th>\n",
       "      <td>Shijuuku Nichi</td>\n",
       "      <td>NaN</td>\n",
       "      <td>四十九日</td>\n",
       "      <td>NaN</td>\n",
       "      <td>NaN</td>\n",
       "      <td>A music video for the song Shijuuku Nichi by S...</td>\n",
       "      <td>Music</td>\n",
       "      <td>1.0</td>\n",
       "      <td>Sep 5, 2022</td>\n",
       "      <td>NaN</td>\n",
       "      <td>...</td>\n",
       "      <td>NaN</td>\n",
       "      <td>Original</td>\n",
       "      <td>3 min</td>\n",
       "      <td>PG-13 - Teens 13 or older</td>\n",
       "      <td>0.0</td>\n",
       "      <td>0</td>\n",
       "      <td>0</td>\n",
       "      <td>NaN</td>\n",
       "      <td>0</td>\n",
       "      <td>https://cdn.myanimelist.net/images/anime/1902/...</td>\n",
       "    </tr>\n",
       "  </tbody>\n",
       "</table>\n",
       "<p>24905 rows × 23 columns</p>\n",
       "</div>"
      ],
      "text/plain": [
       "                                  Name             English name  \\\n",
       "0                         Cowboy Bebop             Cowboy Bebop   \n",
       "1      Cowboy Bebop: Tengoku no Tobira  Cowboy Bebop: The Movie   \n",
       "2                               Trigun                   Trigun   \n",
       "3                   Witch Hunter Robin       Witch Hunter Robin   \n",
       "4                       Bouken Ou Beet   Beet the Vandel Buster   \n",
       "...                                ...                      ...   \n",
       "24900                      Wu Nao Monu                      NaN   \n",
       "24901              Bu Xing Si: Yuan Qi              Blader Soul   \n",
       "24902                      Di Yi Xulie          The First Order   \n",
       "24903         Bokura no Saishuu Sensou                      NaN   \n",
       "24904                   Shijuuku Nichi                      NaN   \n",
       "\n",
       "                             Other name Score  \\\n",
       "0                             カウボーイビバップ  8.75   \n",
       "1                        カウボーイビバップ 天国の扉  8.38   \n",
       "2                                 トライガン  8.22   \n",
       "3      Witch Hunter ROBIN (ウイッチハンターロビン)  7.25   \n",
       "4                                冒険王ビィト  6.94   \n",
       "...                                 ...   ...   \n",
       "24900                              无脑魔女   NaN   \n",
       "24901                            捕星司·源起   NaN   \n",
       "24902                              第一序列   NaN   \n",
       "24903                           僕らの最終戦争   NaN   \n",
       "24904                              四十九日   NaN   \n",
       "\n",
       "                                     Genres  \\\n",
       "0             Action, Award Winning, Sci-Fi   \n",
       "1                            Action, Sci-Fi   \n",
       "2                 Action, Adventure, Sci-Fi   \n",
       "3      Action, Drama, Mystery, Supernatural   \n",
       "4          Adventure, Fantasy, Supernatural   \n",
       "...                                     ...   \n",
       "24900        Comedy, Fantasy, Slice of Life   \n",
       "24901            Action, Adventure, Fantasy   \n",
       "24902    Action, Adventure, Fantasy, Sci-Fi   \n",
       "24903                                   NaN   \n",
       "24904                                   NaN   \n",
       "\n",
       "                                                Synopsis   Type Episodes  \\\n",
       "0      Crime is timeless. By the year 2071, humanity ...     TV     26.0   \n",
       "1      Another day, another bounty—such is the life o...  Movie      1.0   \n",
       "2      Vash the Stampede is the man with a $$60,000,0...     TV     26.0   \n",
       "3      Robin Sena is a powerful craft user drafted in...     TV     26.0   \n",
       "4      It is the dark century and the people are suff...     TV     52.0   \n",
       "...                                                  ...    ...      ...   \n",
       "24900           No description available for this anime.    ONA     15.0   \n",
       "24901           No description available for this anime.    ONA     18.0   \n",
       "24902           No description available for this anime.    ONA     16.0   \n",
       "24903  A music video for the song Bokura no Saishuu S...  Music      1.0   \n",
       "24904  A music video for the song Shijuuku Nichi by S...  Music      1.0   \n",
       "\n",
       "                              Aired    Premiered  ...         Studios  \\\n",
       "0       Apr 3, 1998 to Apr 24, 1999  spring 1998  ...         Sunrise   \n",
       "1                       Sep 1, 2001          NaN  ...           Bones   \n",
       "2       Apr 1, 1998 to Sep 30, 1998  spring 1998  ...        Madhouse   \n",
       "3       Jul 3, 2002 to Dec 25, 2002  summer 2002  ...         Sunrise   \n",
       "4      Sep 30, 2004 to Sep 29, 2005    fall 2004  ...  Toei Animation   \n",
       "...                             ...          ...  ...             ...   \n",
       "24900              Jul 4, 2023 to ?          NaN  ...             NaN   \n",
       "24901             Jul 27, 2023 to ?          NaN  ...             NaN   \n",
       "24902             Jul 19, 2023 to ?          NaN  ...             NaN   \n",
       "24903                  Apr 23, 2022          NaN  ...             NaN   \n",
       "24904                   Sep 5, 2022          NaN  ...             NaN   \n",
       "\n",
       "          Source       Duration                          Rating    Rank  \\\n",
       "0       Original  24 min per ep  R - 17+ (violence & profanity)    41.0   \n",
       "1       Original    1 hr 55 min  R - 17+ (violence & profanity)   189.0   \n",
       "2          Manga  24 min per ep       PG-13 - Teens 13 or older   328.0   \n",
       "3       Original  25 min per ep       PG-13 - Teens 13 or older  2764.0   \n",
       "4          Manga  23 min per ep                   PG - Children  4240.0   \n",
       "...          ...            ...                             ...     ...   \n",
       "24900  Web manga            NaN       PG-13 - Teens 13 or older     NaN   \n",
       "24901  Web novel            NaN       PG-13 - Teens 13 or older     0.0   \n",
       "24902  Web novel            NaN       PG-13 - Teens 13 or older     0.0   \n",
       "24903   Original          3 min       PG-13 - Teens 13 or older     0.0   \n",
       "24904   Original          3 min       PG-13 - Teens 13 or older     0.0   \n",
       "\n",
       "      Popularity Favorites Scored By  Members  \\\n",
       "0             43     78525  914193.0  1771505   \n",
       "1            602      1448  206248.0   360978   \n",
       "2            246     15035  356739.0   727252   \n",
       "3           1795       613   42829.0   111931   \n",
       "4           5126        14    6413.0    15001   \n",
       "...          ...       ...       ...      ...   \n",
       "24900      24723         0       NaN        0   \n",
       "24901          0         0       NaN        0   \n",
       "24902          0         0       NaN        0   \n",
       "24903          0         0       NaN        0   \n",
       "24904          0         0       NaN        0   \n",
       "\n",
       "                                               Image URL  \n",
       "0      https://cdn.myanimelist.net/images/anime/4/196...  \n",
       "1      https://cdn.myanimelist.net/images/anime/1439/...  \n",
       "2      https://cdn.myanimelist.net/images/anime/7/203...  \n",
       "3      https://cdn.myanimelist.net/images/anime/10/19...  \n",
       "4      https://cdn.myanimelist.net/images/anime/7/215...  \n",
       "...                                                  ...  \n",
       "24900  https://cdn.myanimelist.net/images/anime/1386/...  \n",
       "24901  https://cdn.myanimelist.net/images/anime/1383/...  \n",
       "24902  https://cdn.myanimelist.net/images/anime/1130/...  \n",
       "24903  https://cdn.myanimelist.net/images/anime/1931/...  \n",
       "24904  https://cdn.myanimelist.net/images/anime/1902/...  \n",
       "\n",
       "[24905 rows x 23 columns]"
      ]
     },
     "execution_count": 76,
     "metadata": {},
     "output_type": "execute_result"
    }
   ],
   "source": [
    "animes"
   ]
  },
  {
   "cell_type": "markdown",
   "metadata": {},
   "source": [
    "### Use head() to look at the first 5 rows."
   ]
  },
  {
   "cell_type": "code",
   "execution_count": 77,
   "metadata": {},
   "outputs": [
    {
     "data": {
      "text/html": [
       "<div>\n",
       "<style scoped>\n",
       "    .dataframe tbody tr th:only-of-type {\n",
       "        vertical-align: middle;\n",
       "    }\n",
       "\n",
       "    .dataframe tbody tr th {\n",
       "        vertical-align: top;\n",
       "    }\n",
       "\n",
       "    .dataframe thead th {\n",
       "        text-align: right;\n",
       "    }\n",
       "</style>\n",
       "<table border=\"1\" class=\"dataframe\">\n",
       "  <thead>\n",
       "    <tr style=\"text-align: right;\">\n",
       "      <th></th>\n",
       "      <th>Name</th>\n",
       "      <th>English name</th>\n",
       "      <th>Other name</th>\n",
       "      <th>Score</th>\n",
       "      <th>Genres</th>\n",
       "      <th>Synopsis</th>\n",
       "      <th>Type</th>\n",
       "      <th>Episodes</th>\n",
       "      <th>Aired</th>\n",
       "      <th>Premiered</th>\n",
       "      <th>...</th>\n",
       "      <th>Studios</th>\n",
       "      <th>Source</th>\n",
       "      <th>Duration</th>\n",
       "      <th>Rating</th>\n",
       "      <th>Rank</th>\n",
       "      <th>Popularity</th>\n",
       "      <th>Favorites</th>\n",
       "      <th>Scored By</th>\n",
       "      <th>Members</th>\n",
       "      <th>Image URL</th>\n",
       "    </tr>\n",
       "  </thead>\n",
       "  <tbody>\n",
       "    <tr>\n",
       "      <th>0</th>\n",
       "      <td>Cowboy Bebop</td>\n",
       "      <td>Cowboy Bebop</td>\n",
       "      <td>カウボーイビバップ</td>\n",
       "      <td>8.75</td>\n",
       "      <td>Action, Award Winning, Sci-Fi</td>\n",
       "      <td>Crime is timeless. By the year 2071, humanity ...</td>\n",
       "      <td>TV</td>\n",
       "      <td>26.0</td>\n",
       "      <td>Apr 3, 1998 to Apr 24, 1999</td>\n",
       "      <td>spring 1998</td>\n",
       "      <td>...</td>\n",
       "      <td>Sunrise</td>\n",
       "      <td>Original</td>\n",
       "      <td>24 min per ep</td>\n",
       "      <td>R - 17+ (violence &amp; profanity)</td>\n",
       "      <td>41.0</td>\n",
       "      <td>43</td>\n",
       "      <td>78525</td>\n",
       "      <td>914193.0</td>\n",
       "      <td>1771505</td>\n",
       "      <td>https://cdn.myanimelist.net/images/anime/4/196...</td>\n",
       "    </tr>\n",
       "    <tr>\n",
       "      <th>1</th>\n",
       "      <td>Cowboy Bebop: Tengoku no Tobira</td>\n",
       "      <td>Cowboy Bebop: The Movie</td>\n",
       "      <td>カウボーイビバップ 天国の扉</td>\n",
       "      <td>8.38</td>\n",
       "      <td>Action, Sci-Fi</td>\n",
       "      <td>Another day, another bounty—such is the life o...</td>\n",
       "      <td>Movie</td>\n",
       "      <td>1.0</td>\n",
       "      <td>Sep 1, 2001</td>\n",
       "      <td>NaN</td>\n",
       "      <td>...</td>\n",
       "      <td>Bones</td>\n",
       "      <td>Original</td>\n",
       "      <td>1 hr 55 min</td>\n",
       "      <td>R - 17+ (violence &amp; profanity)</td>\n",
       "      <td>189.0</td>\n",
       "      <td>602</td>\n",
       "      <td>1448</td>\n",
       "      <td>206248.0</td>\n",
       "      <td>360978</td>\n",
       "      <td>https://cdn.myanimelist.net/images/anime/1439/...</td>\n",
       "    </tr>\n",
       "    <tr>\n",
       "      <th>2</th>\n",
       "      <td>Trigun</td>\n",
       "      <td>Trigun</td>\n",
       "      <td>トライガン</td>\n",
       "      <td>8.22</td>\n",
       "      <td>Action, Adventure, Sci-Fi</td>\n",
       "      <td>Vash the Stampede is the man with a $$60,000,0...</td>\n",
       "      <td>TV</td>\n",
       "      <td>26.0</td>\n",
       "      <td>Apr 1, 1998 to Sep 30, 1998</td>\n",
       "      <td>spring 1998</td>\n",
       "      <td>...</td>\n",
       "      <td>Madhouse</td>\n",
       "      <td>Manga</td>\n",
       "      <td>24 min per ep</td>\n",
       "      <td>PG-13 - Teens 13 or older</td>\n",
       "      <td>328.0</td>\n",
       "      <td>246</td>\n",
       "      <td>15035</td>\n",
       "      <td>356739.0</td>\n",
       "      <td>727252</td>\n",
       "      <td>https://cdn.myanimelist.net/images/anime/7/203...</td>\n",
       "    </tr>\n",
       "    <tr>\n",
       "      <th>3</th>\n",
       "      <td>Witch Hunter Robin</td>\n",
       "      <td>Witch Hunter Robin</td>\n",
       "      <td>Witch Hunter ROBIN (ウイッチハンターロビン)</td>\n",
       "      <td>7.25</td>\n",
       "      <td>Action, Drama, Mystery, Supernatural</td>\n",
       "      <td>Robin Sena is a powerful craft user drafted in...</td>\n",
       "      <td>TV</td>\n",
       "      <td>26.0</td>\n",
       "      <td>Jul 3, 2002 to Dec 25, 2002</td>\n",
       "      <td>summer 2002</td>\n",
       "      <td>...</td>\n",
       "      <td>Sunrise</td>\n",
       "      <td>Original</td>\n",
       "      <td>25 min per ep</td>\n",
       "      <td>PG-13 - Teens 13 or older</td>\n",
       "      <td>2764.0</td>\n",
       "      <td>1795</td>\n",
       "      <td>613</td>\n",
       "      <td>42829.0</td>\n",
       "      <td>111931</td>\n",
       "      <td>https://cdn.myanimelist.net/images/anime/10/19...</td>\n",
       "    </tr>\n",
       "    <tr>\n",
       "      <th>4</th>\n",
       "      <td>Bouken Ou Beet</td>\n",
       "      <td>Beet the Vandel Buster</td>\n",
       "      <td>冒険王ビィト</td>\n",
       "      <td>6.94</td>\n",
       "      <td>Adventure, Fantasy, Supernatural</td>\n",
       "      <td>It is the dark century and the people are suff...</td>\n",
       "      <td>TV</td>\n",
       "      <td>52.0</td>\n",
       "      <td>Sep 30, 2004 to Sep 29, 2005</td>\n",
       "      <td>fall 2004</td>\n",
       "      <td>...</td>\n",
       "      <td>Toei Animation</td>\n",
       "      <td>Manga</td>\n",
       "      <td>23 min per ep</td>\n",
       "      <td>PG - Children</td>\n",
       "      <td>4240.0</td>\n",
       "      <td>5126</td>\n",
       "      <td>14</td>\n",
       "      <td>6413.0</td>\n",
       "      <td>15001</td>\n",
       "      <td>https://cdn.myanimelist.net/images/anime/7/215...</td>\n",
       "    </tr>\n",
       "  </tbody>\n",
       "</table>\n",
       "<p>5 rows × 23 columns</p>\n",
       "</div>"
      ],
      "text/plain": [
       "                              Name             English name  \\\n",
       "0                     Cowboy Bebop             Cowboy Bebop   \n",
       "1  Cowboy Bebop: Tengoku no Tobira  Cowboy Bebop: The Movie   \n",
       "2                           Trigun                   Trigun   \n",
       "3               Witch Hunter Robin       Witch Hunter Robin   \n",
       "4                   Bouken Ou Beet   Beet the Vandel Buster   \n",
       "\n",
       "                         Other name Score  \\\n",
       "0                         カウボーイビバップ  8.75   \n",
       "1                    カウボーイビバップ 天国の扉  8.38   \n",
       "2                             トライガン  8.22   \n",
       "3  Witch Hunter ROBIN (ウイッチハンターロビン)  7.25   \n",
       "4                            冒険王ビィト  6.94   \n",
       "\n",
       "                                 Genres  \\\n",
       "0         Action, Award Winning, Sci-Fi   \n",
       "1                        Action, Sci-Fi   \n",
       "2             Action, Adventure, Sci-Fi   \n",
       "3  Action, Drama, Mystery, Supernatural   \n",
       "4      Adventure, Fantasy, Supernatural   \n",
       "\n",
       "                                            Synopsis   Type Episodes  \\\n",
       "0  Crime is timeless. By the year 2071, humanity ...     TV     26.0   \n",
       "1  Another day, another bounty—such is the life o...  Movie      1.0   \n",
       "2  Vash the Stampede is the man with a $$60,000,0...     TV     26.0   \n",
       "3  Robin Sena is a powerful craft user drafted in...     TV     26.0   \n",
       "4  It is the dark century and the people are suff...     TV     52.0   \n",
       "\n",
       "                          Aired    Premiered  ...         Studios    Source  \\\n",
       "0   Apr 3, 1998 to Apr 24, 1999  spring 1998  ...         Sunrise  Original   \n",
       "1                   Sep 1, 2001          NaN  ...           Bones  Original   \n",
       "2   Apr 1, 1998 to Sep 30, 1998  spring 1998  ...        Madhouse     Manga   \n",
       "3   Jul 3, 2002 to Dec 25, 2002  summer 2002  ...         Sunrise  Original   \n",
       "4  Sep 30, 2004 to Sep 29, 2005    fall 2004  ...  Toei Animation     Manga   \n",
       "\n",
       "        Duration                          Rating    Rank Popularity Favorites  \\\n",
       "0  24 min per ep  R - 17+ (violence & profanity)    41.0         43     78525   \n",
       "1    1 hr 55 min  R - 17+ (violence & profanity)   189.0        602      1448   \n",
       "2  24 min per ep       PG-13 - Teens 13 or older   328.0        246     15035   \n",
       "3  25 min per ep       PG-13 - Teens 13 or older  2764.0       1795       613   \n",
       "4  23 min per ep                   PG - Children  4240.0       5126        14   \n",
       "\n",
       "  Scored By  Members                                          Image URL  \n",
       "0  914193.0  1771505  https://cdn.myanimelist.net/images/anime/4/196...  \n",
       "1  206248.0   360978  https://cdn.myanimelist.net/images/anime/1439/...  \n",
       "2  356739.0   727252  https://cdn.myanimelist.net/images/anime/7/203...  \n",
       "3   42829.0   111931  https://cdn.myanimelist.net/images/anime/10/19...  \n",
       "4    6413.0    15001  https://cdn.myanimelist.net/images/anime/7/215...  \n",
       "\n",
       "[5 rows x 23 columns]"
      ]
     },
     "execution_count": 77,
     "metadata": {},
     "output_type": "execute_result"
    }
   ],
   "source": [
    "# Look at the first 5 rows\n",
    "animes.head()"
   ]
  },
  {
   "cell_type": "markdown",
   "metadata": {},
   "source": [
    "### Use describe() method to see a summary of the numerical attributes."
   ]
  },
  {
   "cell_type": "markdown",
   "metadata": {},
   "source": [
    "Since some numerical attributes are declared as \"object\" in the original dataset, we have to change them to numbers in order to visualize them."
   ]
  },
  {
   "cell_type": "code",
   "execution_count": 78,
   "metadata": {},
   "outputs": [],
   "source": [
    "# Change 'Score', 'Episodes', 'Rank' and 'Scored By' categories to numerical value\n",
    "\n",
    "animes[['Score', 'Episodes', 'Rank', 'Scored By']] = animes[['Score', 'Episodes', 'Rank', 'Scored By']].apply(pd.to_numeric)"
   ]
  },
  {
   "cell_type": "markdown",
   "metadata": {},
   "source": [
    "\n",
    "From describe(), we can see that 75% of animes' score is below 7.06, which can be considered as a medium level of quailty.\n",
    "\n",
    "Also, many animes have 13 episodes, which means they will mostly finish airing in one season (in anime industry, one season is 3 month, start from January)\n",
    "\n",
    "It is surprising that 75% of animes are marked as favorate below (only) 18 times, it is really low for a product. However the max number of favorate is 217606 (Note: the data may not reliable since many people do not want to click favorate)"
   ]
  },
  {
   "cell_type": "code",
   "execution_count": 79,
   "metadata": {},
   "outputs": [
    {
     "data": {
      "text/html": [
       "<div>\n",
       "<style scoped>\n",
       "    .dataframe tbody tr th:only-of-type {\n",
       "        vertical-align: middle;\n",
       "    }\n",
       "\n",
       "    .dataframe tbody tr th {\n",
       "        vertical-align: top;\n",
       "    }\n",
       "\n",
       "    .dataframe thead th {\n",
       "        text-align: right;\n",
       "    }\n",
       "</style>\n",
       "<table border=\"1\" class=\"dataframe\">\n",
       "  <thead>\n",
       "    <tr style=\"text-align: right;\">\n",
       "      <th></th>\n",
       "      <th>Score</th>\n",
       "      <th>Episodes</th>\n",
       "      <th>Rank</th>\n",
       "      <th>Popularity</th>\n",
       "      <th>Favorites</th>\n",
       "      <th>Scored By</th>\n",
       "      <th>Members</th>\n",
       "    </tr>\n",
       "  </thead>\n",
       "  <tbody>\n",
       "    <tr>\n",
       "      <th>count</th>\n",
       "      <td>15692.000000</td>\n",
       "      <td>24294.000000</td>\n",
       "      <td>20293.000000</td>\n",
       "      <td>24905.000000</td>\n",
       "      <td>24905.000000</td>\n",
       "      <td>1.569200e+04</td>\n",
       "      <td>2.490500e+04</td>\n",
       "    </tr>\n",
       "    <tr>\n",
       "      <th>mean</th>\n",
       "      <td>6.380890</td>\n",
       "      <td>14.913518</td>\n",
       "      <td>9960.770167</td>\n",
       "      <td>12265.388356</td>\n",
       "      <td>432.595222</td>\n",
       "      <td>2.997438e+04</td>\n",
       "      <td>3.710496e+04</td>\n",
       "    </tr>\n",
       "    <tr>\n",
       "      <th>std</th>\n",
       "      <td>0.928696</td>\n",
       "      <td>48.581251</td>\n",
       "      <td>5856.990951</td>\n",
       "      <td>7187.428393</td>\n",
       "      <td>4353.181647</td>\n",
       "      <td>1.169348e+05</td>\n",
       "      <td>1.568252e+05</td>\n",
       "    </tr>\n",
       "    <tr>\n",
       "      <th>min</th>\n",
       "      <td>1.850000</td>\n",
       "      <td>1.000000</td>\n",
       "      <td>0.000000</td>\n",
       "      <td>0.000000</td>\n",
       "      <td>0.000000</td>\n",
       "      <td>1.000000e+02</td>\n",
       "      <td>0.000000e+00</td>\n",
       "    </tr>\n",
       "    <tr>\n",
       "      <th>25%</th>\n",
       "      <td>5.730000</td>\n",
       "      <td>1.000000</td>\n",
       "      <td>4885.000000</td>\n",
       "      <td>6040.000000</td>\n",
       "      <td>0.000000</td>\n",
       "      <td>3.840000e+02</td>\n",
       "      <td>2.090000e+02</td>\n",
       "    </tr>\n",
       "    <tr>\n",
       "      <th>50%</th>\n",
       "      <td>6.390000</td>\n",
       "      <td>2.000000</td>\n",
       "      <td>9958.000000</td>\n",
       "      <td>12265.000000</td>\n",
       "      <td>1.000000</td>\n",
       "      <td>1.760000e+03</td>\n",
       "      <td>1.056000e+03</td>\n",
       "    </tr>\n",
       "    <tr>\n",
       "      <th>75%</th>\n",
       "      <td>7.060000</td>\n",
       "      <td>13.000000</td>\n",
       "      <td>15032.000000</td>\n",
       "      <td>18491.000000</td>\n",
       "      <td>18.000000</td>\n",
       "      <td>1.085550e+04</td>\n",
       "      <td>9.326000e+03</td>\n",
       "    </tr>\n",
       "    <tr>\n",
       "      <th>max</th>\n",
       "      <td>9.100000</td>\n",
       "      <td>3057.000000</td>\n",
       "      <td>20104.000000</td>\n",
       "      <td>24723.000000</td>\n",
       "      <td>217606.000000</td>\n",
       "      <td>2.660903e+06</td>\n",
       "      <td>3.744541e+06</td>\n",
       "    </tr>\n",
       "  </tbody>\n",
       "</table>\n",
       "</div>"
      ],
      "text/plain": [
       "              Score      Episodes          Rank    Popularity      Favorites  \\\n",
       "count  15692.000000  24294.000000  20293.000000  24905.000000   24905.000000   \n",
       "mean       6.380890     14.913518   9960.770167  12265.388356     432.595222   \n",
       "std        0.928696     48.581251   5856.990951   7187.428393    4353.181647   \n",
       "min        1.850000      1.000000      0.000000      0.000000       0.000000   \n",
       "25%        5.730000      1.000000   4885.000000   6040.000000       0.000000   \n",
       "50%        6.390000      2.000000   9958.000000  12265.000000       1.000000   \n",
       "75%        7.060000     13.000000  15032.000000  18491.000000      18.000000   \n",
       "max        9.100000   3057.000000  20104.000000  24723.000000  217606.000000   \n",
       "\n",
       "          Scored By       Members  \n",
       "count  1.569200e+04  2.490500e+04  \n",
       "mean   2.997438e+04  3.710496e+04  \n",
       "std    1.169348e+05  1.568252e+05  \n",
       "min    1.000000e+02  0.000000e+00  \n",
       "25%    3.840000e+02  2.090000e+02  \n",
       "50%    1.760000e+03  1.056000e+03  \n",
       "75%    1.085550e+04  9.326000e+03  \n",
       "max    2.660903e+06  3.744541e+06  "
      ]
     },
     "execution_count": 79,
     "metadata": {},
     "output_type": "execute_result"
    }
   ],
   "source": [
    "# Describe\n",
    "animes.describe()"
   ]
  },
  {
   "cell_type": "markdown",
   "metadata": {
    "tags": []
   },
   "source": [
    "### Use info() to get a quick description of the data, the total number of rows, each attribute’s type, and the number of non-null values."
   ]
  },
  {
   "cell_type": "markdown",
   "metadata": {},
   "source": [
    "By checking the type and non-null variables, we can see that the \"Licensors\" has only 4735 non-null data, and \"Premiered\" has 5506 non-null values. These data might be dropped later in training step."
   ]
  },
  {
   "cell_type": "code",
   "execution_count": 80,
   "metadata": {},
   "outputs": [
    {
     "name": "stdout",
     "output_type": "stream",
     "text": [
      "<class 'pandas.core.frame.DataFrame'>\n",
      "RangeIndex: 24905 entries, 0 to 24904\n",
      "Data columns (total 23 columns):\n",
      " #   Column        Non-Null Count  Dtype  \n",
      "---  ------        --------------  -----  \n",
      " 0   Name          24905 non-null  object \n",
      " 1   English name  10328 non-null  object \n",
      " 2   Other name    24777 non-null  object \n",
      " 3   Score         15692 non-null  float64\n",
      " 4   Genres        19976 non-null  object \n",
      " 5   Synopsis      24905 non-null  object \n",
      " 6   Type          24831 non-null  object \n",
      " 7   Episodes      24294 non-null  float64\n",
      " 8   Aired         24905 non-null  object \n",
      " 9   Premiered     5506 non-null   object \n",
      " 10  Status        24905 non-null  object \n",
      " 11  Producers     11555 non-null  object \n",
      " 12  Licensors     4735 non-null   object \n",
      " 13  Studios       14379 non-null  object \n",
      " 14  Source        21216 non-null  object \n",
      " 15  Duration      24242 non-null  object \n",
      " 16  Rating        24236 non-null  object \n",
      " 17  Rank          20293 non-null  float64\n",
      " 18  Popularity    24905 non-null  int64  \n",
      " 19  Favorites     24905 non-null  int64  \n",
      " 20  Scored By     15692 non-null  float64\n",
      " 21  Members       24905 non-null  int64  \n",
      " 22  Image URL     24905 non-null  object \n",
      "dtypes: float64(4), int64(3), object(16)\n",
      "memory usage: 4.4+ MB\n"
     ]
    }
   ],
   "source": [
    "# Show the info of the table\n",
    "animes.info()"
   ]
  },
  {
   "cell_type": "markdown",
   "metadata": {},
   "source": [
    "### Use value_counts to show what categories exist and how many rows belong to each category\n",
    "\n",
    "We can see most of the animes are in TV form (with several episodes), there are also animes that are movies."
   ]
  },
  {
   "cell_type": "code",
   "execution_count": 81,
   "metadata": {},
   "outputs": [
    {
     "data": {
      "text/plain": [
       "Type\n",
       "TV         7597\n",
       "Movie      4381\n",
       "OVA        4076\n",
       "ONA        3533\n",
       "Music      2686\n",
       "Special    2558\n",
       "NaN          74\n",
       "Name: count, dtype: int64"
      ]
     },
     "execution_count": 81,
     "metadata": {},
     "output_type": "execute_result"
    }
   ],
   "source": [
    "# Count the type of animes, if it is a TV, movies...\n",
    "animes[\"Type\"].value_counts(False, True, False, None, False)"
   ]
  },
  {
   "cell_type": "markdown",
   "metadata": {},
   "source": [
    "For genres, 4929 rows are unknown, those animes might be dropped to fit our purpose.\n",
    "\n",
    "Beside that, most of animes are fantasy and comedy, but there are many animes with combination of genres."
   ]
  },
  {
   "cell_type": "code",
   "execution_count": 109,
   "metadata": {},
   "outputs": [
    {
     "data": {
      "text/plain": [
       "Genres\n",
       "NaN                                              4929\n",
       "Comedy                                           2279\n",
       "Fantasy                                          1341\n",
       "Hentai                                           1181\n",
       "Drama                                             624\n",
       "                                                 ... \n",
       "Avant Garde, Fantasy, Romance                       1\n",
       "Action, Comedy, Romance, Supernatural, Hentai       1\n",
       "Drama, Horror, Supernatural, Ecchi                  1\n",
       "Adventure, Comedy, Romance, Sports                  1\n",
       "Action, Adventure, Fantasy, Horror                  1\n",
       "Name: count, Length: 1006, dtype: int64"
      ]
     },
     "execution_count": 109,
     "metadata": {},
     "output_type": "execute_result"
    }
   ],
   "source": [
    "# Count the genres of animes\n",
    "animes[\"Genres\"].value_counts(False, True, False, None, False)"
   ]
  },
  {
   "cell_type": "markdown",
   "metadata": {},
   "source": [
    "We can see 9622 animes are original, which means they are not adapted from any existed stories (manga/novel etc.).\n",
    "\n",
    "We can also see that animes that adapted from manga and game are still very popular."
   ]
  },
  {
   "cell_type": "code",
   "execution_count": 83,
   "metadata": {},
   "outputs": [
    {
     "data": {
      "text/plain": [
       "Source\n",
       "Original        9622\n",
       "Manga           4687\n",
       "NaN             3689\n",
       "Game            1232\n",
       "Visual novel    1107\n",
       "Other           1008\n",
       "Light novel      968\n",
       "Novel            709\n",
       "Web manga        447\n",
       "Music            395\n",
       "4-koma manga     314\n",
       "Picture book     210\n",
       "Book             191\n",
       "Mixed media      162\n",
       "Web novel         82\n",
       "Card game         68\n",
       "Radio             14\n",
       "Name: count, dtype: int64"
      ]
     },
     "execution_count": 83,
     "metadata": {},
     "output_type": "execute_result"
    }
   ],
   "source": [
    "# Count the source (where the animes are made from) of animes\n",
    "animes[\"Source\"].value_counts(False, True, False, None, False)"
   ]
  },
  {
   "cell_type": "markdown",
   "metadata": {},
   "source": [
    "## 2.2 Create a Test Set"
   ]
  },
  {
   "cell_type": "markdown",
   "metadata": {
    "tags": []
   },
   "source": [
    "Typically, you want to create the test set here, then explore and visualise the training data only to gain insights.\n",
    "You will also typically prepare the data preprcosssing pipeline using training data only, and then apply the preprocessing on the test dataset.\n",
    "However, in this demo, we will do the data cleaning and preprocessing on the whole dataset, then split into training and testing datasets right before training the model.\n"
   ]
  },
  {
   "cell_type": "markdown",
   "metadata": {},
   "source": [
    "# 3. Explore and visualize the data to gain insights.\n"
   ]
  },
  {
   "cell_type": "markdown",
   "metadata": {},
   "source": [
    "### 3.1 Plot a histogram of the data using hist()\n",
    "\n",
    "say something here"
   ]
  },
  {
   "cell_type": "markdown",
   "metadata": {},
   "source": [
    "This is the detailed score distribution, we can see 6.4 is the most frequent score."
   ]
  },
  {
   "cell_type": "code",
   "execution_count": 220,
   "metadata": {
    "tags": []
   },
   "outputs": [
    {
     "data": {
      "image/png": "[encoded data removed]",
      "text/plain": [
       "<Figure size 1000x400 with 1 Axes>"
      ]
     },
     "metadata": {},
     "output_type": "display_data"
    }
   ],
   "source": [
    "# visualize the count of score\n",
    "plt.figure(figsize=(10, 4))\n",
    "# using a histplot\n",
    "sns.histplot(animes['Score'])\n",
    "# title\n",
    "plt.title(\"Distribution/Count of Score\")\n",
    "plt.show()"
   ]
  },
  {
   "cell_type": "markdown",
   "metadata": {},
   "source": [
    "say something here"
   ]
  },
  {
   "cell_type": "code",
   "execution_count": 221,
   "metadata": {},
   "outputs": [
    {
     "data": {
      "image/png": "[encoded data removed]",
      "text/plain": [
       "<Figure size 640x480 with 1 Axes>"
      ]
     },
     "metadata": {},
     "output_type": "display_data"
    }
   ],
   "source": [
    "# get the most frequent episodes number\n",
    "episodes_count = animes['Episodes'].value_counts().head(10)\n",
    "\n",
    "# use this to get a bar plot\n",
    "sns.barplot(x = episodes_count.index, y = episodes_count.values, palette=\"cividis\", hue = episodes_count.index, legend = False)\n",
    "plt.ylabel(\"Count\")\n",
    "plt.title(\"Distribution/Count of Episodes(top 10)\")\n",
    "plt.show()"
   ]
  },
  {
   "cell_type": "markdown",
   "metadata": {},
   "source": [
    "Lets see the categorical data"
   ]
  },
  {
   "cell_type": "code",
   "execution_count": 216,
   "metadata": {},
   "outputs": [
    {
     "data": {
      "image/png": "[encoded data removed]",
      "text/plain": [
       "<Figure size 640x480 with 1 Axes>"
      ]
     },
     "metadata": {},
     "output_type": "display_data"
    }
   ],
   "source": [
    "# get a count plot for count of type of animes\n",
    "sns.countplot(data = animes, x = \"Type\", hue='Type', palette= sns.color_palette(\"Paired\", 6))\n",
    "plt.title(\"Count of Type of Animes\")\n",
    "plt.show()"
   ]
  },
  {
   "cell_type": "markdown",
   "metadata": {},
   "source": [
    "say something here"
   ]
  },
  {
   "cell_type": "code",
   "execution_count": 217,
   "metadata": {},
   "outputs": [
    {
     "data": {
      "image/png": "[encoded data removed]",
      "text/plain": [
       "<Figure size 1500x500 with 1 Axes>"
      ]
     },
     "metadata": {},
     "output_type": "display_data"
    }
   ],
   "source": [
    "# We will get the count of genres below:\n",
    "\n",
    "# get a temporary dataframe, which is a copy of the \"Genres\" column of the main dataframe\n",
    "temp_df = pd.DataFrame(animes['Genres'])\n",
    "# fill the NaN values with space\n",
    "temp_df['Genres'] = temp_df['Genres'].fillna(' ')\n",
    "# split the comma and count the total number of genres appear (since we might have more genres in one anime)\n",
    "genre_counts = temp_df[temp_df['Genres'] != ' ']['Genres'].apply(lambda x : x.split(', ')).explode().value_counts()\n",
    "\n",
    "# Create diagram\n",
    "plt.figure(figsize=(15,5))\n",
    "sns.barplot(x = genre_counts.index, y = genre_counts.values, palette=\"viridis\", hue = genre_counts.index, legend = False)\n",
    "plt.xlabel(\"Genre\")\n",
    "plt.ylabel(\"Count\")\n",
    "plt.title(\"Distribution/Count of Genres\")\n",
    "plt.xticks(rotation = 45)\n",
    "\n",
    "plt.show()"
   ]
  },
  {
   "cell_type": "markdown",
   "metadata": {},
   "source": [
    "Lets take a look at the source of the anime, we can see most of the anime is original."
   ]
  },
  {
   "cell_type": "code",
   "execution_count": 219,
   "metadata": {},
   "outputs": [
    {
     "data": {
      "image/png": "[encoded data removed]",
      "text/plain": [
       "<Figure size 1000x500 with 1 Axes>"
      ]
     },
     "metadata": {},
     "output_type": "display_data"
    }
   ],
   "source": [
    "# Create graph for count of sources\n",
    "plt.figure(figsize=(10, 5))\n",
    "sns.countplot(data = animes, x = \"Source\", color = \"#39C5BB\") # guess why I use this color here :D\n",
    "plt.ylabel(\"Count\")\n",
    "plt.xticks(rotation = 45)\n",
    "plt.title(\"Distribution/Count of Sources\")\n",
    "plt.show()"
   ]
  },
  {
   "cell_type": "markdown",
   "metadata": {},
   "source": [
    "say something here"
   ]
  },
  {
   "cell_type": "code",
   "execution_count": 222,
   "metadata": {},
   "outputs": [
    {
     "data": {
      "image/png": "[encoded data removed]",
      "text/plain": [
       "<Figure size 1500x500 with 1 Axes>"
      ]
     },
     "metadata": {},
     "output_type": "display_data"
    }
   ],
   "source": [
    "# Create a diagram to show top 10 animes with their popularity (note that the lower number means it is more popularity)\n",
    "plt.figure(figsize=(15, 5))\n",
    "# sort the dataset to show the lowest 10 popularities, with 0.0 removed (0.0 means unknown or it is seldomly known in North America)\n",
    "popularity_animes = animes[animes['Popularity'] > 0].sort_values(by='Popularity', ascending=True).head(10)\n",
    "# create a bar chart\n",
    "sns.barplot(data = popularity_animes, y = 'English name', x = 'Popularity', palette=\"inferno\", hue = popularity_animes.index, legend = False)\n",
    "plt.ylabel(\"Popularity\")\n",
    "plt.xticks(rotation = 0)\n",
    "plt.title(\"Top 10 Animes in 2023\")\n",
    "plt.show()"
   ]
  },
  {
   "cell_type": "markdown",
   "metadata": {},
   "source": [
    "## Look for correlations between the features"
   ]
  },
  {
   "cell_type": "markdown",
   "metadata": {},
   "source": [
    "### 3.2 Check for correlation between attributes using sns.pairplot."
   ]
  },
  {
   "cell_type": "code",
   "execution_count": null,
   "metadata": {
    "tags": []
   },
   "outputs": [],
   "source": [
    "# Check for correlation between attributes using sns.pairplot.\n",
    "sns.pairplot(animes)"
   ]
  },
  {
   "cell_type": "markdown",
   "metadata": {},
   "source": [
    "### 3.3 Look for correlations using pearson correlation coefficient "
   ]
  },
  {
   "cell_type": "markdown",
   "metadata": {},
   "source": [
    "Let's first see the correlations between numerical features\n"
   ]
  },
  {
   "cell_type": "code",
   "execution_count": 52,
   "metadata": {
    "tags": []
   },
   "outputs": [
    {
     "data": {
      "text/html": [
       "<div>\n",
       "<style scoped>\n",
       "    .dataframe tbody tr th:only-of-type {\n",
       "        vertical-align: middle;\n",
       "    }\n",
       "\n",
       "    .dataframe tbody tr th {\n",
       "        vertical-align: top;\n",
       "    }\n",
       "\n",
       "    .dataframe thead th {\n",
       "        text-align: right;\n",
       "    }\n",
       "</style>\n",
       "<table border=\"1\" class=\"dataframe\">\n",
       "  <thead>\n",
       "    <tr style=\"text-align: right;\">\n",
       "      <th></th>\n",
       "      <th>Score</th>\n",
       "      <th>Episodes</th>\n",
       "      <th>Rank</th>\n",
       "      <th>Popularity</th>\n",
       "      <th>Favorites</th>\n",
       "      <th>Scored By</th>\n",
       "      <th>Members</th>\n",
       "    </tr>\n",
       "  </thead>\n",
       "  <tbody>\n",
       "    <tr>\n",
       "      <th>Score</th>\n",
       "      <td>1.000000</td>\n",
       "      <td>0.079212</td>\n",
       "      <td>-0.976923</td>\n",
       "      <td>-0.698047</td>\n",
       "      <td>0.235454</td>\n",
       "      <td>0.351082</td>\n",
       "      <td>0.390922</td>\n",
       "    </tr>\n",
       "    <tr>\n",
       "      <th>Episodes</th>\n",
       "      <td>0.079212</td>\n",
       "      <td>1.000000</td>\n",
       "      <td>0.063549</td>\n",
       "      <td>0.091301</td>\n",
       "      <td>0.044784</td>\n",
       "      <td>0.053579</td>\n",
       "      <td>0.026918</td>\n",
       "    </tr>\n",
       "    <tr>\n",
       "      <th>Rank</th>\n",
       "      <td>-0.976923</td>\n",
       "      <td>0.063549</td>\n",
       "      <td>1.000000</td>\n",
       "      <td>0.871935</td>\n",
       "      <td>-0.168713</td>\n",
       "      <td>-0.335063</td>\n",
       "      <td>-0.340236</td>\n",
       "    </tr>\n",
       "    <tr>\n",
       "      <th>Popularity</th>\n",
       "      <td>-0.698047</td>\n",
       "      <td>0.091301</td>\n",
       "      <td>0.871935</td>\n",
       "      <td>1.000000</td>\n",
       "      <td>-0.163173</td>\n",
       "      <td>-0.377240</td>\n",
       "      <td>-0.363865</td>\n",
       "    </tr>\n",
       "    <tr>\n",
       "      <th>Favorites</th>\n",
       "      <td>0.235454</td>\n",
       "      <td>0.044784</td>\n",
       "      <td>-0.168713</td>\n",
       "      <td>-0.163173</td>\n",
       "      <td>1.000000</td>\n",
       "      <td>0.785326</td>\n",
       "      <td>0.773120</td>\n",
       "    </tr>\n",
       "    <tr>\n",
       "      <th>Scored By</th>\n",
       "      <td>0.351082</td>\n",
       "      <td>0.053579</td>\n",
       "      <td>-0.335063</td>\n",
       "      <td>-0.377240</td>\n",
       "      <td>0.785326</td>\n",
       "      <td>1.000000</td>\n",
       "      <td>0.989130</td>\n",
       "    </tr>\n",
       "    <tr>\n",
       "      <th>Members</th>\n",
       "      <td>0.390922</td>\n",
       "      <td>0.026918</td>\n",
       "      <td>-0.340236</td>\n",
       "      <td>-0.363865</td>\n",
       "      <td>0.773120</td>\n",
       "      <td>0.989130</td>\n",
       "      <td>1.000000</td>\n",
       "    </tr>\n",
       "  </tbody>\n",
       "</table>\n",
       "</div>"
      ],
      "text/plain": [
       "               Score  Episodes      Rank  Popularity  Favorites  Scored By  \\\n",
       "Score       1.000000  0.079212 -0.976923   -0.698047   0.235454   0.351082   \n",
       "Episodes    0.079212  1.000000  0.063549    0.091301   0.044784   0.053579   \n",
       "Rank       -0.976923  0.063549  1.000000    0.871935  -0.168713  -0.335063   \n",
       "Popularity -0.698047  0.091301  0.871935    1.000000  -0.163173  -0.377240   \n",
       "Favorites   0.235454  0.044784 -0.168713   -0.163173   1.000000   0.785326   \n",
       "Scored By   0.351082  0.053579 -0.335063   -0.377240   0.785326   1.000000   \n",
       "Members     0.390922  0.026918 -0.340236   -0.363865   0.773120   0.989130   \n",
       "\n",
       "             Members  \n",
       "Score       0.390922  \n",
       "Episodes    0.026918  \n",
       "Rank       -0.340236  \n",
       "Popularity -0.363865  \n",
       "Favorites   0.773120  \n",
       "Scored By   0.989130  \n",
       "Members     1.000000  "
      ]
     },
     "execution_count": 52,
     "metadata": {},
     "output_type": "execute_result"
    }
   ],
   "source": [
    "corr_matrix = animes.corr(numeric_only=True)\n",
    "corr_matrix"
   ]
  },
  {
   "cell_type": "markdown",
   "metadata": {},
   "source": [
    "#### Let's look at correlations with regard to our target"
   ]
  },
  {
   "cell_type": "code",
   "execution_count": 53,
   "metadata": {
    "tags": []
   },
   "outputs": [
    {
     "data": {
      "text/plain": [
       "Score         1.000000\n",
       "Members       0.390922\n",
       "Scored By     0.351082\n",
       "Favorites     0.235454\n",
       "Episodes      0.079212\n",
       "Popularity   -0.698047\n",
       "Rank         -0.976923\n",
       "Name: Score, dtype: float64"
      ]
     },
     "execution_count": 53,
     "metadata": {},
     "output_type": "execute_result"
    }
   ],
   "source": [
    "corr_matrix[\"Score\"].sort_values(ascending=False)"
   ]
  },
  {
   "cell_type": "markdown",
   "metadata": {},
   "source": [
    "### Let's see the correlations between categorical data"
   ]
  },
  {
   "cell_type": "code",
   "execution_count": null,
   "metadata": {
    "tags": []
   },
   "outputs": [],
   "source": [
    "#plot Episodes vs. Popularity\n",
    "\n",
    "g = sns.lineplot(x=\"Episodes\", y=\"Popularity\", data=animes, errorbar=None)"
   ]
  },
  {
   "cell_type": "code",
   "execution_count": null,
   "metadata": {
    "tags": []
   },
   "outputs": [],
   "source": [
    "# Create a scatterplot of Rank and Popularity\n",
    "\n",
    "X = animes[\"Rank\"]\n",
    "y = animes[\"Popularity\"]\n",
    "# Plot points\n",
    "fig, pl = plt.subplots()\n",
    "pl.scatter(X, y, color = 'b')\n",
    "plt.xlabel(\"Rank\")\n",
    "plt.ylabel(\"Popularity\")\n"
   ]
  },
  {
   "cell_type": "markdown",
   "metadata": {},
   "source": [
    "# 4. Prepare the data for Machine Learning Algorithms"
   ]
  },
  {
   "cell_type": "markdown",
   "metadata": {},
   "source": [
    "#### Let's start by cleaning up the data: duplicate and missing values and how to deal with them"
   ]
  },
  {
   "cell_type": "markdown",
   "metadata": {},
   "source": [
    "### 4.1- Remove duplicate rows"
   ]
  },
  {
   "cell_type": "code",
   "execution_count": null,
   "metadata": {
    "tags": []
   },
   "outputs": [
    {
     "data": {
      "text/plain": [
       "0"
      ]
     },
     "execution_count": 31,
     "metadata": {},
     "output_type": "execute_result"
    }
   ],
   "source": [
    "# Check for duplicate rows and delete them\n",
    "animes.duplicated().sum()"
   ]
  },
  {
   "cell_type": "code",
   "execution_count": null,
   "metadata": {
    "tags": []
   },
   "outputs": [],
   "source": [
    "# Remove duplicated\n",
    "animes.drop_duplicates(inplace=True)"
   ]
  },
  {
   "cell_type": "markdown",
   "metadata": {
    "tags": []
   },
   "source": [
    "### 4.2-Handle the missing values"
   ]
  },
  {
   "cell_type": "code",
   "execution_count": null,
   "metadata": {},
   "outputs": [
    {
     "data": {
      "text/plain": [
       "Name                0\n",
       "English name    14577\n",
       "Other name        128\n",
       "Score            9213\n",
       "Genres           4929\n",
       "Synopsis            0\n",
       "Type               74\n",
       "Episodes          611\n",
       "Aired               0\n",
       "Premiered       19399\n",
       "Status              0\n",
       "Producers       13350\n",
       "Licensors       20170\n",
       "Studios         10526\n",
       "Source           3689\n",
       "Duration          663\n",
       "Rating            669\n",
       "Rank             4612\n",
       "Popularity          0\n",
       "Favorites           0\n",
       "Scored By        9213\n",
       "Members             0\n",
       "Image URL           0\n",
       "dtype: int64"
      ]
     },
     "execution_count": 33,
     "metadata": {},
     "output_type": "execute_result"
    }
   ],
   "source": [
    "# Find the number of missing values in each column\n",
    "\n",
    "animes.isna().sum()"
   ]
  },
  {
   "cell_type": "markdown",
   "metadata": {},
   "source": [
    "**Note** for many online datasets, you will find missing values are replaced by \"?\".\n",
    "\n",
    "You can replace the \"?\" with NaN first then follow the same steps\n",
    "(df.values == '?').sum()\n",
    "df = df.replace('?', np.nan)\n",
    "df.isna().sum()"
   ]
  },
  {
   "cell_type": "markdown",
   "metadata": {},
   "source": [
    "#### For the guardian feature, we will delete the whole feature\n",
    "\n",
    "**NOTE** You can also drop columns with a specific percent of missing values, for example the below command will drop columns that has 70% (or more) missing values\n",
    "\n",
    "    - dataset.dropna(axis='columns', thresh=int(0.7* df.shape[0]))"
   ]
  },
  {
   "cell_type": "code",
   "execution_count": null,
   "metadata": {},
   "outputs": [],
   "source": [
    "# Dropping the guardian feature\n",
    "\n",
    "students.drop(labels=['guardian'], axis=1, inplace=True)"
   ]
  },
  {
   "cell_type": "markdown",
   "metadata": {},
   "source": [
    "#### For the famsize attribute we will delete the instances with null famsize values"
   ]
  },
  {
   "cell_type": "code",
   "execution_count": null,
   "metadata": {
    "tags": []
   },
   "outputs": [],
   "source": [
    "students.dropna(subset=[\"famsize\"], inplace=True)"
   ]
  },
  {
   "cell_type": "markdown",
   "metadata": {
    "tags": []
   },
   "source": [
    "#### For the remaining missing values, we will fill the mean if it is a numerical value and the most frequent if it is a categorical column.\n",
    "\n",
    "#### We will do this through creating a pipeline, that will also scale the features and perform encoding in the next step.\n",
    "\n",
    "\n"
   ]
  },
  {
   "cell_type": "markdown",
   "metadata": {
    "tags": []
   },
   "source": [
    "### 4.3. Create a pipeline that will \n",
    "\n",
    "1. Fill in the missing numerical values with the mean using a SimpleImputer\n",
    "\n",
    "2. Scale the numerical columns using StandardScaler. Do not scale the target\n",
    "\n",
    "3. Fill in the missing categorical values with the most_frequent value using SimpleImputer\n",
    "\n",
    "4. Encode the categorical columns using OneHotEncoder\n"
   ]
  },
  {
   "cell_type": "code",
   "execution_count": null,
   "metadata": {
    "tags": []
   },
   "outputs": [],
   "source": [
    "from sklearn.compose import ColumnTransformer\n",
    "from sklearn.pipeline import make_pipeline\n",
    "from sklearn.preprocessing import OneHotEncoder\n",
    "from sklearn.impute import SimpleImputer\n",
    "from sklearn.preprocessing import StandardScaler"
   ]
  },
  {
   "cell_type": "code",
   "execution_count": null,
   "metadata": {},
   "outputs": [],
   "source": [
    "#create the cat and num columns\n",
    "num_cols = students.select_dtypes(include='number').columns.to_list()\n",
    "cat_cols = students.select_dtypes(exclude='number').columns.to_list()\n",
    "\n",
    "\n",
    "#exclude the target from numerical columns\n",
    "num_cols.remove(\"G3\")\n",
    "\n",
    "#create pipelines for numeric and categorical columns\n",
    "num_pipeline = make_pipeline(SimpleImputer(strategy='mean'), StandardScaler())\n",
    "cat_pipeline = make_pipeline(SimpleImputer(strategy='most_frequent'), OneHotEncoder())\n",
    "\n",
    "#use ColumnTransformer to set the estimators and transformations\n",
    "\n",
    "preprocessing = ColumnTransformer([('num', num_pipeline, num_cols),\n",
    "                                   ('cat', cat_pipeline, cat_cols)],\n",
    "                                    remainder='passthrough'\n",
    "                                 )"
   ]
  },
  {
   "cell_type": "markdown",
   "metadata": {
    "tags": []
   },
   "source": [
    "#### Display your pipeline"
   ]
  },
  {
   "cell_type": "code",
   "execution_count": null,
   "metadata": {
    "tags": []
   },
   "outputs": [
    {
     "data": {
      "text/html": [
       "<style>#sk-container-id-9 {color: black;}#sk-container-id-9 pre{padding: 0;}#sk-container-id-9 div.sk-toggleable {background-color: white;}#sk-container-id-9 label.sk-toggleable__label {cursor: pointer;display: block;width: 100%;margin-bottom: 0;padding: 0.3em;box-sizing: border-box;text-align: center;}#sk-container-id-9 label.sk-toggleable__label-arrow:before {content: \"▸\";float: left;margin-right: 0.25em;color: #696969;}#sk-container-id-9 label.sk-toggleable__label-arrow:hover:before {color: black;}#sk-container-id-9 div.sk-estimator:hover label.sk-toggleable__label-arrow:before {color: black;}#sk-container-id-9 div.sk-toggleable__content {max-height: 0;max-width: 0;overflow: hidden;text-align: left;background-color: #f0f8ff;}#sk-container-id-9 div.sk-toggleable__content pre {margin: 0.2em;color: black;border-radius: 0.25em;background-color: #f0f8ff;}#sk-container-id-9 input.sk-toggleable__control:checked~div.sk-toggleable__content {max-height: 200px;max-width: 100%;overflow: auto;}#sk-container-id-9 input.sk-toggleable__control:checked~label.sk-toggleable__label-arrow:before {content: \"▾\";}#sk-container-id-9 div.sk-estimator input.sk-toggleable__control:checked~label.sk-toggleable__label {background-color: #d4ebff;}#sk-container-id-9 div.sk-label input.sk-toggleable__control:checked~label.sk-toggleable__label {background-color: #d4ebff;}#sk-container-id-9 input.sk-hidden--visually {border: 0;clip: rect(1px 1px 1px 1px);clip: rect(1px, 1px, 1px, 1px);height: 1px;margin: -1px;overflow: hidden;padding: 0;position: absolute;width: 1px;}#sk-container-id-9 div.sk-estimator {font-family: monospace;background-color: #f0f8ff;border: 1px dotted black;border-radius: 0.25em;box-sizing: border-box;margin-bottom: 0.5em;}#sk-container-id-9 div.sk-estimator:hover {background-color: #d4ebff;}#sk-container-id-9 div.sk-parallel-item::after {content: \"\";width: 100%;border-bottom: 1px solid gray;flex-grow: 1;}#sk-container-id-9 div.sk-label:hover label.sk-toggleable__label {background-color: #d4ebff;}#sk-container-id-9 div.sk-serial::before {content: \"\";position: absolute;border-left: 1px solid gray;box-sizing: border-box;top: 0;bottom: 0;left: 50%;z-index: 0;}#sk-container-id-9 div.sk-serial {display: flex;flex-direction: column;align-items: center;background-color: white;padding-right: 0.2em;padding-left: 0.2em;position: relative;}#sk-container-id-9 div.sk-item {position: relative;z-index: 1;}#sk-container-id-9 div.sk-parallel {display: flex;align-items: stretch;justify-content: center;background-color: white;position: relative;}#sk-container-id-9 div.sk-item::before, #sk-container-id-9 div.sk-parallel-item::before {content: \"\";position: absolute;border-left: 1px solid gray;box-sizing: border-box;top: 0;bottom: 0;left: 50%;z-index: -1;}#sk-container-id-9 div.sk-parallel-item {display: flex;flex-direction: column;z-index: 1;position: relative;background-color: white;}#sk-container-id-9 div.sk-parallel-item:first-child::after {align-self: flex-end;width: 50%;}#sk-container-id-9 div.sk-parallel-item:last-child::after {align-self: flex-start;width: 50%;}#sk-container-id-9 div.sk-parallel-item:only-child::after {width: 0;}#sk-container-id-9 div.sk-dashed-wrapped {border: 1px dashed gray;margin: 0 0.4em 0.5em 0.4em;box-sizing: border-box;padding-bottom: 0.4em;background-color: white;}#sk-container-id-9 div.sk-label label {font-family: monospace;font-weight: bold;display: inline-block;line-height: 1.2em;}#sk-container-id-9 div.sk-label-container {text-align: center;}#sk-container-id-9 div.sk-container {/* jupyter's `normalize.less` sets `[hidden] { display: none; }` but bootstrap.min.css set `[hidden] { display: none !important; }` so we also need the `!important` here to be able to override the default hidden behavior on the sphinx rendered scikit-learn.org. See: https://github.com/scikit-learn/scikit-learn/issues/21755 */display: inline-block !important;position: relative;}#sk-container-id-9 div.sk-text-repr-fallback {display: none;}</style><div id=\"sk-container-id-9\" class=\"sk-top-container\"><div class=\"sk-text-repr-fallback\"><pre>ColumnTransformer(remainder=&#x27;passthrough&#x27;,\n",
       "                  transformers=[(&#x27;num&#x27;,\n",
       "                                 Pipeline(steps=[(&#x27;simpleimputer&#x27;,\n",
       "                                                  SimpleImputer()),\n",
       "                                                 (&#x27;standardscaler&#x27;,\n",
       "                                                  StandardScaler())]),\n",
       "                                 [&#x27;age&#x27;, &#x27;Medu&#x27;, &#x27;Fedu&#x27;, &#x27;traveltime&#x27;,\n",
       "                                  &#x27;studytime&#x27;, &#x27;failures&#x27;, &#x27;famrel&#x27;, &#x27;freetime&#x27;,\n",
       "                                  &#x27;goout&#x27;, &#x27;Dalc&#x27;, &#x27;Walc&#x27;, &#x27;health&#x27;, &#x27;absences&#x27;,\n",
       "                                  &#x27;G1&#x27;, &#x27;G2&#x27;]),\n",
       "                                (&#x27;cat&#x27;,\n",
       "                                 Pipeline(steps=[(&#x27;simpleimputer&#x27;,\n",
       "                                                  SimpleImputer(strategy=&#x27;most_frequent&#x27;)),\n",
       "                                                 (&#x27;onehotencoder&#x27;,\n",
       "                                                  OneHotEncoder())]),\n",
       "                                 [&#x27;school&#x27;, &#x27;sex&#x27;, &#x27;address&#x27;, &#x27;famsize&#x27;,\n",
       "                                  &#x27;Pstatus&#x27;, &#x27;Mjob&#x27;, &#x27;Fjob&#x27;, &#x27;reason&#x27;,\n",
       "                                  &#x27;schoolsup&#x27;, &#x27;famsup&#x27;, &#x27;paid&#x27;, &#x27;activities&#x27;,\n",
       "                                  &#x27;nursery&#x27;, &#x27;higher&#x27;, &#x27;internet&#x27;,\n",
       "                                  &#x27;romantic&#x27;])])</pre><b>In a Jupyter environment, please rerun this cell to show the HTML representation or trust the notebook. <br />On GitHub, the HTML representation is unable to render, please try loading this page with nbviewer.org.</b></div><div class=\"sk-container\" hidden><div class=\"sk-item sk-dashed-wrapped\"><div class=\"sk-label-container\"><div class=\"sk-label sk-toggleable\"><input class=\"sk-toggleable__control sk-hidden--visually\" id=\"sk-estimator-id-45\" type=\"checkbox\" ><label for=\"sk-estimator-id-45\" class=\"sk-toggleable__label sk-toggleable__label-arrow\">ColumnTransformer</label><div class=\"sk-toggleable__content\"><pre>ColumnTransformer(remainder=&#x27;passthrough&#x27;,\n",
       "                  transformers=[(&#x27;num&#x27;,\n",
       "                                 Pipeline(steps=[(&#x27;simpleimputer&#x27;,\n",
       "                                                  SimpleImputer()),\n",
       "                                                 (&#x27;standardscaler&#x27;,\n",
       "                                                  StandardScaler())]),\n",
       "                                 [&#x27;age&#x27;, &#x27;Medu&#x27;, &#x27;Fedu&#x27;, &#x27;traveltime&#x27;,\n",
       "                                  &#x27;studytime&#x27;, &#x27;failures&#x27;, &#x27;famrel&#x27;, &#x27;freetime&#x27;,\n",
       "                                  &#x27;goout&#x27;, &#x27;Dalc&#x27;, &#x27;Walc&#x27;, &#x27;health&#x27;, &#x27;absences&#x27;,\n",
       "                                  &#x27;G1&#x27;, &#x27;G2&#x27;]),\n",
       "                                (&#x27;cat&#x27;,\n",
       "                                 Pipeline(steps=[(&#x27;simpleimputer&#x27;,\n",
       "                                                  SimpleImputer(strategy=&#x27;most_frequent&#x27;)),\n",
       "                                                 (&#x27;onehotencoder&#x27;,\n",
       "                                                  OneHotEncoder())]),\n",
       "                                 [&#x27;school&#x27;, &#x27;sex&#x27;, &#x27;address&#x27;, &#x27;famsize&#x27;,\n",
       "                                  &#x27;Pstatus&#x27;, &#x27;Mjob&#x27;, &#x27;Fjob&#x27;, &#x27;reason&#x27;,\n",
       "                                  &#x27;schoolsup&#x27;, &#x27;famsup&#x27;, &#x27;paid&#x27;, &#x27;activities&#x27;,\n",
       "                                  &#x27;nursery&#x27;, &#x27;higher&#x27;, &#x27;internet&#x27;,\n",
       "                                  &#x27;romantic&#x27;])])</pre></div></div></div><div class=\"sk-parallel\"><div class=\"sk-parallel-item\"><div class=\"sk-item\"><div class=\"sk-label-container\"><div class=\"sk-label sk-toggleable\"><input class=\"sk-toggleable__control sk-hidden--visually\" id=\"sk-estimator-id-46\" type=\"checkbox\" ><label for=\"sk-estimator-id-46\" class=\"sk-toggleable__label sk-toggleable__label-arrow\">num</label><div class=\"sk-toggleable__content\"><pre>[&#x27;age&#x27;, &#x27;Medu&#x27;, &#x27;Fedu&#x27;, &#x27;traveltime&#x27;, &#x27;studytime&#x27;, &#x27;failures&#x27;, &#x27;famrel&#x27;, &#x27;freetime&#x27;, &#x27;goout&#x27;, &#x27;Dalc&#x27;, &#x27;Walc&#x27;, &#x27;health&#x27;, &#x27;absences&#x27;, &#x27;G1&#x27;, &#x27;G2&#x27;]</pre></div></div></div><div class=\"sk-serial\"><div class=\"sk-item\"><div class=\"sk-serial\"><div class=\"sk-item\"><div class=\"sk-estimator sk-toggleable\"><input class=\"sk-toggleable__control sk-hidden--visually\" id=\"sk-estimator-id-47\" type=\"checkbox\" ><label for=\"sk-estimator-id-47\" class=\"sk-toggleable__label sk-toggleable__label-arrow\">SimpleImputer</label><div class=\"sk-toggleable__content\"><pre>SimpleImputer()</pre></div></div></div><div class=\"sk-item\"><div class=\"sk-estimator sk-toggleable\"><input class=\"sk-toggleable__control sk-hidden--visually\" id=\"sk-estimator-id-48\" type=\"checkbox\" ><label for=\"sk-estimator-id-48\" class=\"sk-toggleable__label sk-toggleable__label-arrow\">StandardScaler</label><div class=\"sk-toggleable__content\"><pre>StandardScaler()</pre></div></div></div></div></div></div></div></div><div class=\"sk-parallel-item\"><div class=\"sk-item\"><div class=\"sk-label-container\"><div class=\"sk-label sk-toggleable\"><input class=\"sk-toggleable__control sk-hidden--visually\" id=\"sk-estimator-id-49\" type=\"checkbox\" ><label for=\"sk-estimator-id-49\" class=\"sk-toggleable__label sk-toggleable__label-arrow\">cat</label><div class=\"sk-toggleable__content\"><pre>[&#x27;school&#x27;, &#x27;sex&#x27;, &#x27;address&#x27;, &#x27;famsize&#x27;, &#x27;Pstatus&#x27;, &#x27;Mjob&#x27;, &#x27;Fjob&#x27;, &#x27;reason&#x27;, &#x27;schoolsup&#x27;, &#x27;famsup&#x27;, &#x27;paid&#x27;, &#x27;activities&#x27;, &#x27;nursery&#x27;, &#x27;higher&#x27;, &#x27;internet&#x27;, &#x27;romantic&#x27;]</pre></div></div></div><div class=\"sk-serial\"><div class=\"sk-item\"><div class=\"sk-serial\"><div class=\"sk-item\"><div class=\"sk-estimator sk-toggleable\"><input class=\"sk-toggleable__control sk-hidden--visually\" id=\"sk-estimator-id-50\" type=\"checkbox\" ><label for=\"sk-estimator-id-50\" class=\"sk-toggleable__label sk-toggleable__label-arrow\">SimpleImputer</label><div class=\"sk-toggleable__content\"><pre>SimpleImputer(strategy=&#x27;most_frequent&#x27;)</pre></div></div></div><div class=\"sk-item\"><div class=\"sk-estimator sk-toggleable\"><input class=\"sk-toggleable__control sk-hidden--visually\" id=\"sk-estimator-id-51\" type=\"checkbox\" ><label for=\"sk-estimator-id-51\" class=\"sk-toggleable__label sk-toggleable__label-arrow\">OneHotEncoder</label><div class=\"sk-toggleable__content\"><pre>OneHotEncoder()</pre></div></div></div></div></div></div></div></div><div class=\"sk-parallel-item\"><div class=\"sk-item\"><div class=\"sk-label-container\"><div class=\"sk-label sk-toggleable\"><input class=\"sk-toggleable__control sk-hidden--visually\" id=\"sk-estimator-id-52\" type=\"checkbox\" ><label for=\"sk-estimator-id-52\" class=\"sk-toggleable__label sk-toggleable__label-arrow\">remainder</label><div class=\"sk-toggleable__content\"><pre></pre></div></div></div><div class=\"sk-serial\"><div class=\"sk-item\"><div class=\"sk-estimator sk-toggleable\"><input class=\"sk-toggleable__control sk-hidden--visually\" id=\"sk-estimator-id-53\" type=\"checkbox\" ><label for=\"sk-estimator-id-53\" class=\"sk-toggleable__label sk-toggleable__label-arrow\">passthrough</label><div class=\"sk-toggleable__content\"><pre>passthrough</pre></div></div></div></div></div></div></div></div></div></div>"
      ],
      "text/plain": [
       "ColumnTransformer(remainder='passthrough',\n",
       "                  transformers=[('num',\n",
       "                                 Pipeline(steps=[('simpleimputer',\n",
       "                                                  SimpleImputer()),\n",
       "                                                 ('standardscaler',\n",
       "                                                  StandardScaler())]),\n",
       "                                 ['age', 'Medu', 'Fedu', 'traveltime',\n",
       "                                  'studytime', 'failures', 'famrel', 'freetime',\n",
       "                                  'goout', 'Dalc', 'Walc', 'health', 'absences',\n",
       "                                  'G1', 'G2']),\n",
       "                                ('cat',\n",
       "                                 Pipeline(steps=[('simpleimputer',\n",
       "                                                  SimpleImputer(strategy='most_frequent')),\n",
       "                                                 ('onehotencoder',\n",
       "                                                  OneHotEncoder())]),\n",
       "                                 ['school', 'sex', 'address', 'famsize',\n",
       "                                  'Pstatus', 'Mjob', 'Fjob', 'reason',\n",
       "                                  'schoolsup', 'famsup', 'paid', 'activities',\n",
       "                                  'nursery', 'higher', 'internet',\n",
       "                                  'romantic'])])"
      ]
     },
     "execution_count": 208,
     "metadata": {},
     "output_type": "execute_result"
    }
   ],
   "source": [
    "# Show the pipeline\n",
    "preprocessing"
   ]
  },
  {
   "cell_type": "code",
   "execution_count": null,
   "metadata": {},
   "outputs": [
    {
     "data": {
      "text/html": [
       "<div>\n",
       "<style scoped>\n",
       "    .dataframe tbody tr th:only-of-type {\n",
       "        vertical-align: middle;\n",
       "    }\n",
       "\n",
       "    .dataframe tbody tr th {\n",
       "        vertical-align: top;\n",
       "    }\n",
       "\n",
       "    .dataframe thead th {\n",
       "        text-align: right;\n",
       "    }\n",
       "</style>\n",
       "<table border=\"1\" class=\"dataframe\">\n",
       "  <thead>\n",
       "    <tr style=\"text-align: right;\">\n",
       "      <th></th>\n",
       "      <th>num__age</th>\n",
       "      <th>num__Medu</th>\n",
       "      <th>num__Fedu</th>\n",
       "      <th>num__traveltime</th>\n",
       "      <th>num__studytime</th>\n",
       "      <th>num__failures</th>\n",
       "      <th>num__famrel</th>\n",
       "      <th>num__freetime</th>\n",
       "      <th>num__goout</th>\n",
       "      <th>num__Dalc</th>\n",
       "      <th>...</th>\n",
       "      <th>cat__activities_yes</th>\n",
       "      <th>cat__nursery_no</th>\n",
       "      <th>cat__nursery_yes</th>\n",
       "      <th>cat__higher_no</th>\n",
       "      <th>cat__higher_yes</th>\n",
       "      <th>cat__internet_no</th>\n",
       "      <th>cat__internet_yes</th>\n",
       "      <th>cat__romantic_no</th>\n",
       "      <th>cat__romantic_yes</th>\n",
       "      <th>remainder__G3</th>\n",
       "    </tr>\n",
       "  </thead>\n",
       "  <tbody>\n",
       "    <tr>\n",
       "      <th>0</th>\n",
       "      <td>-1.345509</td>\n",
       "      <td>1.145338</td>\n",
       "      <td>-0.480849</td>\n",
       "      <td>-0.644415</td>\n",
       "      <td>1.138131</td>\n",
       "      <td>-0.448662</td>\n",
       "      <td>-1.046318</td>\n",
       "      <td>-1.230494</td>\n",
       "      <td>-1.001491</td>\n",
       "      <td>-0.541286</td>\n",
       "      <td>...</td>\n",
       "      <td>1.0</td>\n",
       "      <td>0.0</td>\n",
       "      <td>1.0</td>\n",
       "      <td>0.0</td>\n",
       "      <td>1.0</td>\n",
       "      <td>0.0</td>\n",
       "      <td>1.0</td>\n",
       "      <td>0.0</td>\n",
       "      <td>1.0</td>\n",
       "      <td>15.0</td>\n",
       "    </tr>\n",
       "    <tr>\n",
       "      <th>1</th>\n",
       "      <td>-0.559278</td>\n",
       "      <td>0.227175</td>\n",
       "      <td>0.442762</td>\n",
       "      <td>-0.644415</td>\n",
       "      <td>-0.048952</td>\n",
       "      <td>-0.448662</td>\n",
       "      <td>0.065932</td>\n",
       "      <td>-0.235845</td>\n",
       "      <td>-1.001491</td>\n",
       "      <td>-0.541286</td>\n",
       "      <td>...</td>\n",
       "      <td>0.0</td>\n",
       "      <td>0.0</td>\n",
       "      <td>1.0</td>\n",
       "      <td>0.0</td>\n",
       "      <td>1.0</td>\n",
       "      <td>1.0</td>\n",
       "      <td>0.0</td>\n",
       "      <td>1.0</td>\n",
       "      <td>0.0</td>\n",
       "      <td>10.0</td>\n",
       "    </tr>\n",
       "    <tr>\n",
       "      <th>2</th>\n",
       "      <td>-0.559278</td>\n",
       "      <td>1.145338</td>\n",
       "      <td>0.442762</td>\n",
       "      <td>-0.644415</td>\n",
       "      <td>-0.048952</td>\n",
       "      <td>-0.448662</td>\n",
       "      <td>1.178183</td>\n",
       "      <td>0.758805</td>\n",
       "      <td>-1.001491</td>\n",
       "      <td>-0.541286</td>\n",
       "      <td>...</td>\n",
       "      <td>1.0</td>\n",
       "      <td>0.0</td>\n",
       "      <td>1.0</td>\n",
       "      <td>0.0</td>\n",
       "      <td>1.0</td>\n",
       "      <td>0.0</td>\n",
       "      <td>1.0</td>\n",
       "      <td>1.0</td>\n",
       "      <td>0.0</td>\n",
       "      <td>15.0</td>\n",
       "    </tr>\n",
       "    <tr>\n",
       "      <th>3</th>\n",
       "      <td>-0.559278</td>\n",
       "      <td>-0.690989</td>\n",
       "      <td>-0.480849</td>\n",
       "      <td>-0.644415</td>\n",
       "      <td>-0.048952</td>\n",
       "      <td>-0.448662</td>\n",
       "      <td>0.065932</td>\n",
       "      <td>0.758805</td>\n",
       "      <td>0.793329</td>\n",
       "      <td>-0.541286</td>\n",
       "      <td>...</td>\n",
       "      <td>0.0</td>\n",
       "      <td>0.0</td>\n",
       "      <td>1.0</td>\n",
       "      <td>0.0</td>\n",
       "      <td>1.0</td>\n",
       "      <td>0.0</td>\n",
       "      <td>1.0</td>\n",
       "      <td>1.0</td>\n",
       "      <td>0.0</td>\n",
       "      <td>11.0</td>\n",
       "    </tr>\n",
       "    <tr>\n",
       "      <th>4</th>\n",
       "      <td>0.226953</td>\n",
       "      <td>1.145338</td>\n",
       "      <td>1.366372</td>\n",
       "      <td>0.784346</td>\n",
       "      <td>-0.048952</td>\n",
       "      <td>-0.448662</td>\n",
       "      <td>0.065932</td>\n",
       "      <td>-2.225144</td>\n",
       "      <td>0.793329</td>\n",
       "      <td>-0.541286</td>\n",
       "      <td>...</td>\n",
       "      <td>0.0</td>\n",
       "      <td>0.0</td>\n",
       "      <td>1.0</td>\n",
       "      <td>0.0</td>\n",
       "      <td>1.0</td>\n",
       "      <td>1.0</td>\n",
       "      <td>0.0</td>\n",
       "      <td>1.0</td>\n",
       "      <td>0.0</td>\n",
       "      <td>6.0</td>\n",
       "    </tr>\n",
       "    <tr>\n",
       "      <th>...</th>\n",
       "      <td>...</td>\n",
       "      <td>...</td>\n",
       "      <td>...</td>\n",
       "      <td>...</td>\n",
       "      <td>...</td>\n",
       "      <td>...</td>\n",
       "      <td>...</td>\n",
       "      <td>...</td>\n",
       "      <td>...</td>\n",
       "      <td>...</td>\n",
       "      <td>...</td>\n",
       "      <td>...</td>\n",
       "      <td>...</td>\n",
       "      <td>...</td>\n",
       "      <td>...</td>\n",
       "      <td>...</td>\n",
       "      <td>...</td>\n",
       "      <td>...</td>\n",
       "      <td>...</td>\n",
       "      <td>...</td>\n",
       "      <td>...</td>\n",
       "    </tr>\n",
       "    <tr>\n",
       "      <th>383</th>\n",
       "      <td>2.585646</td>\n",
       "      <td>-0.690989</td>\n",
       "      <td>-0.480849</td>\n",
       "      <td>-0.644415</td>\n",
       "      <td>-0.048952</td>\n",
       "      <td>2.271350</td>\n",
       "      <td>1.178183</td>\n",
       "      <td>1.753454</td>\n",
       "      <td>0.793329</td>\n",
       "      <td>2.810079</td>\n",
       "      <td>...</td>\n",
       "      <td>0.0</td>\n",
       "      <td>0.0</td>\n",
       "      <td>1.0</td>\n",
       "      <td>0.0</td>\n",
       "      <td>1.0</td>\n",
       "      <td>1.0</td>\n",
       "      <td>0.0</td>\n",
       "      <td>1.0</td>\n",
       "      <td>0.0</td>\n",
       "      <td>9.0</td>\n",
       "    </tr>\n",
       "    <tr>\n",
       "      <th>384</th>\n",
       "      <td>0.226953</td>\n",
       "      <td>0.227175</td>\n",
       "      <td>-1.404459</td>\n",
       "      <td>0.784346</td>\n",
       "      <td>-1.236035</td>\n",
       "      <td>-0.448662</td>\n",
       "      <td>-2.158568</td>\n",
       "      <td>0.758805</td>\n",
       "      <td>1.690740</td>\n",
       "      <td>1.692958</td>\n",
       "      <td>...</td>\n",
       "      <td>0.0</td>\n",
       "      <td>1.0</td>\n",
       "      <td>0.0</td>\n",
       "      <td>0.0</td>\n",
       "      <td>1.0</td>\n",
       "      <td>0.0</td>\n",
       "      <td>1.0</td>\n",
       "      <td>1.0</td>\n",
       "      <td>0.0</td>\n",
       "      <td>16.0</td>\n",
       "    </tr>\n",
       "    <tr>\n",
       "      <th>385</th>\n",
       "      <td>3.371877</td>\n",
       "      <td>-1.609153</td>\n",
       "      <td>-1.404459</td>\n",
       "      <td>-0.644415</td>\n",
       "      <td>-1.236035</td>\n",
       "      <td>3.631357</td>\n",
       "      <td>1.178183</td>\n",
       "      <td>1.753454</td>\n",
       "      <td>-0.104081</td>\n",
       "      <td>1.692958</td>\n",
       "      <td>...</td>\n",
       "      <td>0.0</td>\n",
       "      <td>1.0</td>\n",
       "      <td>0.0</td>\n",
       "      <td>0.0</td>\n",
       "      <td>1.0</td>\n",
       "      <td>1.0</td>\n",
       "      <td>0.0</td>\n",
       "      <td>1.0</td>\n",
       "      <td>0.0</td>\n",
       "      <td>7.0</td>\n",
       "    </tr>\n",
       "    <tr>\n",
       "      <th>386</th>\n",
       "      <td>1.013184</td>\n",
       "      <td>0.227175</td>\n",
       "      <td>-0.480849</td>\n",
       "      <td>2.213106</td>\n",
       "      <td>-1.236035</td>\n",
       "      <td>-0.448662</td>\n",
       "      <td>0.065932</td>\n",
       "      <td>0.758805</td>\n",
       "      <td>-1.898902</td>\n",
       "      <td>1.692958</td>\n",
       "      <td>...</td>\n",
       "      <td>0.0</td>\n",
       "      <td>1.0</td>\n",
       "      <td>0.0</td>\n",
       "      <td>0.0</td>\n",
       "      <td>1.0</td>\n",
       "      <td>0.0</td>\n",
       "      <td>1.0</td>\n",
       "      <td>1.0</td>\n",
       "      <td>0.0</td>\n",
       "      <td>10.0</td>\n",
       "    </tr>\n",
       "    <tr>\n",
       "      <th>387</th>\n",
       "      <td>1.799415</td>\n",
       "      <td>-1.609153</td>\n",
       "      <td>-1.404459</td>\n",
       "      <td>-0.644415</td>\n",
       "      <td>-1.236035</td>\n",
       "      <td>-0.448662</td>\n",
       "      <td>-1.046318</td>\n",
       "      <td>-1.230494</td>\n",
       "      <td>-0.104081</td>\n",
       "      <td>1.692958</td>\n",
       "      <td>...</td>\n",
       "      <td>0.0</td>\n",
       "      <td>0.0</td>\n",
       "      <td>1.0</td>\n",
       "      <td>0.0</td>\n",
       "      <td>1.0</td>\n",
       "      <td>0.0</td>\n",
       "      <td>1.0</td>\n",
       "      <td>1.0</td>\n",
       "      <td>0.0</td>\n",
       "      <td>9.0</td>\n",
       "    </tr>\n",
       "  </tbody>\n",
       "</table>\n",
       "<p>388 rows × 56 columns</p>\n",
       "</div>"
      ],
      "text/plain": [
       "     num__age  num__Medu  num__Fedu  num__traveltime  num__studytime  \\\n",
       "0   -1.345509   1.145338  -0.480849        -0.644415        1.138131   \n",
       "1   -0.559278   0.227175   0.442762        -0.644415       -0.048952   \n",
       "2   -0.559278   1.145338   0.442762        -0.644415       -0.048952   \n",
       "3   -0.559278  -0.690989  -0.480849        -0.644415       -0.048952   \n",
       "4    0.226953   1.145338   1.366372         0.784346       -0.048952   \n",
       "..        ...        ...        ...              ...             ...   \n",
       "383  2.585646  -0.690989  -0.480849        -0.644415       -0.048952   \n",
       "384  0.226953   0.227175  -1.404459         0.784346       -1.236035   \n",
       "385  3.371877  -1.609153  -1.404459        -0.644415       -1.236035   \n",
       "386  1.013184   0.227175  -0.480849         2.213106       -1.236035   \n",
       "387  1.799415  -1.609153  -1.404459        -0.644415       -1.236035   \n",
       "\n",
       "     num__failures  num__famrel  num__freetime  num__goout  num__Dalc  ...  \\\n",
       "0        -0.448662    -1.046318      -1.230494   -1.001491  -0.541286  ...   \n",
       "1        -0.448662     0.065932      -0.235845   -1.001491  -0.541286  ...   \n",
       "2        -0.448662     1.178183       0.758805   -1.001491  -0.541286  ...   \n",
       "3        -0.448662     0.065932       0.758805    0.793329  -0.541286  ...   \n",
       "4        -0.448662     0.065932      -2.225144    0.793329  -0.541286  ...   \n",
       "..             ...          ...            ...         ...        ...  ...   \n",
       "383       2.271350     1.178183       1.753454    0.793329   2.810079  ...   \n",
       "384      -0.448662    -2.158568       0.758805    1.690740   1.692958  ...   \n",
       "385       3.631357     1.178183       1.753454   -0.104081   1.692958  ...   \n",
       "386      -0.448662     0.065932       0.758805   -1.898902   1.692958  ...   \n",
       "387      -0.448662    -1.046318      -1.230494   -0.104081   1.692958  ...   \n",
       "\n",
       "     cat__activities_yes  cat__nursery_no  cat__nursery_yes  cat__higher_no  \\\n",
       "0                    1.0              0.0               1.0             0.0   \n",
       "1                    0.0              0.0               1.0             0.0   \n",
       "2                    1.0              0.0               1.0             0.0   \n",
       "3                    0.0              0.0               1.0             0.0   \n",
       "4                    0.0              0.0               1.0             0.0   \n",
       "..                   ...              ...               ...             ...   \n",
       "383                  0.0              0.0               1.0             0.0   \n",
       "384                  0.0              1.0               0.0             0.0   \n",
       "385                  0.0              1.0               0.0             0.0   \n",
       "386                  0.0              1.0               0.0             0.0   \n",
       "387                  0.0              0.0               1.0             0.0   \n",
       "\n",
       "     cat__higher_yes  cat__internet_no  cat__internet_yes  cat__romantic_no  \\\n",
       "0                1.0               0.0                1.0               0.0   \n",
       "1                1.0               1.0                0.0               1.0   \n",
       "2                1.0               0.0                1.0               1.0   \n",
       "3                1.0               0.0                1.0               1.0   \n",
       "4                1.0               1.0                0.0               1.0   \n",
       "..               ...               ...                ...               ...   \n",
       "383              1.0               1.0                0.0               1.0   \n",
       "384              1.0               0.0                1.0               1.0   \n",
       "385              1.0               1.0                0.0               1.0   \n",
       "386              1.0               0.0                1.0               1.0   \n",
       "387              1.0               0.0                1.0               1.0   \n",
       "\n",
       "     cat__romantic_yes  remainder__G3  \n",
       "0                  1.0           15.0  \n",
       "1                  0.0           10.0  \n",
       "2                  0.0           15.0  \n",
       "3                  0.0           11.0  \n",
       "4                  0.0            6.0  \n",
       "..                 ...            ...  \n",
       "383                0.0            9.0  \n",
       "384                0.0           16.0  \n",
       "385                0.0            7.0  \n",
       "386                0.0           10.0  \n",
       "387                0.0            9.0  \n",
       "\n",
       "[388 rows x 56 columns]"
      ]
     },
     "execution_count": 209,
     "metadata": {},
     "output_type": "execute_result"
    }
   ],
   "source": [
    "# Apply the preprocessing pipeline on the dataset\n",
    "students_prepared = preprocessing.fit_transform(students)\n",
    "\n",
    "# Scikit-learn strips the column headers in most cases, so just add them back on afterward.\n",
    "feature_names=preprocessing.get_feature_names_out()\n",
    "students_prepared = pd.DataFrame(data=students_prepared, columns=feature_names)\n",
    "\n",
    "students_prepared"
   ]
  },
  {
   "cell_type": "markdown",
   "metadata": {},
   "source": [
    "# 5. Select a model and train it"
   ]
  },
  {
   "cell_type": "markdown",
   "metadata": {},
   "source": [
    "## 5.1 Split the dataset into a training dataset (80%) and testing dataset."
   ]
  },
  {
   "cell_type": "code",
   "execution_count": null,
   "metadata": {},
   "outputs": [
    {
     "name": "stdout",
     "output_type": "stream",
     "text": [
      "(310, 55) (310,) (78, 55) (78,)\n"
     ]
    }
   ],
   "source": [
    "from sklearn.model_selection import train_test_split\n",
    "\n",
    "X = students_prepared.drop([\"remainder__G3\"], axis=1)\n",
    "y = students_prepared[\"remainder__G3\"]\n",
    "\n",
    "X_train, X_test, y_train, y_test = train_test_split(X, y, test_size=0.2, random_state=42)\n",
    "print(X_train.shape, y_train.shape, X_test.shape, y_test.shape)"
   ]
  },
  {
   "cell_type": "markdown",
   "metadata": {
    "tags": []
   },
   "source": [
    "### 5.2 Train a Linear Regression model "
   ]
  },
  {
   "cell_type": "code",
   "execution_count": null,
   "metadata": {},
   "outputs": [
    {
     "data": {
      "text/html": [
       "<style>#sk-container-id-12 {color: black;}#sk-container-id-12 pre{padding: 0;}#sk-container-id-12 div.sk-toggleable {background-color: white;}#sk-container-id-12 label.sk-toggleable__label {cursor: pointer;display: block;width: 100%;margin-bottom: 0;padding: 0.3em;box-sizing: border-box;text-align: center;}#sk-container-id-12 label.sk-toggleable__label-arrow:before {content: \"▸\";float: left;margin-right: 0.25em;color: #696969;}#sk-container-id-12 label.sk-toggleable__label-arrow:hover:before {color: black;}#sk-container-id-12 div.sk-estimator:hover label.sk-toggleable__label-arrow:before {color: black;}#sk-container-id-12 div.sk-toggleable__content {max-height: 0;max-width: 0;overflow: hidden;text-align: left;background-color: #f0f8ff;}#sk-container-id-12 div.sk-toggleable__content pre {margin: 0.2em;color: black;border-radius: 0.25em;background-color: #f0f8ff;}#sk-container-id-12 input.sk-toggleable__control:checked~div.sk-toggleable__content {max-height: 200px;max-width: 100%;overflow: auto;}#sk-container-id-12 input.sk-toggleable__control:checked~label.sk-toggleable__label-arrow:before {content: \"▾\";}#sk-container-id-12 div.sk-estimator input.sk-toggleable__control:checked~label.sk-toggleable__label {background-color: #d4ebff;}#sk-container-id-12 div.sk-label input.sk-toggleable__control:checked~label.sk-toggleable__label {background-color: #d4ebff;}#sk-container-id-12 input.sk-hidden--visually {border: 0;clip: rect(1px 1px 1px 1px);clip: rect(1px, 1px, 1px, 1px);height: 1px;margin: -1px;overflow: hidden;padding: 0;position: absolute;width: 1px;}#sk-container-id-12 div.sk-estimator {font-family: monospace;background-color: #f0f8ff;border: 1px dotted black;border-radius: 0.25em;box-sizing: border-box;margin-bottom: 0.5em;}#sk-container-id-12 div.sk-estimator:hover {background-color: #d4ebff;}#sk-container-id-12 div.sk-parallel-item::after {content: \"\";width: 100%;border-bottom: 1px solid gray;flex-grow: 1;}#sk-container-id-12 div.sk-label:hover label.sk-toggleable__label {background-color: #d4ebff;}#sk-container-id-12 div.sk-serial::before {content: \"\";position: absolute;border-left: 1px solid gray;box-sizing: border-box;top: 0;bottom: 0;left: 50%;z-index: 0;}#sk-container-id-12 div.sk-serial {display: flex;flex-direction: column;align-items: center;background-color: white;padding-right: 0.2em;padding-left: 0.2em;position: relative;}#sk-container-id-12 div.sk-item {position: relative;z-index: 1;}#sk-container-id-12 div.sk-parallel {display: flex;align-items: stretch;justify-content: center;background-color: white;position: relative;}#sk-container-id-12 div.sk-item::before, #sk-container-id-12 div.sk-parallel-item::before {content: \"\";position: absolute;border-left: 1px solid gray;box-sizing: border-box;top: 0;bottom: 0;left: 50%;z-index: -1;}#sk-container-id-12 div.sk-parallel-item {display: flex;flex-direction: column;z-index: 1;position: relative;background-color: white;}#sk-container-id-12 div.sk-parallel-item:first-child::after {align-self: flex-end;width: 50%;}#sk-container-id-12 div.sk-parallel-item:last-child::after {align-self: flex-start;width: 50%;}#sk-container-id-12 div.sk-parallel-item:only-child::after {width: 0;}#sk-container-id-12 div.sk-dashed-wrapped {border: 1px dashed gray;margin: 0 0.4em 0.5em 0.4em;box-sizing: border-box;padding-bottom: 0.4em;background-color: white;}#sk-container-id-12 div.sk-label label {font-family: monospace;font-weight: bold;display: inline-block;line-height: 1.2em;}#sk-container-id-12 div.sk-label-container {text-align: center;}#sk-container-id-12 div.sk-container {/* jupyter's `normalize.less` sets `[hidden] { display: none; }` but bootstrap.min.css set `[hidden] { display: none !important; }` so we also need the `!important` here to be able to override the default hidden behavior on the sphinx rendered scikit-learn.org. See: https://github.com/scikit-learn/scikit-learn/issues/21755 */display: inline-block !important;position: relative;}#sk-container-id-12 div.sk-text-repr-fallback {display: none;}</style><div id=\"sk-container-id-12\" class=\"sk-top-container\"><div class=\"sk-text-repr-fallback\"><pre>LinearRegression()</pre><b>In a Jupyter environment, please rerun this cell to show the HTML representation or trust the notebook. <br />On GitHub, the HTML representation is unable to render, please try loading this page with nbviewer.org.</b></div><div class=\"sk-container\" hidden><div class=\"sk-item\"><div class=\"sk-estimator sk-toggleable\"><input class=\"sk-toggleable__control sk-hidden--visually\" id=\"sk-estimator-id-56\" type=\"checkbox\" checked><label for=\"sk-estimator-id-56\" class=\"sk-toggleable__label sk-toggleable__label-arrow\">LinearRegression</label><div class=\"sk-toggleable__content\"><pre>LinearRegression()</pre></div></div></div></div></div>"
      ],
      "text/plain": [
       "LinearRegression()"
      ]
     },
     "execution_count": 217,
     "metadata": {},
     "output_type": "execute_result"
    }
   ],
   "source": [
    "from sklearn.linear_model import LinearRegression\n",
    "\n",
    "lr_model = LinearRegression()\n",
    "\n",
    "lr_model.fit(X_train,y_train)\n",
    "\n"
   ]
  },
  {
   "cell_type": "markdown",
   "metadata": {
    "tags": []
   },
   "source": [
    "### Test your model on the test set, and report on the Mean Squared Error"
   ]
  },
  {
   "cell_type": "code",
   "execution_count": null,
   "metadata": {
    "tags": []
   },
   "outputs": [
    {
     "data": {
      "text/plain": [
       "4.143203588632437"
      ]
     },
     "execution_count": 214,
     "metadata": {},
     "output_type": "execute_result"
    }
   ],
   "source": [
    "# Predict the outcome of test data\n",
    "\n",
    "lr_y_predict = lr_model.predict(X_test)\n",
    "\n",
    "from sklearn.metrics import mean_squared_error as mse\n",
    "lr_mse=mse(y_test, lr_y_predict)\n",
    "lr_mse"
   ]
  },
  {
   "cell_type": "markdown",
   "metadata": {},
   "source": [
    "### 5.3 Train a Linear Regression model using KFold cross-validation with 5 folds, and report on the cross validation score, use negative mean squared error as the cross validation metric."
   ]
  },
  {
   "cell_type": "code",
   "execution_count": null,
   "metadata": {
    "tags": []
   },
   "outputs": [
    {
     "data": {
      "text/plain": [
       "array([-2.91241728, -3.80327199, -4.33055952, -5.22567454, -5.45568704])"
      ]
     },
     "execution_count": 218,
     "metadata": {},
     "output_type": "execute_result"
    }
   ],
   "source": [
    "from sklearn.model_selection import cross_val_score, KFold\n",
    "\n",
    "scores = cross_val_score(lr_model, X_train, y_train, cv=5, scoring='neg_mean_squared_error')\n",
    "\n",
    "scores"
   ]
  },
  {
   "cell_type": "markdown",
   "metadata": {
    "tags": []
   },
   "source": [
    "### 5.4 Calculate the mean and standard deviation of the cross-validation scores to get an overall assessment of the model's performance:"
   ]
  },
  {
   "cell_type": "code",
   "execution_count": null,
   "metadata": {
    "tags": []
   },
   "outputs": [
    {
     "name": "stdout",
     "output_type": "stream",
     "text": [
      "Cross-Validation Mean Score: 4.345522073007399\n"
     ]
    }
   ],
   "source": [
    "mean_score = -scores.mean()  # Take the negative value to get the mean squared error\n",
    "\n",
    "print(f'Cross-Validation Mean Score: {mean_score}')\n"
   ]
  },
  {
   "cell_type": "markdown",
   "metadata": {},
   "source": [
    "**NOTE** cross_val_score in scikit-learn does allow you to use mean squared error (MSE) as a scoring metric. \n",
    "\n",
    "However, you should use 'neg_mean_squared_error' as the scoring parameter when you call cross_val_score. \n",
    "\n",
    "The reason for this naming convention is that cross_val_score follows a convention where greater values are better for scoring, while MSE is typically minimized (you want it to be as small as possible). \n",
    "\n",
    "To reconcile this, you use the negative MSE, which turns it into a maximizing score (higher is better).\n",
    "\n",
    "Here's how you can use cross_val_score with negative mean squared error:\n",
    "\n",
    "scores = cross_val_score(model, X, y, cv=5, scoring=make_scorer(mean_squared_error, greater_is_better=False))\n",
    "\n"
   ]
  },
  {
   "cell_type": "markdown",
   "metadata": {},
   "source": [
    "### 5.5 Train a Linear Regression model using Ridge and Lasso regularization with alpha=1"
   ]
  },
  {
   "cell_type": "code",
   "execution_count": null,
   "metadata": {
    "tags": []
   },
   "outputs": [],
   "source": [
    "from sklearn.linear_model import LinearRegression, Ridge, Lasso\n",
    "\n",
    "RidgeRegression = Ridge(alpha=1)\n",
    "ridge_model = RidgeRegression.fit(X_train, y_train)\n",
    "\n",
    "\n",
    "LassoRegression = Lasso(alpha=1)\n",
    "lasso_model = LassoRegression.fit(X_train, y_train)\n"
   ]
  },
  {
   "cell_type": "markdown",
   "metadata": {},
   "source": [
    "### Test your models on the test dataset and report on the MSE"
   ]
  },
  {
   "cell_type": "code",
   "execution_count": null,
   "metadata": {},
   "outputs": [
    {
     "name": "stdout",
     "output_type": "stream",
     "text": [
      "Ridge Regression MSE: 4.7727991836465735\n",
      "Lasso Regression MSE: 5.428927512796546\n"
     ]
    }
   ],
   "source": [
    "Ridge_y_predict = ridge_model.predict(X_test)\n",
    "Lasso_y_predict = lasso_model.predict(X_test)\n",
    "ridge_mse = mse(y_test, Ridge_y_predict)\n",
    "lasso_mse=mse(y_test, Lasso_y_predict)\n",
    "\n",
    "print(f'Ridge Regression MSE: {ridge_mse}')\n",
    "print(f'Lasso Regression MSE: {lasso_mse}')"
   ]
  },
  {
   "cell_type": "markdown",
   "metadata": {},
   "source": [
    "Compare the results from all the models"
   ]
  },
  {
   "cell_type": "code",
   "execution_count": null,
   "metadata": {},
   "outputs": [
    {
     "name": "stdout",
     "output_type": "stream",
     "text": [
      "Linear Regression MSE: 4.805093062229646\n",
      "Cross-Validation Mean Score: 5.622036270249344\n",
      "Ridge Regression MSE: 4.7727991836465735\n",
      "Lasso Regression MSE: 5.428927512796546\n"
     ]
    }
   ],
   "source": [
    "print(f'Linear Regression MSE: {lr_mse}')\n",
    "print(f'Cross-Validation Mean Score: {mean_score}')\n",
    "print(f'Ridge Regression MSE: {ridge_mse}')\n",
    "print(f'Lasso Regression MSE: {lasso_mse}')\n"
   ]
  },
  {
   "cell_type": "markdown",
   "metadata": {
    "tags": []
   },
   "source": [
    "### 5.6 Plot the prediction vs. actual for the best performing model"
   ]
  },
  {
   "cell_type": "code",
   "execution_count": null,
   "metadata": {
    "tags": []
   },
   "outputs": [
    {
     "data": {
      "image/png": "[encoded data removed]",
      "text/plain": [
       "<Figure size 640x480 with 1 Axes>"
      ]
     },
     "metadata": {},
     "output_type": "display_data"
    }
   ],
   "source": [
    "import matplotlib.pyplot as plt\n",
    "\n",
    "# Assuming 'lr_model' is your best performing trained linear regression model\n",
    "lr_y_predict = lr_model.predict(X_test)  # X is your feature data\n",
    "plt.scatter(lr_y_predict, y_test)  # y is your actual target values\n",
    "plt.xlabel(\"G3 Predicted Values\")\n",
    "plt.ylabel(\"G3 Actual Values\")\n",
    "plt.title(\"Predicted vs. Actual Values\")\n",
    "plt.show()"
   ]
  },
  {
   "cell_type": "markdown",
   "metadata": {},
   "source": [
    "# Markdown for Jupyter notebooks cheatsheet\n",
    "\n",
    "Source: https://www.ibm.com/docs/en/watson-studio-local/1.2.3?topic=notebooks-markdown-jupyter-cheatsheet\n",
    "\n",
    "Here's how to format Markdown cells in Jupyter notebooks:\n",
    "\n",
    "Headings\n",
    "\n",
    "Use the number sign (#) followed by a blank space for notebook titles and section headings:\n",
    "# for titles\n",
    "## for major headings\n",
    "### for subheadings\n",
    "#### for 4th level subheadings\n",
    "\n",
    "### Emphasis\n",
    "\n",
    "Use the following code to emphasize text:\n",
    "\n",
    "Bold text: __string__ or **string**\n",
    "\n",
    "Italic text: _string_ or *string*\n",
    "\n",
    "\n",
    "### Bullets\n",
    "\n",
    "To create a circular bullet point, use one of the following methods. Each bullet point must be on its own line.\n",
    "\n",
    "A hyphen (-) followed by one or two spaces, for example: - Bulleted item\n",
    "\n",
    "A space, a hyphen (-) and a space, for example: - Bulleted item\n",
    "\n",
    "An asterisk (*) followed by one or two spaces, for example: * Bulleted item\n",
    "\n",
    "## Numbered lists\n",
    "\n",
    "To create a numbered list, enter 1. followed by a space, for example:\n",
    "1. Numbered item\n",
    "1. Numbered item\n",
    "\n",
    "For simplicity, you use 1. before each entry. The list will be numbered correctly when you run the cell.\n",
    "\n"
   ]
  }
 ],
 "metadata": {
  "kernelspec": {
   "display_name": "Python 3 (ipykernel)",
   "language": "python",
   "name": "python3"
  },
  "language_info": {
   "codemirror_mode": {
    "name": "ipython",
    "version": 3
   },
   "file_extension": ".py",
   "mimetype": "text/x-python",
   "name": "python",
   "nbconvert_exporter": "python",
   "pygments_lexer": "ipython3",
   "version": "3.12.2"
  }
 },
 "nbformat": 4,
 "nbformat_minor": 4
}
